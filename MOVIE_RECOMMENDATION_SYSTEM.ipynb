{
 "cells": [
  {
   "cell_type": "markdown",
   "id": "56280fc3",
   "metadata": {},
   "source": [
    "## Importing the libraries"
   ]
  },
  {
   "cell_type": "code",
   "execution_count": 1,
   "id": "edeb056e",
   "metadata": {},
   "outputs": [],
   "source": [
    "import numpy as np\n",
    "import pandas as pd\n",
    "import difflib ## this is used to give the most closest match given by the user\n",
    "from sklearn.feature_extraction.text import TfidfVectorizer ## TfidfVectorizer is used to convert text data into numerical data \n",
    "from sklearn.metrics.pairwise import cosine_similarity ##cosine similarity is used to  compare the similarity of one entity with the other"
   ]
  },
  {
   "cell_type": "code",
   "execution_count": 2,
   "id": "32cb8b21",
   "metadata": {},
   "outputs": [],
   "source": [
    "import os"
   ]
  },
  {
   "cell_type": "code",
   "execution_count": 3,
   "id": "dc21e5ba",
   "metadata": {},
   "outputs": [
    {
     "data": {
      "text/plain": [
       "'C:\\\\Users\\\\Akash.DESKTOP-KMFJKOI\\\\Desktop\\\\numpy\\\\movie recommendation_for_cv'"
      ]
     },
     "execution_count": 3,
     "metadata": {},
     "output_type": "execute_result"
    }
   ],
   "source": [
    "os.getcwd()"
   ]
  },
  {
   "cell_type": "markdown",
   "id": "26434f32",
   "metadata": {},
   "source": [
    "## Data collection and Preprocessing"
   ]
  },
  {
   "cell_type": "code",
   "execution_count": 4,
   "id": "79a20479",
   "metadata": {},
   "outputs": [],
   "source": [
    "path='C:\\\\Users\\\\Akash.DESKTOP-KMFJKOI\\\\Desktop\\\\numpy\\\\movie recommendation_for_cv\\\\'"
   ]
  },
  {
   "cell_type": "code",
   "execution_count": 5,
   "id": "98e365e4",
   "metadata": {},
   "outputs": [],
   "source": [
    "# loading the data from the csv file to apandas dataframe\n",
    "movies_data = pd.read_csv(path+\"MOVIE.csv\",low_memory=False)"
   ]
  },
  {
   "cell_type": "code",
   "execution_count": 6,
   "id": "91e0f2db",
   "metadata": {
    "scrolled": true
   },
   "outputs": [
    {
     "data": {
      "text/html": [
       "<div>\n",
       "<style scoped>\n",
       "    .dataframe tbody tr th:only-of-type {\n",
       "        vertical-align: middle;\n",
       "    }\n",
       "\n",
       "    .dataframe tbody tr th {\n",
       "        vertical-align: top;\n",
       "    }\n",
       "\n",
       "    .dataframe thead th {\n",
       "        text-align: right;\n",
       "    }\n",
       "</style>\n",
       "<table border=\"1\" class=\"dataframe\">\n",
       "  <thead>\n",
       "    <tr style=\"text-align: right;\">\n",
       "      <th></th>\n",
       "      <th>index</th>\n",
       "      <th>budget</th>\n",
       "      <th>genres</th>\n",
       "      <th>homepage</th>\n",
       "      <th>id</th>\n",
       "      <th>keywords</th>\n",
       "      <th>original_language</th>\n",
       "      <th>original_title</th>\n",
       "      <th>overview</th>\n",
       "      <th>popularity</th>\n",
       "      <th>...</th>\n",
       "      <th>runtime</th>\n",
       "      <th>spoken_languages</th>\n",
       "      <th>status</th>\n",
       "      <th>tagline</th>\n",
       "      <th>title</th>\n",
       "      <th>vote_average</th>\n",
       "      <th>vote_count</th>\n",
       "      <th>cast</th>\n",
       "      <th>crew</th>\n",
       "      <th>director</th>\n",
       "    </tr>\n",
       "  </thead>\n",
       "  <tbody>\n",
       "    <tr>\n",
       "      <th>0</th>\n",
       "      <td>0</td>\n",
       "      <td>237000000</td>\n",
       "      <td>Action Adventure Fantasy Science Fiction</td>\n",
       "      <td>http://www.avatarmovie.com/</td>\n",
       "      <td>19995</td>\n",
       "      <td>culture clash future space war space colony so...</td>\n",
       "      <td>en</td>\n",
       "      <td>Avatar</td>\n",
       "      <td>In the 22nd century, a paraplegic Marine is di...</td>\n",
       "      <td>150.437577</td>\n",
       "      <td>...</td>\n",
       "      <td>162.0</td>\n",
       "      <td>[{\"iso_639_1\": \"en\", \"name\": \"English\"}, {\"iso...</td>\n",
       "      <td>Released</td>\n",
       "      <td>Enter the World of Pandora.</td>\n",
       "      <td>Avatar</td>\n",
       "      <td>7.2</td>\n",
       "      <td>11800</td>\n",
       "      <td>Sam Worthington Zoe Saldana Sigourney Weaver S...</td>\n",
       "      <td>[{'name': 'Stephen E. Rivkin', 'gender': 0, 'd...</td>\n",
       "      <td>James Cameron</td>\n",
       "    </tr>\n",
       "    <tr>\n",
       "      <th>1</th>\n",
       "      <td>1</td>\n",
       "      <td>300000000</td>\n",
       "      <td>Adventure Fantasy Action</td>\n",
       "      <td>http://disney.go.com/disneypictures/pirates/</td>\n",
       "      <td>285</td>\n",
       "      <td>ocean drug abuse exotic island east india trad...</td>\n",
       "      <td>en</td>\n",
       "      <td>Pirates of the Caribbean: At World's End</td>\n",
       "      <td>Captain Barbossa, long believed to be dead, ha...</td>\n",
       "      <td>139.082615</td>\n",
       "      <td>...</td>\n",
       "      <td>169.0</td>\n",
       "      <td>[{\"iso_639_1\": \"en\", \"name\": \"English\"}]</td>\n",
       "      <td>Released</td>\n",
       "      <td>At the end of the world, the adventure begins.</td>\n",
       "      <td>Pirates of the Caribbean: At World's End</td>\n",
       "      <td>6.9</td>\n",
       "      <td>4500</td>\n",
       "      <td>Johnny Depp Orlando Bloom Keira Knightley Stel...</td>\n",
       "      <td>[{'name': 'Dariusz Wolski', 'gender': 2, 'depa...</td>\n",
       "      <td>Gore Verbinski</td>\n",
       "    </tr>\n",
       "    <tr>\n",
       "      <th>2</th>\n",
       "      <td>2</td>\n",
       "      <td>245000000</td>\n",
       "      <td>Action Adventure Crime</td>\n",
       "      <td>http://www.sonypictures.com/movies/spectre/</td>\n",
       "      <td>206647</td>\n",
       "      <td>spy based on novel secret agent sequel mi6</td>\n",
       "      <td>en</td>\n",
       "      <td>Spectre</td>\n",
       "      <td>A cryptic message from Bond’s past sends him o...</td>\n",
       "      <td>107.376788</td>\n",
       "      <td>...</td>\n",
       "      <td>148.0</td>\n",
       "      <td>[{\"iso_639_1\": \"fr\", \"name\": \"Fran\\u00e7ais\"},...</td>\n",
       "      <td>Released</td>\n",
       "      <td>A Plan No One Escapes</td>\n",
       "      <td>Spectre</td>\n",
       "      <td>6.3</td>\n",
       "      <td>4466</td>\n",
       "      <td>Daniel Craig Christoph Waltz L\\u00e9a Seydoux ...</td>\n",
       "      <td>[{'name': 'Thomas Newman', 'gender': 2, 'depar...</td>\n",
       "      <td>Sam Mendes</td>\n",
       "    </tr>\n",
       "    <tr>\n",
       "      <th>3</th>\n",
       "      <td>3</td>\n",
       "      <td>250000000</td>\n",
       "      <td>Action Crime Drama Thriller</td>\n",
       "      <td>http://www.thedarkknightrises.com/</td>\n",
       "      <td>49026</td>\n",
       "      <td>dc comics crime fighter terrorist secret ident...</td>\n",
       "      <td>en</td>\n",
       "      <td>The Dark Knight Rises</td>\n",
       "      <td>Following the death of District Attorney Harve...</td>\n",
       "      <td>112.312950</td>\n",
       "      <td>...</td>\n",
       "      <td>165.0</td>\n",
       "      <td>[{\"iso_639_1\": \"en\", \"name\": \"English\"}]</td>\n",
       "      <td>Released</td>\n",
       "      <td>The Legend Ends</td>\n",
       "      <td>The Dark Knight Rises</td>\n",
       "      <td>7.6</td>\n",
       "      <td>9106</td>\n",
       "      <td>Christian Bale Michael Caine Gary Oldman Anne ...</td>\n",
       "      <td>[{'name': 'Hans Zimmer', 'gender': 2, 'departm...</td>\n",
       "      <td>Christopher Nolan</td>\n",
       "    </tr>\n",
       "    <tr>\n",
       "      <th>4</th>\n",
       "      <td>4</td>\n",
       "      <td>260000000</td>\n",
       "      <td>Action Adventure Science Fiction</td>\n",
       "      <td>http://movies.disney.com/john-carter</td>\n",
       "      <td>49529</td>\n",
       "      <td>based on novel mars medallion space travel pri...</td>\n",
       "      <td>en</td>\n",
       "      <td>John Carter</td>\n",
       "      <td>John Carter is a war-weary, former military ca...</td>\n",
       "      <td>43.926995</td>\n",
       "      <td>...</td>\n",
       "      <td>132.0</td>\n",
       "      <td>[{\"iso_639_1\": \"en\", \"name\": \"English\"}]</td>\n",
       "      <td>Released</td>\n",
       "      <td>Lost in our world, found in another.</td>\n",
       "      <td>John Carter</td>\n",
       "      <td>6.1</td>\n",
       "      <td>2124</td>\n",
       "      <td>Taylor Kitsch Lynn Collins Samantha Morton Wil...</td>\n",
       "      <td>[{'name': 'Andrew Stanton', 'gender': 2, 'depa...</td>\n",
       "      <td>Andrew Stanton</td>\n",
       "    </tr>\n",
       "    <tr>\n",
       "      <th>...</th>\n",
       "      <td>...</td>\n",
       "      <td>...</td>\n",
       "      <td>...</td>\n",
       "      <td>...</td>\n",
       "      <td>...</td>\n",
       "      <td>...</td>\n",
       "      <td>...</td>\n",
       "      <td>...</td>\n",
       "      <td>...</td>\n",
       "      <td>...</td>\n",
       "      <td>...</td>\n",
       "      <td>...</td>\n",
       "      <td>...</td>\n",
       "      <td>...</td>\n",
       "      <td>...</td>\n",
       "      <td>...</td>\n",
       "      <td>...</td>\n",
       "      <td>...</td>\n",
       "      <td>...</td>\n",
       "      <td>...</td>\n",
       "      <td>...</td>\n",
       "    </tr>\n",
       "    <tr>\n",
       "      <th>4798</th>\n",
       "      <td>4798</td>\n",
       "      <td>220000</td>\n",
       "      <td>Action Crime Thriller</td>\n",
       "      <td>NaN</td>\n",
       "      <td>9367</td>\n",
       "      <td>united states\\u2013mexico barrier legs arms pa...</td>\n",
       "      <td>es</td>\n",
       "      <td>El Mariachi</td>\n",
       "      <td>El Mariachi just wants to play his guitar and ...</td>\n",
       "      <td>14.269792</td>\n",
       "      <td>...</td>\n",
       "      <td>81.0</td>\n",
       "      <td>[{\"iso_639_1\": \"es\", \"name\": \"Espa\\u00f1ol\"}]</td>\n",
       "      <td>Released</td>\n",
       "      <td>He didn't come looking for trouble, but troubl...</td>\n",
       "      <td>El Mariachi</td>\n",
       "      <td>6.6</td>\n",
       "      <td>238</td>\n",
       "      <td>Carlos Gallardo Jaime de Hoyos Peter Marquardt...</td>\n",
       "      <td>[{'name': 'Robert Rodriguez', 'gender': 0, 'de...</td>\n",
       "      <td>Robert Rodriguez</td>\n",
       "    </tr>\n",
       "    <tr>\n",
       "      <th>4799</th>\n",
       "      <td>4799</td>\n",
       "      <td>9000</td>\n",
       "      <td>Comedy Romance</td>\n",
       "      <td>NaN</td>\n",
       "      <td>72766</td>\n",
       "      <td>NaN</td>\n",
       "      <td>en</td>\n",
       "      <td>Newlyweds</td>\n",
       "      <td>A newlywed couple's honeymoon is upended by th...</td>\n",
       "      <td>0.642552</td>\n",
       "      <td>...</td>\n",
       "      <td>85.0</td>\n",
       "      <td>[]</td>\n",
       "      <td>Released</td>\n",
       "      <td>A newlywed couple's honeymoon is upended by th...</td>\n",
       "      <td>Newlyweds</td>\n",
       "      <td>5.9</td>\n",
       "      <td>5</td>\n",
       "      <td>Edward Burns Kerry Bish\\u00e9 Marsha Dietlein ...</td>\n",
       "      <td>[{'name': 'Edward Burns', 'gender': 2, 'depart...</td>\n",
       "      <td>Edward Burns</td>\n",
       "    </tr>\n",
       "    <tr>\n",
       "      <th>4800</th>\n",
       "      <td>4800</td>\n",
       "      <td>0</td>\n",
       "      <td>Comedy Drama Romance TV Movie</td>\n",
       "      <td>http://www.hallmarkchannel.com/signedsealeddel...</td>\n",
       "      <td>231617</td>\n",
       "      <td>date love at first sight narration investigati...</td>\n",
       "      <td>en</td>\n",
       "      <td>Signed, Sealed, Delivered</td>\n",
       "      <td>\"Signed, Sealed, Delivered\" introduces a dedic...</td>\n",
       "      <td>1.444476</td>\n",
       "      <td>...</td>\n",
       "      <td>120.0</td>\n",
       "      <td>[{\"iso_639_1\": \"en\", \"name\": \"English\"}]</td>\n",
       "      <td>Released</td>\n",
       "      <td>NaN</td>\n",
       "      <td>Signed, Sealed, Delivered</td>\n",
       "      <td>7.0</td>\n",
       "      <td>6</td>\n",
       "      <td>Eric Mabius Kristin Booth Crystal Lowe Geoff G...</td>\n",
       "      <td>[{'name': 'Carla Hetland', 'gender': 0, 'depar...</td>\n",
       "      <td>Scott Smith</td>\n",
       "    </tr>\n",
       "    <tr>\n",
       "      <th>4801</th>\n",
       "      <td>4801</td>\n",
       "      <td>0</td>\n",
       "      <td>NaN</td>\n",
       "      <td>http://shanghaicalling.com/</td>\n",
       "      <td>126186</td>\n",
       "      <td>NaN</td>\n",
       "      <td>en</td>\n",
       "      <td>Shanghai Calling</td>\n",
       "      <td>When ambitious New York attorney Sam is sent t...</td>\n",
       "      <td>0.857008</td>\n",
       "      <td>...</td>\n",
       "      <td>98.0</td>\n",
       "      <td>[{\"iso_639_1\": \"en\", \"name\": \"English\"}]</td>\n",
       "      <td>Released</td>\n",
       "      <td>A New Yorker in Shanghai</td>\n",
       "      <td>Shanghai Calling</td>\n",
       "      <td>5.7</td>\n",
       "      <td>7</td>\n",
       "      <td>Daniel Henney Eliza Coupe Bill Paxton Alan Ruc...</td>\n",
       "      <td>[{'name': 'Daniel Hsia', 'gender': 2, 'departm...</td>\n",
       "      <td>Daniel Hsia</td>\n",
       "    </tr>\n",
       "    <tr>\n",
       "      <th>4802</th>\n",
       "      <td>4802</td>\n",
       "      <td>0</td>\n",
       "      <td>Documentary</td>\n",
       "      <td>NaN</td>\n",
       "      <td>25975</td>\n",
       "      <td>obsession camcorder crush dream girl</td>\n",
       "      <td>en</td>\n",
       "      <td>My Date with Drew</td>\n",
       "      <td>Ever since the second grade when he first saw ...</td>\n",
       "      <td>1.929883</td>\n",
       "      <td>...</td>\n",
       "      <td>90.0</td>\n",
       "      <td>[{\"iso_639_1\": \"en\", \"name\": \"English\"}]</td>\n",
       "      <td>Released</td>\n",
       "      <td>NaN</td>\n",
       "      <td>My Date with Drew</td>\n",
       "      <td>6.3</td>\n",
       "      <td>16</td>\n",
       "      <td>Drew Barrymore Brian Herzlinger Corey Feldman ...</td>\n",
       "      <td>[{'name': 'Clark Peterson', 'gender': 2, 'depa...</td>\n",
       "      <td>Brian Herzlinger</td>\n",
       "    </tr>\n",
       "  </tbody>\n",
       "</table>\n",
       "<p>4803 rows × 24 columns</p>\n",
       "</div>"
      ],
      "text/plain": [
       "      index     budget                                    genres  \\\n",
       "0         0  237000000  Action Adventure Fantasy Science Fiction   \n",
       "1         1  300000000                  Adventure Fantasy Action   \n",
       "2         2  245000000                    Action Adventure Crime   \n",
       "3         3  250000000               Action Crime Drama Thriller   \n",
       "4         4  260000000          Action Adventure Science Fiction   \n",
       "...     ...        ...                                       ...   \n",
       "4798   4798     220000                     Action Crime Thriller   \n",
       "4799   4799       9000                            Comedy Romance   \n",
       "4800   4800          0             Comedy Drama Romance TV Movie   \n",
       "4801   4801          0                                       NaN   \n",
       "4802   4802          0                               Documentary   \n",
       "\n",
       "                                               homepage      id  \\\n",
       "0                           http://www.avatarmovie.com/   19995   \n",
       "1          http://disney.go.com/disneypictures/pirates/     285   \n",
       "2           http://www.sonypictures.com/movies/spectre/  206647   \n",
       "3                    http://www.thedarkknightrises.com/   49026   \n",
       "4                  http://movies.disney.com/john-carter   49529   \n",
       "...                                                 ...     ...   \n",
       "4798                                                NaN    9367   \n",
       "4799                                                NaN   72766   \n",
       "4800  http://www.hallmarkchannel.com/signedsealeddel...  231617   \n",
       "4801                        http://shanghaicalling.com/  126186   \n",
       "4802                                                NaN   25975   \n",
       "\n",
       "                                               keywords original_language  \\\n",
       "0     culture clash future space war space colony so...                en   \n",
       "1     ocean drug abuse exotic island east india trad...                en   \n",
       "2            spy based on novel secret agent sequel mi6                en   \n",
       "3     dc comics crime fighter terrorist secret ident...                en   \n",
       "4     based on novel mars medallion space travel pri...                en   \n",
       "...                                                 ...               ...   \n",
       "4798  united states\\u2013mexico barrier legs arms pa...                es   \n",
       "4799                                                NaN                en   \n",
       "4800  date love at first sight narration investigati...                en   \n",
       "4801                                                NaN                en   \n",
       "4802               obsession camcorder crush dream girl                en   \n",
       "\n",
       "                                original_title  \\\n",
       "0                                       Avatar   \n",
       "1     Pirates of the Caribbean: At World's End   \n",
       "2                                      Spectre   \n",
       "3                        The Dark Knight Rises   \n",
       "4                                  John Carter   \n",
       "...                                        ...   \n",
       "4798                               El Mariachi   \n",
       "4799                                 Newlyweds   \n",
       "4800                 Signed, Sealed, Delivered   \n",
       "4801                          Shanghai Calling   \n",
       "4802                         My Date with Drew   \n",
       "\n",
       "                                               overview  popularity  ...  \\\n",
       "0     In the 22nd century, a paraplegic Marine is di...  150.437577  ...   \n",
       "1     Captain Barbossa, long believed to be dead, ha...  139.082615  ...   \n",
       "2     A cryptic message from Bond’s past sends him o...  107.376788  ...   \n",
       "3     Following the death of District Attorney Harve...  112.312950  ...   \n",
       "4     John Carter is a war-weary, former military ca...   43.926995  ...   \n",
       "...                                                 ...         ...  ...   \n",
       "4798  El Mariachi just wants to play his guitar and ...   14.269792  ...   \n",
       "4799  A newlywed couple's honeymoon is upended by th...    0.642552  ...   \n",
       "4800  \"Signed, Sealed, Delivered\" introduces a dedic...    1.444476  ...   \n",
       "4801  When ambitious New York attorney Sam is sent t...    0.857008  ...   \n",
       "4802  Ever since the second grade when he first saw ...    1.929883  ...   \n",
       "\n",
       "     runtime                                   spoken_languages    status  \\\n",
       "0      162.0  [{\"iso_639_1\": \"en\", \"name\": \"English\"}, {\"iso...  Released   \n",
       "1      169.0           [{\"iso_639_1\": \"en\", \"name\": \"English\"}]  Released   \n",
       "2      148.0  [{\"iso_639_1\": \"fr\", \"name\": \"Fran\\u00e7ais\"},...  Released   \n",
       "3      165.0           [{\"iso_639_1\": \"en\", \"name\": \"English\"}]  Released   \n",
       "4      132.0           [{\"iso_639_1\": \"en\", \"name\": \"English\"}]  Released   \n",
       "...      ...                                                ...       ...   \n",
       "4798    81.0      [{\"iso_639_1\": \"es\", \"name\": \"Espa\\u00f1ol\"}]  Released   \n",
       "4799    85.0                                                 []  Released   \n",
       "4800   120.0           [{\"iso_639_1\": \"en\", \"name\": \"English\"}]  Released   \n",
       "4801    98.0           [{\"iso_639_1\": \"en\", \"name\": \"English\"}]  Released   \n",
       "4802    90.0           [{\"iso_639_1\": \"en\", \"name\": \"English\"}]  Released   \n",
       "\n",
       "                                                tagline  \\\n",
       "0                           Enter the World of Pandora.   \n",
       "1        At the end of the world, the adventure begins.   \n",
       "2                                 A Plan No One Escapes   \n",
       "3                                       The Legend Ends   \n",
       "4                  Lost in our world, found in another.   \n",
       "...                                                 ...   \n",
       "4798  He didn't come looking for trouble, but troubl...   \n",
       "4799  A newlywed couple's honeymoon is upended by th...   \n",
       "4800                                                NaN   \n",
       "4801                           A New Yorker in Shanghai   \n",
       "4802                                                NaN   \n",
       "\n",
       "                                         title vote_average vote_count  \\\n",
       "0                                       Avatar          7.2      11800   \n",
       "1     Pirates of the Caribbean: At World's End          6.9       4500   \n",
       "2                                      Spectre          6.3       4466   \n",
       "3                        The Dark Knight Rises          7.6       9106   \n",
       "4                                  John Carter          6.1       2124   \n",
       "...                                        ...          ...        ...   \n",
       "4798                               El Mariachi          6.6        238   \n",
       "4799                                 Newlyweds          5.9          5   \n",
       "4800                 Signed, Sealed, Delivered          7.0          6   \n",
       "4801                          Shanghai Calling          5.7          7   \n",
       "4802                         My Date with Drew          6.3         16   \n",
       "\n",
       "                                                   cast  \\\n",
       "0     Sam Worthington Zoe Saldana Sigourney Weaver S...   \n",
       "1     Johnny Depp Orlando Bloom Keira Knightley Stel...   \n",
       "2     Daniel Craig Christoph Waltz L\\u00e9a Seydoux ...   \n",
       "3     Christian Bale Michael Caine Gary Oldman Anne ...   \n",
       "4     Taylor Kitsch Lynn Collins Samantha Morton Wil...   \n",
       "...                                                 ...   \n",
       "4798  Carlos Gallardo Jaime de Hoyos Peter Marquardt...   \n",
       "4799  Edward Burns Kerry Bish\\u00e9 Marsha Dietlein ...   \n",
       "4800  Eric Mabius Kristin Booth Crystal Lowe Geoff G...   \n",
       "4801  Daniel Henney Eliza Coupe Bill Paxton Alan Ruc...   \n",
       "4802  Drew Barrymore Brian Herzlinger Corey Feldman ...   \n",
       "\n",
       "                                                   crew           director  \n",
       "0     [{'name': 'Stephen E. Rivkin', 'gender': 0, 'd...      James Cameron  \n",
       "1     [{'name': 'Dariusz Wolski', 'gender': 2, 'depa...     Gore Verbinski  \n",
       "2     [{'name': 'Thomas Newman', 'gender': 2, 'depar...         Sam Mendes  \n",
       "3     [{'name': 'Hans Zimmer', 'gender': 2, 'departm...  Christopher Nolan  \n",
       "4     [{'name': 'Andrew Stanton', 'gender': 2, 'depa...     Andrew Stanton  \n",
       "...                                                 ...                ...  \n",
       "4798  [{'name': 'Robert Rodriguez', 'gender': 0, 'de...   Robert Rodriguez  \n",
       "4799  [{'name': 'Edward Burns', 'gender': 2, 'depart...       Edward Burns  \n",
       "4800  [{'name': 'Carla Hetland', 'gender': 0, 'depar...        Scott Smith  \n",
       "4801  [{'name': 'Daniel Hsia', 'gender': 2, 'departm...        Daniel Hsia  \n",
       "4802  [{'name': 'Clark Peterson', 'gender': 2, 'depa...   Brian Herzlinger  \n",
       "\n",
       "[4803 rows x 24 columns]"
      ]
     },
     "execution_count": 6,
     "metadata": {},
     "output_type": "execute_result"
    }
   ],
   "source": [
    "movies_data"
   ]
  },
  {
   "cell_type": "code",
   "execution_count": 7,
   "id": "fb817745",
   "metadata": {},
   "outputs": [
    {
     "data": {
      "text/plain": [
       "(4803, 24)"
      ]
     },
     "execution_count": 7,
     "metadata": {},
     "output_type": "execute_result"
    }
   ],
   "source": [
    "# number of rows and columns in the data frame\n",
    "\n",
    "movies_data.shape"
   ]
  },
  {
   "cell_type": "code",
   "execution_count": 8,
   "id": "c8247369",
   "metadata": {},
   "outputs": [
    {
     "name": "stdout",
     "output_type": "stream",
     "text": [
      "['genres', 'keywords', 'tagline', 'cast', 'director']\n"
     ]
    }
   ],
   "source": [
    "# selecting the relevant features for recommendation\n",
    "\n",
    "selected_features = ['genres','keywords','tagline','cast','director']  ## here we can add more features..its up to you\n",
    "print(selected_features)"
   ]
  },
  {
   "cell_type": "code",
   "execution_count": 9,
   "id": "68389fae",
   "metadata": {},
   "outputs": [],
   "source": [
    "# replacing the null valuess with null string\n",
    "\n",
    "for feature in selected_features:\n",
    "  movies_data[feature] = movies_data[feature].fillna('')"
   ]
  },
  {
   "cell_type": "code",
   "execution_count": 10,
   "id": "3f8b9b7c",
   "metadata": {},
   "outputs": [],
   "source": [
    "# combining all the 5 selected features (we are combining these features because if user write any movie name then all its featues would be shown)\n",
    "\n",
    "combined_features = movies_data['genres']+' '+movies_data['keywords']+' '+movies_data['tagline']+' '+movies_data['cast']+' '+movies_data['director']"
   ]
  },
  {
   "cell_type": "code",
   "execution_count": 11,
   "id": "e39f397a",
   "metadata": {},
   "outputs": [
    {
     "name": "stdout",
     "output_type": "stream",
     "text": [
      "0       Action Adventure Fantasy Science Fiction cultu...\n",
      "1       Adventure Fantasy Action ocean drug abuse exot...\n",
      "2       Action Adventure Crime spy based on novel secr...\n",
      "3       Action Crime Drama Thriller dc comics crime fi...\n",
      "4       Action Adventure Science Fiction based on nove...\n",
      "                              ...                        \n",
      "4798    Action Crime Thriller united states\\u2013mexic...\n",
      "4799    Comedy Romance  A newlywed couple's honeymoon ...\n",
      "4800    Comedy Drama Romance TV Movie date love at fir...\n",
      "4801      A New Yorker in Shanghai Daniel Henney Eliza...\n",
      "4802    Documentary obsession camcorder crush dream gi...\n",
      "Length: 4803, dtype: object\n"
     ]
    }
   ],
   "source": [
    "print(combined_features)"
   ]
  },
  {
   "cell_type": "code",
   "execution_count": 12,
   "id": "de368997",
   "metadata": {},
   "outputs": [],
   "source": [
    "# converting the text data to feature vectors\n",
    "\n",
    "vectorizer = TfidfVectorizer()  ## just creating an instances of the TfidfVectorizer"
   ]
  },
  {
   "cell_type": "code",
   "execution_count": 13,
   "id": "a414339f",
   "metadata": {},
   "outputs": [],
   "source": [
    "feature_vectors = vectorizer.fit_transform(combined_features) ## in feature_vector we are going to fit and transform all the text data into numerical values "
   ]
  },
  {
   "cell_type": "code",
   "execution_count": 14,
   "id": "a6003290",
   "metadata": {},
   "outputs": [
    {
     "name": "stdout",
     "output_type": "stream",
     "text": [
      "  (0, 2432)\t0.17272411194153\n",
      "  (0, 7755)\t0.1128035714854756\n",
      "  (0, 13024)\t0.1942362060108871\n",
      "  (0, 10229)\t0.16058685400095302\n",
      "  (0, 8756)\t0.22709015857011816\n",
      "  (0, 14608)\t0.15150672398763912\n",
      "  (0, 16668)\t0.19843263965100372\n",
      "  (0, 14064)\t0.20596090415084142\n",
      "  (0, 13319)\t0.2177470539412484\n",
      "  (0, 17290)\t0.20197912553916567\n",
      "  (0, 17007)\t0.23643326319898797\n",
      "  (0, 13349)\t0.15021264094167086\n",
      "  (0, 11503)\t0.27211310056983656\n",
      "  (0, 11192)\t0.09049319826481456\n",
      "  (0, 16998)\t0.1282126322850579\n",
      "  (0, 15261)\t0.07095833561276566\n",
      "  (0, 4945)\t0.24025852494110758\n",
      "  (0, 14271)\t0.21392179219912877\n",
      "  (0, 3225)\t0.24960162956997736\n",
      "  (0, 16587)\t0.12549432354918996\n",
      "  (0, 14378)\t0.33962752210959823\n",
      "  (0, 5836)\t0.1646750903586285\n",
      "  (0, 3065)\t0.22208377802661425\n",
      "  (0, 3678)\t0.21392179219912877\n",
      "  (0, 5437)\t0.1036413987316636\n",
      "  :\t:\n",
      "  (4801, 17266)\t0.2886098184932947\n",
      "  (4801, 4835)\t0.24713765026963996\n",
      "  (4801, 403)\t0.17727585190343226\n",
      "  (4801, 6935)\t0.2886098184932947\n",
      "  (4801, 11663)\t0.21557500762727902\n",
      "  (4801, 1672)\t0.1564793427630879\n",
      "  (4801, 10929)\t0.13504166990041588\n",
      "  (4801, 7474)\t0.11307961713172225\n",
      "  (4801, 3796)\t0.3342808988877418\n",
      "  (4802, 6996)\t0.5700048226105303\n",
      "  (4802, 5367)\t0.22969114490410403\n",
      "  (4802, 3654)\t0.262512960498006\n",
      "  (4802, 2425)\t0.24002350969074696\n",
      "  (4802, 4608)\t0.24002350969074696\n",
      "  (4802, 6417)\t0.21753405888348784\n",
      "  (4802, 4371)\t0.1538239182675544\n",
      "  (4802, 12989)\t0.1696476532191718\n",
      "  (4802, 1316)\t0.1960747079005741\n",
      "  (4802, 4528)\t0.19504460807622875\n",
      "  (4802, 3436)\t0.21753405888348784\n",
      "  (4802, 6155)\t0.18056463596934083\n",
      "  (4802, 4980)\t0.16078053641367315\n",
      "  (4802, 2129)\t0.3099656128577656\n",
      "  (4802, 4518)\t0.16784466610624255\n",
      "  (4802, 11161)\t0.17867407682173203\n"
     ]
    }
   ],
   "source": [
    "print(feature_vectors) ## for training our model we require text data into numerical values"
   ]
  },
  {
   "cell_type": "markdown",
   "id": "97275005",
   "metadata": {},
   "source": [
    "## Cosine Similarity "
   ]
  },
  {
   "cell_type": "code",
   "execution_count": 15,
   "id": "5fdc0604",
   "metadata": {},
   "outputs": [],
   "source": [
    "# getting the similarity scores using cosine similarity\n",
    "\n",
    "similarity = cosine_similarity(feature_vectors)"
   ]
  },
  {
   "cell_type": "code",
   "execution_count": 16,
   "id": "f61a26c5",
   "metadata": {},
   "outputs": [
    {
     "name": "stdout",
     "output_type": "stream",
     "text": [
      "[[1.         0.07219487 0.037733   ... 0.         0.         0.        ]\n",
      " [0.07219487 1.         0.03281499 ... 0.03575545 0.         0.        ]\n",
      " [0.037733   0.03281499 1.         ... 0.         0.05389661 0.        ]\n",
      " ...\n",
      " [0.         0.03575545 0.         ... 1.         0.         0.02651502]\n",
      " [0.         0.         0.05389661 ... 0.         1.         0.        ]\n",
      " [0.         0.         0.         ... 0.02651502 0.         1.        ]]\n"
     ]
    }
   ],
   "source": [
    "print(similarity)  ##here the similarity is in the range between 0 to 1. 0 means it is not similar and 1 means completely similar"
   ]
  },
  {
   "cell_type": "code",
   "execution_count": 17,
   "id": "e195b540",
   "metadata": {},
   "outputs": [
    {
     "name": "stdout",
     "output_type": "stream",
     "text": [
      "(4803, 4803)\n"
     ]
    }
   ],
   "source": [
    "print(similarity.shape) ## each movie is compared with all other movies and cosine score is given to each movie"
   ]
  },
  {
   "cell_type": "markdown",
   "id": "1cf7b840",
   "metadata": {},
   "source": [
    "## Getting the movie name from the user"
   ]
  },
  {
   "cell_type": "code",
   "execution_count": 18,
   "id": "5c0116c6",
   "metadata": {},
   "outputs": [
    {
     "name": "stdout",
     "output_type": "stream",
     "text": [
      " Enter your favourite movie name : mama\n"
     ]
    }
   ],
   "source": [
    "# getting the movie name from the user\n",
    "\n",
    "movie_name = input(' Enter your favourite movie name : ')"
   ]
  },
  {
   "cell_type": "code",
   "execution_count": 19,
   "id": "bbb0214a",
   "metadata": {},
   "outputs": [],
   "source": [
    "# creating a list with all the movie names given in the dataset\n",
    "\n",
    "list_of_all_titles = movies_data['title'].tolist()\n",
    "list_of_all_titles = [x for x in list_of_all_titles if str(x) != 'nan']\n",
    "\n"
   ]
  },
  {
   "cell_type": "code",
   "execution_count": 20,
   "id": "ad10d14b",
   "metadata": {},
   "outputs": [
    {
     "name": "stdout",
     "output_type": "stream",
     "text": [
      "['Mama', 'Osama']\n"
     ]
    }
   ],
   "source": [
    "# finding the close match for the movie name given by the user\n",
    "\n",
    "find_close_match = difflib.get_close_matches( movie_name, list_of_all_titles)\n",
    "\n",
    "\n",
    "print(find_close_match)"
   ]
  },
  {
   "cell_type": "code",
   "execution_count": 21,
   "id": "3ae9698f",
   "metadata": {},
   "outputs": [
    {
     "name": "stdout",
     "output_type": "stream",
     "text": [
      "Mama\n"
     ]
    }
   ],
   "source": [
    "close_match = find_close_match[0] ## here we are representing the data which is the most closest one\n",
    "print(close_match)"
   ]
  },
  {
   "cell_type": "code",
   "execution_count": 22,
   "id": "21ed66be",
   "metadata": {},
   "outputs": [
    {
     "name": "stdout",
     "output_type": "stream",
     "text": [
      "2526\n"
     ]
    }
   ],
   "source": [
    "# finding the index of the movie with title\n",
    "\n",
    "index_of_the_movie = movies_data[movies_data.title == close_match]['index'].values[0]\n",
    "print(index_of_the_movie)"
   ]
  },
  {
   "cell_type": "code",
   "execution_count": 23,
   "id": "f33ddb5e",
   "metadata": {},
   "outputs": [
    {
     "name": "stdout",
     "output_type": "stream",
     "text": [
      "[(0, 0.0), (1, 0.012216750687283897), (2, 0.027111275471418384), (3, 0.0), (4, 0.0), (5, 0.014499962581802073), (6, 0.0), (7, 0.0), (8, 0.027369216285139837), (9, 0.0), (10, 0.0), (11, 0.03597414071329538), (12, 0.011083408623208798), (13, 0.0), (14, 0.0), (15, 0.0), (16, 0.0), (17, 0.03818528278727955), (18, 0.0), (19, 0.0), (20, 0.0), (21, 0.0), (22, 0.0), (23, 0.0229133786444951), (24, 0.0), (25, 0.0), (26, 0.0), (27, 0.0), (28, 0.010856159254118465), (29, 0.02772450613480195), (30, 0.014107031774430682), (31, 0.0), (32, 0.0), (33, 0.0), (34, 0.0), (35, 0.06047025959142014), (36, 0.010299559307242589), (37, 0.011413505783679572), (38, 0.0), (39, 0.0), (40, 0.0), (41, 0.0), (42, 0.0), (43, 0.0), (44, 0.0), (45, 0.02111547954291054), (46, 0.0), (47, 0.0), (48, 0.0), (49, 0.009083526077187196), (50, 0.0), (51, 0.0), (52, 0.0), (53, 0.0), (54, 0.0), (55, 0.0), (56, 0.0), (57, 0.0), (58, 0.012290337600289395), (59, 0.0), (60, 0.0), (61, 0.0), (62, 0.0), (63, 0.0), (64, 0.03867134075401008), (65, 0.0), (66, 0.0), (67, 0.0), (68, 0.0), (69, 0.0), (70, 0.0), (71, 0.0), (72, 0.0), (73, 0.0), (74, 0.0), (75, 0.0), (76, 0.0), (77, 0.0), (78, 0.0), (79, 0.0), (80, 0.011752103816999659), (81, 0.0), (82, 0.03226793221765023), (83, 0.025591613264145503), (84, 0.0), (85, 0.0), (86, 0.0), (87, 0.010677575331535849), (88, 0.02593077499395173), (89, 0.0), (90, 0.0), (91, 0.0), (92, 0.0), (93, 0.0), (94, 0.0), (95, 0.07484616502579915), (96, 0.010801314399891643), (97, 0.018092989680953915), (98, 0.028780663130758246), (99, 0.0), (100, 0.0), (101, 0.0), (102, 0.04143936168133694), (103, 0.0), (104, 0.0), (105, 0.0), (106, 0.0), (107, 0.0), (108, 0.0), (109, 0.0), (110, 0.012240445846546655), (111, 0.04918460392742345), (112, 0.0), (113, 0.026943888459923047), (114, 0.024268066808983375), (115, 0.026944252733365502), (116, 0.030682830046963948), (117, 0.009920233446927792), (118, 0.0), (119, 0.0), (120, 0.0), (121, 0.010203823045676087), (122, 0.0), (123, 0.0), (124, 0.012434414755471293), (125, 0.0), (126, 0.0), (127, 0.0), (128, 0.0), (129, 0.0), (130, 0.0), (131, 0.0), (132, 0.0), (133, 0.0), (134, 0.0), (135, 0.030804815420315865), (136, 0.0), (137, 0.0), (138, 0.0), (139, 0.0), (140, 0.0), (141, 0.0), (142, 0.0), (143, 0.0), (144, 0.0), (145, 0.011551438237368865), (146, 0.0), (147, 0.0), (148, 0.0), (149, 0.0), (150, 0.0), (151, 0.0), (152, 0.0), (153, 0.0), (154, 0.0), (155, 0.0), (156, 0.0), (157, 0.0), (158, 0.0), (159, 0.0), (160, 0.010915355249383734), (161, 0.1809670081649259), (162, 0.033780292570949624), (163, 0.009778502837204587), (164, 0.014246673459075552), (165, 0.0), (166, 0.0), (167, 0.0), (168, 0.0), (169, 0.0), (170, 0.00896940777748873), (171, 0.0), (172, 0.037542959443157074), (173, 0.0), (174, 0.0), (175, 0.010352111817127467), (176, 0.0), (177, 0.0), (178, 0.0), (179, 0.0), (180, 0.0), (181, 0.0), (182, 0.0), (183, 0.0), (184, 0.0), (185, 0.0), (186, 0.0), (187, 0.0), (188, 0.037858555892012216), (189, 0.011963468067563952), (190, 0.05352809801401609), (191, 0.025472044553460835), (192, 0.0), (193, 0.022874431567861335), (194, 0.0), (195, 0.0), (196, 0.011370404151787052), (197, 0.026946000109423676), (198, 0.0), (199, 0.0), (200, 0.0), (201, 0.0), (202, 0.02940007535995186), (203, 0.0), (204, 0.0), (205, 0.011232619639320826), (206, 0.0), (207, 0.0), (208, 0.02533009944112731), (209, 0.0), (210, 0.0), (211, 0.013956859266188348), (212, 0.0), (213, 0.0), (214, 0.011101314507649906), (215, 0.029140573559464204), (216, 0.0), (217, 0.06971737230798851), (218, 0.0), (219, 0.0), (220, 0.0), (221, 0.0), (222, 0.0), (223, 0.0), (224, 0.0), (225, 0.0), (226, 0.03187915411998144), (227, 0.0), (228, 0.1952297420851724), (229, 0.01110136244673778), (230, 0.0109904160181464), (231, 0.0), (232, 0.0), (233, 0.0), (234, 0.0), (235, 0.0), (236, 0.0), (237, 0.0759758258628827), (238, 0.04277016897236979), (239, 0.0), (240, 0.011008019443791532), (241, 0.04509027062580516), (242, 0.011505748696785742), (243, 0.0), (244, 0.00913979535616716), (245, 0.028087419498621848), (246, 0.0), (247, 0.03864924725186619), (248, 0.0), (249, 0.0), (250, 0.0), (251, 0.02626928747459892), (252, 0.0), (253, 0.0), (254, 0.0), (255, 0.0), (256, 0.0), (257, 0.0), (258, 0.0), (259, 0.0), (260, 0.010700385263588649), (261, 0.012400104205471312), (262, 0.0), (263, 0.0), (264, 0.0), (265, 0.0), (266, 0.0), (267, 0.0), (268, 0.0), (269, 0.012516982802913705), (270, 0.08773678638993081), (271, 0.015314729385028187), (272, 0.0), (273, 0.0), (274, 0.0), (275, 0.010231578196169447), (276, 0.03751006376366561), (277, 0.02645138000371825), (278, 0.0), (279, 0.0), (280, 0.0), (281, 0.0), (282, 0.0), (283, 0.0), (284, 0.0), (285, 0.009937913959478016), (286, 0.0), (287, 0.0), (288, 0.0), (289, 0.0), (290, 0.0), (291, 0.0), (292, 0.0), (293, 0.0), (294, 0.0), (295, 0.0), (296, 0.024328992551651562), (297, 0.0), (298, 0.0), (299, 0.0), (300, 0.008982997911096318), (301, 0.011170527544197117), (302, 0.0), (303, 0.0), (304, 0.0), (305, 0.0), (306, 0.0), (307, 0.0), (308, 0.009249120426728142), (309, 0.0), (310, 0.0), (311, 0.0), (312, 0.009497395342516977), (313, 0.0), (314, 0.0), (315, 0.0095600642717029), (316, 0.0271260638976213), (317, 0.0), (318, 0.0), (319, 0.0), (320, 0.0), (321, 0.0), (322, 0.01122483949132577), (323, 0.03700864015668957), (324, 0.0), (325, 0.008017101729763752), (326, 0.01087978057973359), (327, 0.0), (328, 0.0), (329, 0.010623737496424894), (330, 0.010903435540143374), (331, 0.0), (332, 0.02152047467173148), (333, 0.0), (334, 0.0), (335, 0.0), (336, 0.060658013387864806), (337, 0.01806582131353313), (338, 0.0), (339, 0.0), (340, 0.008339194731399024), (341, 0.0), (342, 0.0), (343, 0.0), (344, 0.0), (345, 0.0), (346, 0.020701359887312986), (347, 0.0), (348, 0.0), (349, 0.0), (350, 0.0), (351, 0.0), (352, 0.0), (353, 0.0), (354, 0.025693814423223646), (355, 0.0), (356, 0.0), (357, 0.0), (358, 0.009976548801214154), (359, 0.0), (360, 0.0), (361, 0.0), (362, 0.0), (363, 0.05983095715334954), (364, 0.0), (365, 0.0), (366, 0.0), (367, 0.0), (368, 0.0), (369, 0.0), (370, 0.0), (371, 0.0), (372, 0.0), (373, 0.0), (374, 0.009585427133796759), (375, 0.0), (376, 0.010178224239418509), (377, 0.0), (378, 0.0), (379, 0.0), (380, 0.0), (381, 0.0), (382, 0.0), (383, 0.0), (384, 0.0), (385, 0.0), (386, 0.0), (387, 0.0), (388, 0.0321752782659074), (389, 0.0), (390, 0.0), (391, 0.009863928502154345), (392, 0.03530526656790813), (393, 0.0), (394, 0.0), (395, 0.0), (396, 0.0), (397, 0.0), (398, 0.0), (399, 0.0), (400, 0.0), (401, 0.0), (402, 0.0), (403, 0.0), (404, 0.01610995381299745), (405, 0.0), (406, 0.0), (407, 0.046198155129030014), (408, 0.0), (409, 0.02400867703820899), (410, 0.0), (411, 0.010752227195272792), (412, 0.0), (413, 0.0), (414, 0.0), (415, 0.011494306436939787), (416, 0.0), (417, 0.0206644442404421), (418, 0.0), (419, 0.011696821324797742), (420, 0.010491262755113267), (421, 0.0), (422, 0.0), (423, 0.0), (424, 0.0), (425, 0.0), (426, 0.0), (427, 0.010895120214358586), (428, 0.0), (429, 0.0), (430, 0.0), (431, 0.0), (432, 0.0), (433, 0.0), (434, 0.0), (435, 0.03135152448714993), (436, 0.0), (437, 0.0), (438, 0.0), (439, 0.011925777336802728), (440, 0.052040766514299994), (441, 0.0), (442, 0.0), (443, 0.0), (444, 0.0), (445, 0.010031501620641039), (446, 0.0), (447, 0.0), (448, 0.010685474412823713), (449, 0.0), (450, 0.0), (451, 0.02265042739332076), (452, 0.0), (453, 0.0), (454, 0.009217474830747899), (455, 0.0), (456, 0.0), (457, 0.0), (458, 0.0), (459, 0.02521920961323125), (460, 0.0), (461, 0.0), (462, 0.010575101322876687), (463, 0.025456002519738695), (464, 0.03148261554803198), (465, 0.0), (466, 0.0), (467, 0.012167764203842859), (468, 0.0), (469, 0.009787579902227183), (470, 0.04649837415151396), (471, 0.0), (472, 0.0), (473, 0.0), (474, 0.022058950116151842), (475, 0.009118195002883592), (476, 0.011060994760730181), (477, 0.0), (478, 0.0), (479, 0.0), (480, 0.0), (481, 0.0), (482, 0.023021822075717426), (483, 0.0), (484, 0.009469976383333968), (485, 0.0), (486, 0.03721181527384124), (487, 0.0), (488, 0.0), (489, 0.0), (490, 0.0), (491, 0.02387125577066571), (492, 0.0), (493, 0.02527377547826589), (494, 0.009611149615050413), (495, 0.0), (496, 0.033947550055040944), (497, 0.026604128043398158), (498, 0.0), (499, 0.011405717275623697), (500, 0.0), (501, 0.011046344302879076), (502, 0.020389420123149194), (503, 0.0), (504, 0.01104147881722512), (505, 0.0), (506, 0.014469805792269695), (507, 0.0), (508, 0.0), (509, 0.0), (510, 0.0), (511, 0.0), (512, 0.0), (513, 0.0), (514, 0.008069471562517314), (515, 0.0), (516, 0.0), (517, 0.04411050515861288), (518, 0.03458999603350741), (519, 0.009684746821271236), (520, 0.0), (521, 0.011411848045199824), (522, 0.0), (523, 0.0), (524, 0.0), (525, 0.0123017317450002), (526, 0.0), (527, 0.009092611509310207), (528, 0.027672169015913108), (529, 0.0), (530, 0.0), (531, 0.0), (532, 0.02735849715059875), (533, 0.011272268969508767), (534, 0.0), (535, 0.012708235788577375), (536, 0.028454784617711334), (537, 0.0), (538, 0.0), (539, 0.0), (540, 0.0), (541, 0.0), (542, 0.02106252263350795), (543, 0.0), (544, 0.0), (545, 0.0), (546, 0.0), (547, 0.0), (548, 0.0), (549, 0.0), (550, 0.0), (551, 0.04235683543631272), (552, 0.0), (553, 0.0), (554, 0.0), (555, 0.010464953582417334), (556, 0.011846481362408118), (557, 0.0), (558, 0.0), (559, 0.0), (560, 0.0), (561, 0.0), (562, 0.01078479588220485), (563, 0.0), (564, 0.0), (565, 0.0), (566, 0.0), (567, 0.0), (568, 0.0), (569, 0.0), (570, 0.01071293250456931), (571, 0.0), (572, 0.0), (573, 0.0), (574, 0.0), (575, 0.0), (576, 0.07455737121298703), (577, 0.0), (578, 0.0), (579, 0.0), (580, 0.0), (581, 0.0), (582, 0.0), (583, 0.026385438457100143), (584, 0.012844596275379252), (585, 0.0), (586, 0.0), (587, 0.0), (588, 0.0), (589, 0.02292195760337141), (590, 0.010362845806682421), (591, 0.014765607389165722), (592, 0.0), (593, 0.0), (594, 0.0), (595, 0.020771372214153525), (596, 0.0), (597, 0.02290254366136205), (598, 0.014034493992676447), (599, 0.0), (600, 0.0), (601, 0.0), (602, 0.0), (603, 0.0), (604, 0.0), (605, 0.0), (606, 0.0), (607, 0.0), (608, 0.0), (609, 0.0), (610, 0.0), (611, 0.009688791814883867), (612, 0.0), (613, 0.0), (614, 0.0), (615, 0.0), (616, 0.03450175475331715), (617, 0.04670698375883639), (618, 0.0), (619, 0.0), (620, 0.0), (621, 0.0), (622, 0.0), (623, 0.0), (624, 0.020485065621698377), (625, 0.0108686696299383), (626, 0.0), (627, 0.0), (628, 0.009852613240363116), (629, 0.011424111833945207), (630, 0.041521767390461733), (631, 0.0), (632, 0.06371182729739153), (633, 0.020950162770247093), (634, 0.0), (635, 0.0), (636, 0.0), (637, 0.015288642218257273), (638, 0.01327923001099857), (639, 0.0), (640, 0.0), (641, 0.0), (642, 0.0), (643, 0.0), (644, 0.0), (645, 0.0), (646, 0.0), (647, 0.0), (648, 0.0), (649, 0.05108941698198601), (650, 0.012109931078527696), (651, 0.0), (652, 0.0), (653, 0.01371761730029094), (654, 0.05250832693485276), (655, 0.0), (656, 0.0), (657, 0.02377870880491043), (658, 0.0), (659, 0.010819029589231699), (660, 0.017630879936347085), (661, 0.011381101440565028), (662, 0.0), (663, 0.0), (664, 0.010773864953620725), (665, 0.0), (666, 0.021403112463665556), (667, 0.0), (668, 0.0), (669, 0.041849816474954324), (670, 0.0), (671, 0.0), (672, 0.0), (673, 0.0), (674, 0.0), (675, 0.0), (676, 0.013105924457686565), (677, 0.0), (678, 0.029885846636148888), (679, 0.0), (680, 0.0), (681, 0.012201521506924693), (682, 0.03839049706054687), (683, 0.009656951170878808), (684, 0.0), (685, 0.0), (686, 0.0), (687, 0.0), (688, 0.0), (689, 0.01605921335503962), (690, 0.0), (691, 0.0), (692, 0.0), (693, 0.0), (694, 0.0), (695, 0.0), (696, 0.0), (697, 0.0), (698, 0.011640629425935214), (699, 0.0), (700, 0.0), (701, 0.0), (702, 0.0), (703, 0.012781023692999207), (704, 0.0), (705, 0.0), (706, 0.0), (707, 0.0), (708, 0.0), (709, 0.0), (710, 0.0), (711, 0.0), (712, 0.0), (713, 0.01438648812070428), (714, 0.0), (715, 0.0), (716, 0.0), (717, 0.0), (718, 0.0), (719, 0.0), (720, 0.0), (721, 0.0), (722, 0.0), (723, 0.0), (724, 0.021077434030542276), (725, 0.0), (726, 0.0), (727, 0.0), (728, 0.0), (729, 0.0), (730, 0.0), (731, 0.0), (732, 0.0), (733, 0.010091129266165295), (734, 0.0), (735, 0.07970258109937256), (736, 0.0), (737, 0.0), (738, 0.0), (739, 0.0), (740, 0.024057931522433407), (741, 0.010143308026509888), (742, 0.0), (743, 0.03415271399608039), (744, 0.0), (745, 0.0), (746, 0.0), (747, 0.0), (748, 0.0), (749, 0.0), (750, 0.0), (751, 0.0), (752, 0.0), (753, 0.0), (754, 0.03222571086392683), (755, 0.0), (756, 0.0), (757, 0.0), (758, 0.0), (759, 0.022066419778091234), (760, 0.0), (761, 0.0), (762, 0.0), (763, 0.0), (764, 0.0), (765, 0.0), (766, 0.014148752830835833), (767, 0.0), (768, 0.023040715204481598), (769, 0.0), (770, 0.02194247219468915), (771, 0.05041211364324133), (772, 0.0), (773, 0.0), (774, 0.0), (775, 0.02085569333499653), (776, 0.06664378806434607), (777, 0.0), (778, 0.013975234351814986), (779, 0.0234643688452719), (780, 0.0), (781, 0.03796351915977865), (782, 0.0), (783, 0.0), (784, 0.014846022813973632), (785, 0.014064207179162146), (786, 0.0), (787, 0.009019611192440881), (788, 0.0), (789, 0.0), (790, 0.0), (791, 0.02581429332391615), (792, 0.0), (793, 0.0), (794, 0.0), (795, 0.022823939333262343), (796, 0.0), (797, 0.029802337814893304), (798, 0.0), (799, 0.020691124666168556), (800, 0.0), (801, 0.02340485823027218), (802, 0.027448136408311907), (803, 0.0), (804, 0.0), (805, 0.0), (806, 0.0), (807, 0.0), (808, 0.0), (809, 0.0), (810, 0.0), (811, 0.013603984563154252), (812, 0.013582809165347303), (813, 0.0), (814, 0.00985139130582806), (815, 0.032618443047395335), (816, 0.0), (817, 0.035733696922747), (818, 0.011158235789299994), (819, 0.0), (820, 0.03831577163175879), (821, 0.0), (822, 0.0), (823, 0.0), (824, 0.0), (825, 0.0), (826, 0.011905081517925107), (827, 0.012409577829830551), (828, 0.0), (829, 0.011800537834998627), (830, 0.03353258672725946), (831, 0.0), (832, 0.0), (833, 0.0), (834, 0.0), (835, 0.0), (836, 0.009713597801485173), (837, 0.0), (838, 0.035718635608864846), (839, 0.0), (840, 0.0), (841, 0.0), (842, 0.0), (843, 0.0), (844, 0.0), (845, 0.0), (846, 0.009347912451580917), (847, 0.0), (848, 0.0), (849, 0.027412660893919864), (850, 0.0), (851, 0.0), (852, 0.0), (853, 0.0), (854, 0.0), (855, 0.0), (856, 0.0), (857, 0.0), (858, 0.0), (859, 0.0), (860, 0.0), (861, 0.0), (862, 0.02594227102682982), (863, 0.01112147841840105), (864, 0.021428444609762204), (865, 0.0), (866, 0.0), (867, 0.028332671762648188), (868, 0.01390567284457229), (869, 0.015850882898861225), (870, 0.0), (871, 0.0), (872, 0.0), (873, 0.0), (874, 0.0), (875, 0.012758125732129257), (876, 0.0), (877, 0.0), (878, 0.0), (879, 0.0), (880, 0.021761047799609863), (881, 0.0), (882, 0.0), (883, 0.0), (884, 0.08888909346331479), (885, 0.0), (886, 0.0), (887, 0.06987500500481457), (888, 0.02662942480563342), (889, 0.0), (890, 0.0), (891, 0.05905338662299774), (892, 0.038997051171016525), (893, 0.0), (894, 0.0), (895, 0.0), (896, 0.0), (897, 0.0), (898, 0.0), (899, 0.0), (900, 0.0), (901, 0.011807039430326663), (902, 0.0), (903, 0.022268929502392405), (904, 0.0), (905, 0.01119274112853614), (906, 0.0), (907, 0.012754205272657875), (908, 0.0), (909, 0.02231798455933904), (910, 0.020846698668123578), (911, 0.0), (912, 0.063414389424052), (913, 0.0), (914, 0.0), (915, 0.0), (916, 0.0), (917, 0.0), (918, 0.0), (919, 0.0), (920, 0.0), (921, 0.0), (922, 0.010579478488363324), (923, 0.02468484291098932), (924, 0.023505567540546203), (925, 0.010920202437202643), (926, 0.01373106843480437), (927, 0.0), (928, 0.0), (929, 0.009398308758004945), (930, 0.0), (931, 0.04247211942760674), (932, 0.0), (933, 0.0), (934, 0.0), (935, 0.0), (936, 0.0), (937, 0.021048020040965346), (938, 0.0), (939, 0.00886888296431153), (940, 0.011840206485241566), (941, 0.0), (942, 0.014438656695628112), (943, 0.010672825721656056), (944, 0.0), (945, 0.03621575907861956), (946, 0.0), (947, 0.045291830252252904), (948, 0.012956569146627196), (949, 0.0), (950, 0.0), (951, 0.0), (952, 0.0), (953, 0.023647463031362427), (954, 0.0), (955, 0.0), (956, 0.02325696864943594), (957, 0.0), (958, 0.0113786174932318), (959, 0.0), (960, 0.0), (961, 0.0), (962, 0.0), (963, 0.0), (964, 0.0), (965, 0.0), (966, 0.0), (967, 0.0), (968, 0.0), (969, 0.0), (970, 0.024608860107552154), (971, 0.014520658539201262), (972, 0.0), (973, 0.009528947191992345), (974, 0.0), (975, 0.011577202862590579), (976, 0.011488378770383079), (977, 0.0), (978, 0.026782750469363688), (979, 0.0), (980, 0.022691572315148442), (981, 0.021705067199825713), (982, 0.0), (983, 0.0), (984, 0.030019250111860133), (985, 0.0), (986, 0.0), (987, 0.023062880594641084), (988, 0.0), (989, 0.0), (990, 0.0382646672484077), (991, 0.029819392769313887), (992, 0.0), (993, 0.0), (994, 0.0), (995, 0.0), (996, 0.0), (997, 0.0), (998, 0.0), (999, 0.0), (1000, 0.0), (1001, 0.0), (1002, 0.0), (1003, 0.0), (1004, 0.0), (1005, 0.0), (1006, 0.009529211231252855), (1007, 0.012702595765669263), (1008, 0.0), (1009, 0.0), (1010, 0.0), (1011, 0.050180900068621935), (1012, 0.0), (1013, 0.02461502908667173), (1014, 0.0), (1015, 0.0), (1016, 0.01259772533940551), (1017, 0.011100008432782192), (1018, 0.0), (1019, 0.0), (1020, 0.0), (1021, 0.0), (1022, 0.0), (1023, 0.0), (1024, 0.0), (1025, 0.0), (1026, 0.01661954925591749), (1027, 0.0), (1028, 0.0), (1029, 0.04922726450834804), (1030, 0.020199461965959054), (1031, 0.03704229609808674), (1032, 0.0), (1033, 0.0), (1034, 0.00999399997883968), (1035, 0.0473885748779583), (1036, 0.0), (1037, 0.0), (1038, 0.02451381851899421), (1039, 0.014532715392883358), (1040, 0.025783676052861998), (1041, 0.0), (1042, 0.02529511931174399), (1043, 0.0), (1044, 0.0), (1045, 0.025550442699253256), (1046, 0.0), (1047, 0.0), (1048, 0.0), (1049, 0.0), (1050, 0.07896352745214255), (1051, 0.0), (1052, 0.009079823847941905), (1053, 0.0), (1054, 0.0), (1055, 0.0), (1056, 0.020411304808078744), (1057, 0.0), (1058, 0.0), (1059, 0.02204976693233363), (1060, 0.0), (1061, 0.014065374212564366), (1062, 0.0), (1063, 0.024103137462667804), (1064, 0.0), (1065, 0.012635089105169599), (1066, 0.0), (1067, 0.0), (1068, 0.0), (1069, 0.0), (1070, 0.034899391310173965), (1071, 0.0), (1072, 0.0), (1073, 0.010994522120963099), (1074, 0.0), (1075, 0.0), (1076, 0.028234350591310062), (1077, 0.0), (1078, 0.010616945287885936), (1079, 0.0), (1080, 0.024578311744944605), (1081, 0.0), (1082, 0.0), (1083, 0.0), (1084, 0.0), (1085, 0.0), (1086, 0.0), (1087, 0.0), (1088, 0.0), (1089, 0.0), (1090, 0.0), (1091, 0.0), (1092, 0.0), (1093, 0.02176822322001591), (1094, 0.0), (1095, 0.0), (1096, 0.0), (1097, 0.0), (1098, 0.02519672797798312), (1099, 0.0), (1100, 0.024557069863577363), (1101, 0.0), (1102, 0.0), (1103, 0.0), (1104, 0.02744432991760586), (1105, 0.0), (1106, 0.0), (1107, 0.01177693806890347), (1108, 0.0), (1109, 0.04366924336299522), (1110, 0.0), (1111, 0.044591229937144594), (1112, 0.0), (1113, 0.0), (1114, 0.0), (1115, 0.0), (1116, 0.0), (1117, 0.01028203534124057), (1118, 0.0), (1119, 0.0), (1120, 0.012595363071010229), (1121, 0.0), (1122, 0.010458618918104028), (1123, 0.0), (1124, 0.0), (1125, 0.0), (1126, 0.0), (1127, 0.01401906397361669), (1128, 0.0), (1129, 0.02553208984145463), (1130, 0.0), (1131, 0.010275596153923093), (1132, 0.025115530663304606), (1133, 0.0), (1134, 0.0), (1135, 0.0), (1136, 0.0), (1137, 0.024706417767630048), (1138, 0.0), (1139, 0.0), (1140, 0.0), (1141, 0.010913369615672004), (1142, 0.0), (1143, 0.0), (1144, 0.0), (1145, 0.010121198854717984), (1146, 0.0), (1147, 0.01194676687460103), (1148, 0.0), (1149, 0.0), (1150, 0.0), (1151, 0.0), (1152, 0.0), (1153, 0.0), (1154, 0.0), (1155, 0.0), (1156, 0.0), (1157, 0.0), (1158, 0.0), (1159, 0.0), (1160, 0.047107036574943736), (1161, 0.0), (1162, 0.0), (1163, 0.0), (1164, 0.033901319905485214), (1165, 0.0), (1166, 0.0), (1167, 0.041866563336439094), (1168, 0.0), (1169, 0.0), (1170, 0.0), (1171, 0.0), (1172, 0.0), (1173, 0.0), (1174, 0.0), (1175, 0.03706184988131092), (1176, 0.0), (1177, 0.022006188102744396), (1178, 0.0), (1179, 0.03320555021194423), (1180, 0.0), (1181, 0.0), (1182, 0.010333796955927916), (1183, 0.016938555511834923), (1184, 0.0), (1185, 0.1820351715904593), (1186, 0.019333729248348787), (1187, 0.0), (1188, 0.010108510197464077), (1189, 0.0), (1190, 0.0), (1191, 0.0), (1192, 0.02085922166013341), (1193, 0.0), (1194, 0.011057118023004273), (1195, 0.0), (1196, 0.03402734460392548), (1197, 0.0), (1198, 0.05236359176023629), (1199, 0.0), (1200, 0.0), (1201, 0.009746802251296597), (1202, 0.0), (1203, 0.010970908431527121), (1204, 0.0), (1205, 0.03647845531007371), (1206, 0.0), (1207, 0.012743500741261597), (1208, 0.0), (1209, 0.0), (1210, 0.02962966179294734), (1211, 0.017560186185117843), (1212, 0.0), (1213, 0.029280739236644357), (1214, 0.0), (1215, 0.07783765130356565), (1216, 0.013216588741769337), (1217, 0.0), (1218, 0.050141881031965145), (1219, 0.0497605464424467), (1220, 0.0), (1221, 0.0), (1222, 0.0), (1223, 0.0), (1224, 0.03049152955283902), (1225, 0.0), (1226, 0.0), (1227, 0.014280284710803491), (1228, 0.0), (1229, 0.0), (1230, 0.0), (1231, 0.009621251150129465), (1232, 0.0), (1233, 0.0234509478814018), (1234, 0.010514409477960314), (1235, 0.0), (1236, 0.02063702410945322), (1237, 0.034138050151365756), (1238, 0.04878396202669019), (1239, 0.0), (1240, 0.013598190972319972), (1241, 0.0), (1242, 0.022488959856851752), (1243, 0.012466333978252003), (1244, 0.0), (1245, 0.0113135787811412), (1246, 0.0), (1247, 0.01041977746268327), (1248, 0.0), (1249, 0.0), (1250, 0.0), (1251, 0.0), (1252, 0.0), (1253, 0.0), (1254, 0.0), (1255, 0.009360170007803804), (1256, 0.056665217964248275), (1257, 0.0), (1258, 0.0), (1259, 0.0), (1260, 0.04923600604325238), (1261, 0.03130984371627307), (1262, 0.01240545557721639), (1263, 0.0), (1264, 0.0), (1265, 0.021613364270645846), (1266, 0.0), (1267, 0.0), (1268, 0.0), (1269, 0.0), (1270, 0.0), (1271, 0.021454572497328545), (1272, 0.011003581936835882), (1273, 0.011524215939987944), (1274, 0.0), (1275, 0.0), (1276, 0.0), (1277, 0.017740023350564252), (1278, 0.0), (1279, 0.0), (1280, 0.0), (1281, 0.00947730169377344), (1282, 0.0), (1283, 0.0), (1284, 0.03123860335075446), (1285, 0.0), (1286, 0.0), (1287, 0.0), (1288, 0.0), (1289, 0.06849995305412358), (1290, 0.0), (1291, 0.0), (1292, 0.06181890862037866), (1293, 0.009357983476814718), (1294, 0.0), (1295, 0.0), (1296, 0.008566650218576497), (1297, 0.0), (1298, 0.0), (1299, 0.036475620013880126), (1300, 0.010657799246053125), (1301, 0.0), (1302, 0.0), (1303, 0.0), (1304, 0.0074253720010610215), (1305, 0.010531054029362023), (1306, 0.0), (1307, 0.0), (1308, 0.0), (1309, 0.01468939764754999), (1310, 0.026749687562205946), (1311, 0.0), (1312, 0.0), (1313, 0.021731197587518396), (1314, 0.0392128552584506), (1315, 0.0), (1316, 0.03837170883076138), (1317, 0.0), (1318, 0.0326344993043877), (1319, 0.01059638409396315), (1320, 0.0), (1321, 0.0), (1322, 0.010865641571774318), (1323, 0.0), (1324, 0.0), (1325, 0.0), (1326, 0.0), (1327, 0.009532715492880667), (1328, 0.0), (1329, 0.0), (1330, 0.010861138479045098), (1331, 0.0), (1332, 0.023184101077224933), (1333, 0.0), (1334, 0.0), (1335, 0.0), (1336, 0.0), (1337, 0.05151391714509011), (1338, 0.023698633487664603), (1339, 0.0), (1340, 0.0), (1341, 0.0), (1342, 0.0), (1343, 0.009736448942662294), (1344, 0.0), (1345, 0.0), (1346, 0.021451997952596166), (1347, 0.013101563486334952), (1348, 0.012814988313463874), (1349, 0.0), (1350, 0.0), (1351, 0.021135752484311265), (1352, 0.010470186412793705), (1353, 0.0), (1354, 0.03003871999378002), (1355, 0.0), (1356, 0.0), (1357, 0.0), (1358, 0.0), (1359, 0.0), (1360, 0.0), (1361, 0.009693522307575007), (1362, 0.0), (1363, 0.0), (1364, 0.0), (1365, 0.0), (1366, 0.026442146476899922), (1367, 0.010353082576851016), (1368, 0.0), (1369, 0.03655001386950344), (1370, 0.0), (1371, 0.0), (1372, 0.0), (1373, 0.014158521066955072), (1374, 0.0303517284948242), (1375, 0.037670411216496995), (1376, 0.0), (1377, 0.03569864468321211), (1378, 0.04784788021507014), (1379, 0.021640293516980602), (1380, 0.0), (1381, 0.0), (1382, 0.0), (1383, 0.0), (1384, 0.0), (1385, 0.0), (1386, 0.0), (1387, 0.0), (1388, 0.04484408162332528), (1389, 0.011677605442109973), (1390, 0.0), (1391, 0.025820434403028624), (1392, 0.0), (1393, 0.0), (1394, 0.0), (1395, 0.02332476965694985), (1396, 0.02245575581476284), (1397, 0.0), (1398, 0.0), (1399, 0.011244335120062328), (1400, 0.012227571501358345), (1401, 0.014545276291527773), (1402, 0.0), (1403, 0.02239921428887621), (1404, 0.008314851053605585), (1405, 0.0), (1406, 0.0), (1407, 0.02098129072028187), (1408, 0.02382591685437966), (1409, 0.0), (1410, 0.03274504535352329), (1411, 0.02280764167194081), (1412, 0.0), (1413, 0.0), (1414, 0.0), (1415, 0.0), (1416, 0.0), (1417, 0.0), (1418, 0.0), (1419, 0.0), (1420, 0.0), (1421, 0.0), (1422, 0.0), (1423, 0.0), (1424, 0.0), (1425, 0.0), (1426, 0.0), (1427, 0.0), (1428, 0.0), (1429, 0.0), (1430, 0.055952696284872774), (1431, 0.0), (1432, 0.0), (1433, 0.0), (1434, 0.0), (1435, 0.012251006094697977), (1436, 0.0), (1437, 0.02030570647136254), (1438, 0.0), (1439, 0.0), (1440, 0.010571872946836073), (1441, 0.010315424388148153), (1442, 0.0), (1443, 0.010179822526636248), (1444, 0.01461099774988442), (1445, 0.0), (1446, 0.0800904557002945), (1447, 0.010051672930376418), (1448, 0.0), (1449, 0.02238902833929183), (1450, 0.0), (1451, 0.0), (1452, 0.0), (1453, 0.0), (1454, 0.0), (1455, 0.0), (1456, 0.0), (1457, 0.0), (1458, 0.009496234720007763), (1459, 0.0), (1460, 0.013856044368287366), (1461, 0.0), (1462, 0.006933768727336198), (1463, 0.0), (1464, 0.0), (1465, 0.0), (1466, 0.0), (1467, 0.023916381695798843), (1468, 0.024600521587591184), (1469, 0.03986181423451851), (1470, 0.0), (1471, 0.03374676342311671), (1472, 0.012127971902326574), (1473, 0.013296681956222276), (1474, 0.02868301402663015), (1475, 0.05915083572501657), (1476, 0.009182857215559939), (1477, 0.0), (1478, 0.0), (1479, 0.01208074346821881), (1480, 0.006708296060627925), (1481, 0.0), (1482, 0.021594353831847973), (1483, 0.0625685374207197), (1484, 0.020308614693125615), (1485, 0.0), (1486, 0.02121032110936719), (1487, 0.0), (1488, 0.012121888440816785), (1489, 0.0), (1490, 0.0), (1491, 0.0), (1492, 0.0), (1493, 0.0), (1494, 0.02483604641354936), (1495, 0.0), (1496, 0.0), (1497, 0.0), (1498, 0.0), (1499, 0.0), (1500, 0.0), (1501, 0.02306041514597319), (1502, 0.010825976544800294), (1503, 0.0), (1504, 0.02714496214725128), (1505, 0.014866067357611031), (1506, 0.0), (1507, 0.0), (1508, 0.0), (1509, 0.0), (1510, 0.0), (1511, 0.0), (1512, 0.0), (1513, 0.009539311102689149), (1514, 0.0), (1515, 0.02814647001316044), (1516, 0.0), (1517, 0.0), (1518, 0.019136173345138657), (1519, 0.0), (1520, 0.0), (1521, 0.0), (1522, 0.0), (1523, 0.022991784525264528), (1524, 0.0), (1525, 0.011147175897967387), (1526, 0.0), (1527, 0.0), (1528, 0.0), (1529, 0.0), (1530, 0.0), (1531, 0.0), (1532, 0.0), (1533, 0.0), (1534, 0.018656654331074465), (1535, 0.04155509119517476), (1536, 0.0), (1537, 0.010873317543023757), (1538, 0.0), (1539, 0.0), (1540, 0.0), (1541, 0.0), (1542, 0.0), (1543, 0.03139019043294492), (1544, 0.0), (1545, 0.009867493725232563), (1546, 0.0), (1547, 0.0), (1548, 0.0), (1549, 0.03031054677973146), (1550, 0.0), (1551, 0.0), (1552, 0.0), (1553, 0.0), (1554, 0.0), (1555, 0.0), (1556, 0.0), (1557, 0.03606032588425462), (1558, 0.00843913129194033), (1559, 0.03840364907536369), (1560, 0.013853773140390073), (1561, 0.0), (1562, 0.0), (1563, 0.0), (1564, 0.0), (1565, 0.0), (1566, 0.0), (1567, 0.021179965781364826), (1568, 0.0), (1569, 0.0), (1570, 0.0), (1571, 0.0), (1572, 0.0), (1573, 0.025611288318064158), (1574, 0.026515998005741975), (1575, 0.011948548021574027), (1576, 0.0), (1577, 0.0), (1578, 0.02642227837099035), (1579, 0.0), (1580, 0.0), (1581, 0.0), (1582, 0.02679807518642597), (1583, 0.0), (1584, 0.0), (1585, 0.010120541678439184), (1586, 0.0), (1587, 0.010617785867366445), (1588, 0.0), (1589, 0.012298098779228711), (1590, 0.0221397522236024), (1591, 0.012553548785093007), (1592, 0.02855464246954883), (1593, 0.0), (1594, 0.0), (1595, 0.03714062385290836), (1596, 0.010522860024342114), (1597, 0.0), (1598, 0.0189885116134588), (1599, 0.0790378575991427), (1600, 0.0), (1601, 0.0), (1602, 0.0), (1603, 0.014260482027279385), (1604, 0.025549772554455154), (1605, 0.019196051551558603), (1606, 0.0), (1607, 0.0), (1608, 0.0), (1609, 0.020481672269554323), (1610, 0.0), (1611, 0.0), (1612, 0.014046342522672907), (1613, 0.021284460959117884), (1614, 0.0), (1615, 0.0), (1616, 0.0), (1617, 0.0), (1618, 0.0), (1619, 0.0), (1620, 0.0), (1621, 0.0), (1622, 0.008818733193628598), (1623, 0.0), (1624, 0.01583564813249442), (1625, 0.0), (1626, 0.0), (1627, 0.024699832233175918), (1628, 0.038352721357832714), (1629, 0.0), (1630, 0.0), (1631, 0.0), (1632, 0.0), (1633, 0.011022763710558395), (1634, 0.0), (1635, 0.0), (1636, 0.0), (1637, 0.01569840775896524), (1638, 0.012858648078044667), (1639, 0.0), (1640, 0.0), (1641, 0.011392014204266762), (1642, 0.02882527743041384), (1643, 0.0), (1644, 0.0), (1645, 0.021409664171179257), (1646, 0.025599316505621514), (1647, 0.014592397703433003), (1648, 0.021925517407921643), (1649, 0.0386412114942555), (1650, 0.0), (1651, 0.0), (1652, 0.0), (1653, 0.0), (1654, 0.03156768956427246), (1655, 0.040851775489571036), (1656, 0.0), (1657, 0.0), (1658, 0.0), (1659, 0.010825756601785206), (1660, 0.0), (1661, 0.0), (1662, 0.0), (1663, 0.0), (1664, 0.04830858482231101), (1665, 0.0), (1666, 0.0), (1667, 0.0), (1668, 0.009554144025806729), (1669, 0.0), (1670, 0.0), (1671, 0.0), (1672, 0.0), (1673, 0.0), (1674, 0.0), (1675, 0.012239141345423022), (1676, 0.0), (1677, 0.0), (1678, 0.0), (1679, 0.0), (1680, 0.0), (1681, 0.0), (1682, 0.0), (1683, 0.0), (1684, 0.024898124172083758), (1685, 0.023339314593406622), (1686, 0.0), (1687, 0.0), (1688, 0.0), (1689, 0.02296041161348737), (1690, 0.0), (1691, 0.0), (1692, 0.0), (1693, 0.024084627176094227), (1694, 0.0), (1695, 0.014942462371929586), (1696, 0.0), (1697, 0.0), (1698, 0.0), (1699, 0.010997393010391588), (1700, 0.0), (1701, 0.0), (1702, 0.0), (1703, 0.0), (1704, 0.012264300683588443), (1705, 0.0), (1706, 0.0), (1707, 0.02058872518852859), (1708, 0.022342479427251816), (1709, 0.0), (1710, 0.0), (1711, 0.0), (1712, 0.0), (1713, 0.0), (1714, 0.028139301451956214), (1715, 0.039501149498874566), (1716, 0.0), (1717, 0.0), (1718, 0.023376338248310518), (1719, 0.041120823473683205), (1720, 0.0), (1721, 0.0), (1722, 0.021021315906041192), (1723, 0.0), (1724, 0.0), (1725, 0.0), (1726, 0.021695136577222118), (1727, 0.0), (1728, 0.0), (1729, 0.024098783428510587), (1730, 0.0), (1731, 0.0), (1732, 0.0), (1733, 0.023401263149067476), (1734, 0.0), (1735, 0.027605671502511177), (1736, 0.0), (1737, 0.02403038471500183), (1738, 0.0), (1739, 0.04518088774052912), (1740, 0.0), (1741, 0.0), (1742, 0.0), (1743, 0.0), (1744, 0.0), (1745, 0.012217015079715319), (1746, 0.0), (1747, 0.0), (1748, 0.022213319457743547), (1749, 0.012579869925055024), (1750, 0.0), (1751, 0.03844208420015327), (1752, 0.0), (1753, 0.0), (1754, 0.0), (1755, 0.0), (1756, 0.0), (1757, 0.023177400139614685), (1758, 0.0), (1759, 0.0), (1760, 0.0), (1761, 0.0), (1762, 0.0), (1763, 0.0), (1764, 0.0), (1765, 0.0), (1766, 0.054111752707522234), (1767, 0.0), (1768, 0.0), (1769, 0.03230062447547565), (1770, 0.011426364474341994), (1771, 0.02467508474742963), (1772, 0.0), (1773, 0.00840847942022869), (1774, 0.0), (1775, 0.0), (1776, 0.0), (1777, 0.0), (1778, 0.0), (1779, 0.0), (1780, 0.03652545848279875), (1781, 0.0), (1782, 0.0), (1783, 0.0), (1784, 0.07319837281332903), (1785, 0.0), (1786, 0.02296031380011139), (1787, 0.0), (1788, 0.024926909099791512), (1789, 0.03442672926487735), (1790, 0.0), (1791, 0.02245619598987646), (1792, 0.010705177952589066), (1793, 0.011838161231241942), (1794, 0.0), (1795, 0.0), (1796, 0.0), (1797, 0.010602635947137756), (1798, 0.010251823327084082), (1799, 0.03903417619722859), (1800, 0.00961582838181678), (1801, 0.0), (1802, 0.0), (1803, 0.027049819769033492), (1804, 0.0566486919487647), (1805, 0.01544219739876024), (1806, 0.05531436214548029), (1807, 0.0), (1808, 0.0), (1809, 0.013589824325335894), (1810, 0.0), (1811, 0.0), (1812, 0.0), (1813, 0.0), (1814, 0.0), (1815, 0.0), (1816, 0.01547951335524439), (1817, 0.010321513460751717), (1818, 0.0), (1819, 0.0783998196171061), (1820, 0.02342808733566261), (1821, 0.0), (1822, 0.009832297855645055), (1823, 0.023747992074001238), (1824, 0.02724621563231288), (1825, 0.04335427773997535), (1826, 0.028565490820964677), (1827, 0.0), (1828, 0.02813018074537809), (1829, 0.0), (1830, 0.0), (1831, 0.0), (1832, 0.03639158151270691), (1833, 0.0), (1834, 0.03392210513094717), (1835, 0.0), (1836, 0.010498941184193197), (1837, 0.0), (1838, 0.030029506499895976), (1839, 0.02219083652214318), (1840, 0.0), (1841, 0.0), (1842, 0.0), (1843, 0.0), (1844, 0.0), (1845, 0.022400063994595428), (1846, 0.0), (1847, 0.0), (1848, 0.0), (1849, 0.039543447562646654), (1850, 0.011499019696574674), (1851, 0.010379109179904266), (1852, 0.0), (1853, 0.0), (1854, 0.0), (1855, 0.022832003281580863), (1856, 0.0), (1857, 0.0), (1858, 0.0), (1859, 0.0), (1860, 0.0), (1861, 0.0), (1862, 0.0), (1863, 0.0), (1864, 0.0), (1865, 0.0), (1866, 0.02204539516675397), (1867, 0.024587453336144503), (1868, 0.0), (1869, 0.027447263196136884), (1870, 0.02606744816139062), (1871, 0.0), (1872, 0.023664545913548826), (1873, 0.0), (1874, 0.012407248841787542), (1875, 0.0), (1876, 0.019514427019400902), (1877, 0.0), (1878, 0.0), (1879, 0.0), (1880, 0.0), (1881, 0.0), (1882, 0.0), (1883, 0.0), (1884, 0.04127165403610569), (1885, 0.0), (1886, 0.0), (1887, 0.0), (1888, 0.0), (1889, 0.0), (1890, 0.010683582314018085), (1891, 0.026343505197578613), (1892, 0.0), (1893, 0.033843927112221735), (1894, 0.011462173502401236), (1895, 0.0), (1896, 0.0), (1897, 0.0), (1898, 0.0), (1899, 0.0), (1900, 0.012270049687479434), (1901, 0.0), (1902, 0.010970036788734733), (1903, 0.021947893690792968), (1904, 0.0), (1905, 0.022300379284317166), (1906, 0.0), (1907, 0.0), (1908, 0.0), (1909, 0.01430820700572002), (1910, 0.03012986778606292), (1911, 0.02151060185930714), (1912, 0.0), (1913, 0.0), (1914, 0.02166537164233797), (1915, 0.0), (1916, 0.0), (1917, 0.0), (1918, 0.0), (1919, 0.0), (1920, 0.0), (1921, 0.0), (1922, 0.0), (1923, 0.009168465656455847), (1924, 0.0), (1925, 0.0), (1926, 0.022799276001798083), (1927, 0.010005736063329274), (1928, 0.0), (1929, 0.0), (1930, 0.0), (1931, 0.04021695241899623), (1932, 0.0), (1933, 0.0), (1934, 0.0), (1935, 0.0), (1936, 0.0), (1937, 0.0), (1938, 0.0), (1939, 0.022239884191857233), (1940, 0.0), (1941, 0.0), (1942, 0.0), (1943, 0.0), (1944, 0.0), (1945, 0.0), (1946, 0.009825799829394037), (1947, 0.049895439041271306), (1948, 0.00868635222751479), (1949, 0.01412939176272386), (1950, 0.0), (1951, 0.0), (1952, 0.010353092990998595), (1953, 0.0), (1954, 0.0), (1955, 0.009158023744498704), (1956, 0.014265251565880746), (1957, 0.0), (1958, 0.011617195746604362), (1959, 0.0), (1960, 0.012167560475724285), (1961, 0.03557889993440729), (1962, 0.0), (1963, 0.0), (1964, 0.0), (1965, 0.0), (1966, 0.0), (1967, 0.01021366676759493), (1968, 0.04694627832169043), (1969, 0.015194007569678288), (1970, 0.025687177756072096), (1971, 0.0), (1972, 0.0), (1973, 0.03463303168464648), (1974, 0.009649422774795724), (1975, 0.01384610382085918), (1976, 0.0), (1977, 0.0), (1978, 0.0), (1979, 0.0), (1980, 0.023985965094787013), (1981, 0.046083634926988026), (1982, 0.0), (1983, 0.0), (1984, 0.0), (1985, 0.0), (1986, 0.01219633996115862), (1987, 0.0), (1988, 0.03331091374574081), (1989, 0.0), (1990, 0.0), (1991, 0.0), (1992, 0.0), (1993, 0.018688092946425032), (1994, 0.0), (1995, 0.0), (1996, 0.0), (1997, 0.025987726873383476), (1998, 0.026471632001825066), (1999, 0.03996357781278966), (2000, 0.027542195371885507), (2001, 0.0), (2002, 0.0), (2003, 0.0), (2004, 0.0), (2005, 0.0), (2006, 0.0), (2007, 0.02157850546846577), (2008, 0.01036468450058498), (2009, 0.0), (2010, 0.0), (2011, 0.0), (2012, 0.0), (2013, 0.0), (2014, 0.044594311306256115), (2015, 0.0), (2016, 0.0), (2017, 0.04820880067356281), (2018, 0.027470183081029213), (2019, 0.0), (2020, 0.0), (2021, 0.02650722390862458), (2022, 0.010703731076862132), (2023, 0.0), (2024, 0.03728384546401949), (2025, 0.0), (2026, 0.0), (2027, 0.023621082358960467), (2028, 0.0), (2029, 0.01541133569889461), (2030, 0.0), (2031, 0.0), (2032, 0.0), (2033, 0.011308043182708179), (2034, 0.0), (2035, 0.0), (2036, 0.0), (2037, 0.0), (2038, 0.010771540329798402), (2039, 0.009694557270125928), (2040, 0.035718290097462004), (2041, 0.0), (2042, 0.008597797023836642), (2043, 0.0), (2044, 0.020451624679377386), (2045, 0.0), (2046, 0.0), (2047, 0.0), (2048, 0.0), (2049, 0.02722405984940314), (2050, 0.0), (2051, 0.0), (2052, 0.011519133717795641), (2053, 0.0), (2054, 0.0), (2055, 0.0), (2056, 0.0), (2057, 0.0), (2058, 0.0), (2059, 0.0), (2060, 0.0), (2061, 0.0), (2062, 0.0), (2063, 0.011712086254376822), (2064, 0.0), (2065, 0.0), (2066, 0.0), (2067, 0.0), (2068, 0.023778734849508158), (2069, 0.0), (2070, 0.01282217804762225), (2071, 0.0), (2072, 0.0), (2073, 0.012422107835866876), (2074, 0.0), (2075, 0.0), (2076, 0.022873634862886034), (2077, 0.0), (2078, 0.010054591227917655), (2079, 0.0), (2080, 0.009596056991126025), (2081, 0.012049580851752874), (2082, 0.0), (2083, 0.0), (2084, 0.022274923204231526), (2085, 0.0), (2086, 0.024695703874676036), (2087, 0.0), (2088, 0.023785208692817757), (2089, 0.0), (2090, 0.0), (2091, 0.020429346695848574), (2092, 0.0), (2093, 0.0), (2094, 0.020728589655434948), (2095, 0.023653171117402977), (2096, 0.020033536207410153), (2097, 0.0), (2098, 0.0), (2099, 0.0), (2100, 0.0), (2101, 0.0), (2102, 0.0), (2103, 0.0), (2104, 0.024088460986966143), (2105, 0.0), (2106, 0.009157450846861336), (2107, 0.011139377873207255), (2108, 0.01378370830067288), (2109, 0.0), (2110, 0.0), (2111, 0.0), (2112, 0.030129051048825954), (2113, 0.0), (2114, 0.0), (2115, 0.0), (2116, 0.0), (2117, 0.021078249739153846), (2118, 0.00965454636943779), (2119, 0.0), (2120, 0.06948009504884678), (2121, 0.0), (2122, 0.0), (2123, 0.0), (2124, 0.0), (2125, 0.021986993572877225), (2126, 0.0), (2127, 0.0), (2128, 0.0), (2129, 0.0), (2130, 0.0), (2131, 0.0), (2132, 0.04201645734371653), (2133, 0.02274597435205401), (2134, 0.0), (2135, 0.017416845054326276), (2136, 0.0), (2137, 0.022000282848914032), (2138, 0.007931676527278077), (2139, 0.011461482770128794), (2140, 0.0), (2141, 0.0), (2142, 0.0), (2143, 0.024983718496996044), (2144, 0.0), (2145, 0.0), (2146, 0.025062837196057796), (2147, 0.07896960474583513), (2148, 0.011066854255103354), (2149, 0.019788732259289208), (2150, 0.0), (2151, 0.028764264262811406), (2152, 0.009625573780276779), (2153, 0.0398008684289106), (2154, 0.0), (2155, 0.0), (2156, 0.0), (2157, 0.030636571180366612), (2158, 0.0), (2159, 0.0), (2160, 0.019372617896891247), (2161, 0.0), (2162, 0.014543500895567293), (2163, 0.08621705798386836), (2164, 0.030692939275541547), (2165, 0.0), (2166, 0.0), (2167, 0.0), (2168, 0.0), (2169, 0.04831249770650131), (2170, 0.01969869204548265), (2171, 0.014592984550582949), (2172, 0.0), (2173, 0.02471608449029508), (2174, 0.0), (2175, 0.0), (2176, 0.0), (2177, 0.0), (2178, 0.0), (2179, 0.0), (2180, 0.019638429540611433), (2181, 0.029524538533059932), (2182, 0.0), (2183, 0.0), (2184, 0.0), (2185, 0.0), (2186, 0.008715528908027724), (2187, 0.0), (2188, 0.031014410588207947), (2189, 0.0), (2190, 0.0), (2191, 0.0), (2192, 0.0), (2193, 0.0), (2194, 0.0), (2195, 0.0), (2196, 0.0), (2197, 0.0), (2198, 0.0), (2199, 0.0), (2200, 0.0), (2201, 0.0), (2202, 0.0), (2203, 0.0), (2204, 0.009926456600430416), (2205, 0.0), (2206, 0.0), (2207, 0.0), (2208, 0.020344206325596997), (2209, 0.0), (2210, 0.0), (2211, 0.0), (2212, 0.011620933457270333), (2213, 0.00700475170873329), (2214, 0.014125175111552252), (2215, 0.0), (2216, 0.0), (2217, 0.0), (2218, 0.0), (2219, 0.0), (2220, 0.0), (2221, 0.0), (2222, 0.0), (2223, 0.0), (2224, 0.033819504270810444), (2225, 0.0), (2226, 0.0313476153453275), (2227, 0.01212152414427633), (2228, 0.0), (2229, 0.0), (2230, 0.046883431665684205), (2231, 0.0), (2232, 0.0), (2233, 0.0), (2234, 0.0), (2235, 0.011418608929342518), (2236, 0.0), (2237, 0.021193232521067435), (2238, 0.0), (2239, 0.0), (2240, 0.08430802709357268), (2241, 0.0), (2242, 0.0), (2243, 0.019720992074096746), (2244, 0.0), (2245, 0.0), (2246, 0.0), (2247, 0.0), (2248, 0.05331488715157943), (2249, 0.0), (2250, 0.0), (2251, 0.0), (2252, 0.0), (2253, 0.009384295377345576), (2254, 0.0), (2255, 0.0), (2256, 0.0), (2257, 0.0), (2258, 0.0), (2259, 0.0), (2260, 0.011789924081341208), (2261, 0.013771690927763421), (2262, 0.0), (2263, 0.0), (2264, 0.059647346091097814), (2265, 0.028215451333996045), (2266, 0.0), (2267, 0.02296181148410056), (2268, 0.06460909002444787), (2269, 0.0), (2270, 0.0), (2271, 0.0), (2272, 0.0), (2273, 0.0), (2274, 0.010665678966536718), (2275, 0.0), (2276, 0.009430614802284862), (2277, 0.0), (2278, 0.009035283080663523), (2279, 0.0), (2280, 0.022717064264399362), (2281, 0.026669618945672987), (2282, 0.033556369611937406), (2283, 0.01885431938490008), (2284, 0.046388966997676195), (2285, 0.0), (2286, 0.026150633603309045), (2287, 0.0), (2288, 0.0), (2289, 0.0), (2290, 0.0), (2291, 0.0), (2292, 0.0), (2293, 0.02261222803395817), (2294, 0.0), (2295, 0.030590234132303693), (2296, 0.02549591297735696), (2297, 0.07773818649018611), (2298, 0.0), (2299, 0.008761054210121053), (2300, 0.0), (2301, 0.0), (2302, 0.02833917791427941), (2303, 0.02267305161196287), (2304, 0.0), (2305, 0.0), (2306, 0.02083028587183145), (2307, 0.0), (2308, 0.022847417629583353), (2309, 0.0), (2310, 0.0), (2311, 0.0), (2312, 0.0), (2313, 0.0), (2314, 0.0), (2315, 0.0), (2316, 0.0), (2317, 0.0), (2318, 0.023893320945268373), (2319, 0.0), (2320, 0.0), (2321, 0.05119755612161196), (2322, 0.0), (2323, 0.0), (2324, 0.0), (2325, 0.0), (2326, 0.0), (2327, 0.0), (2328, 0.010163643946416083), (2329, 0.05198480669947151), (2330, 0.0), (2331, 0.009442119420454713), (2332, 0.0), (2333, 0.0), (2334, 0.0), (2335, 0.0), (2336, 0.007740494913912234), (2337, 0.026039092664012463), (2338, 0.0), (2339, 0.020339064001176112), (2340, 0.0), (2341, 0.0), (2342, 0.0140092479022426), (2343, 0.010446344538070184), (2344, 0.0), (2345, 0.0), (2346, 0.0331414048279975), (2347, 0.05309218715175789), (2348, 0.009688897994860652), (2349, 0.0), (2350, 0.0), (2351, 0.0), (2352, 0.0), (2353, 0.0), (2354, 0.0), (2355, 0.01016745298628033), (2356, 0.0), (2357, 0.0), (2358, 0.009314294736516432), (2359, 0.0), (2360, 0.0), (2361, 0.0), (2362, 0.0), (2363, 0.0), (2364, 0.0), (2365, 0.0), (2366, 0.011003370264894317), (2367, 0.016937876489308206), (2368, 0.026229449268709265), (2369, 0.0), (2370, 0.0), (2371, 0.0), (2372, 0.0), (2373, 0.028397002593518152), (2374, 0.0), (2375, 0.0), (2376, 0.0), (2377, 0.01008286854095917), (2378, 0.0), (2379, 0.025921957409955638), (2380, 0.0232776150123703), (2381, 0.0), (2382, 0.0), (2383, 0.06527939085224232), (2384, 0.0), (2385, 0.0), (2386, 0.010186831356239111), (2387, 0.040000335177173205), (2388, 0.0), (2389, 0.060426866804954696), (2390, 0.0), (2391, 0.0), (2392, 0.0), (2393, 0.0), (2394, 0.02482337822837859), (2395, 0.0), (2396, 0.0), (2397, 0.0), (2398, 0.0), (2399, 0.0), (2400, 0.03811278892708115), (2401, 0.0), (2402, 0.018893136743451753), (2403, 0.024278774328497003), (2404, 0.0), (2405, 0.03352021075824235), (2406, 0.0), (2407, 0.0), (2408, 0.0), (2409, 0.024061372380701846), (2410, 0.01256243993489947), (2411, 0.0), (2412, 0.0), (2413, 0.02083272496581528), (2414, 0.0), (2415, 0.0), (2416, 0.06749284523428947), (2417, 0.021022443886122504), (2418, 0.0), (2419, 0.0), (2420, 0.022043109924640807), (2421, 0.0), (2422, 0.0), (2423, 0.031004235757252335), (2424, 0.0), (2425, 0.05849688235813774), (2426, 0.0), (2427, 0.0), (2428, 0.021594117007314343), (2429, 0.0), (2430, 0.04903664302308318), (2431, 0.0), (2432, 0.0), (2433, 0.02860555080511576), (2434, 0.0), (2435, 0.0), (2436, 0.0), (2437, 0.0), (2438, 0.05372947790358327), (2439, 0.0), (2440, 0.0), (2441, 0.0), (2442, 0.0), (2443, 0.0), (2444, 0.0), (2445, 0.05985701247506767), (2446, 0.007268629888845294), (2447, 0.015278878320435906), (2448, 0.0), (2449, 0.0), (2450, 0.024750039963175346), (2451, 0.011481044025492796), (2452, 0.0), (2453, 0.0), (2454, 0.010595374320042032), (2455, 0.025223417598507835), (2456, 0.005828445418274305), (2457, 0.0), (2458, 0.0), (2459, 0.0), (2460, 0.026408671842086066), (2461, 0.01093794350644637), (2462, 0.020230980741377958), (2463, 0.0), (2464, 0.010650851534902346), (2465, 0.0), (2466, 0.0), (2467, 0.0), (2468, 0.032559512748805176), (2469, 0.021809455187390234), (2470, 0.0), (2471, 0.0), (2472, 0.0), (2473, 0.010513766484072032), (2474, 0.0), (2475, 0.027210888240719374), (2476, 0.0), (2477, 0.0849982839147489), (2478, 0.0), (2479, 0.0), (2480, 0.0), (2481, 0.0), (2482, 0.0), (2483, 0.0), (2484, 0.0), (2485, 0.0), (2486, 0.0), (2487, 0.0), (2488, 0.0), (2489, 0.0), (2490, 0.0), (2491, 0.0), (2492, 0.0), (2493, 0.0), (2494, 0.0), (2495, 0.0), (2496, 0.0), (2497, 0.0), (2498, 0.0), (2499, 0.0), (2500, 0.042851527248536594), (2501, 0.013207670288743492), (2502, 0.0), (2503, 0.0), (2504, 0.0), (2505, 0.0), (2506, 0.012634933445833763), (2507, 0.011878104578418801), (2508, 0.012007047527103179), (2509, 0.047665359975492455), (2510, 0.011926766349127597), (2511, 0.026789289503937375), (2512, 0.0), (2513, 0.029836825322630746), (2514, 0.0), (2515, 0.0), (2516, 0.0), (2517, 0.0), (2518, 0.024352902316672753), (2519, 0.0), (2520, 0.012470272819257312), (2521, 0.0), (2522, 0.0), (2523, 0.0), (2524, 0.0), (2525, 0.0), (2526, 1.0), (2527, 0.0), (2528, 0.0), (2529, 0.02592005095959179), (2530, 0.0), (2531, 0.0), (2532, 0.022452233245972588), (2533, 0.04969099349206699), (2534, 0.022017902304313556), (2535, 0.010425776272362157), (2536, 0.0), (2537, 0.0), (2538, 0.011212631626954107), (2539, 0.0), (2540, 0.022132150607684996), (2541, 0.02344530286606813), (2542, 0.0), (2543, 0.0117821374608273), (2544, 0.0), (2545, 0.0), (2546, 0.0202899939824703), (2547, 0.012396588839775482), (2548, 0.0), (2549, 0.0282678986904636), (2550, 0.0), (2551, 0.06984060317905397), (2552, 0.0), (2553, 0.03159368332848736), (2554, 0.013216553702358576), (2555, 0.021748713042883887), (2556, 0.0), (2557, 0.0), (2558, 0.0), (2559, 0.04528803050250375), (2560, 0.036419315434179214), (2561, 0.06495027947403903), (2562, 0.0), (2563, 0.0), (2564, 0.012420555489227943), (2565, 0.0), (2566, 0.0), (2567, 0.047135383667102466), (2568, 0.022478579530562), (2569, 0.0141612994385126), (2570, 0.022029890411021272), (2571, 0.0), (2572, 0.0), (2573, 0.009506537079359735), (2574, 0.0), (2575, 0.023652105990683882), (2576, 0.025002257492441456), (2577, 0.04363155367844851), (2578, 0.010438739649928485), (2579, 0.0), (2580, 0.0), (2581, 0.022169992126867637), (2582, 0.0), (2583, 0.011253171952586951), (2584, 0.010189272434789851), (2585, 0.0), (2586, 0.026290872590926016), (2587, 0.0), (2588, 0.02931816355793151), (2589, 0.0), (2590, 0.0), (2591, 0.0), (2592, 0.0), (2593, 0.013111789126471193), (2594, 0.014182605561986231), (2595, 0.0), (2596, 0.02566044728636183), (2597, 0.025042288740707585), (2598, 0.0), (2599, 0.0), (2600, 0.02688650505116225), (2601, 0.0), (2602, 0.0), (2603, 0.0), (2604, 0.0), (2605, 0.0), (2606, 0.0), (2607, 0.0), (2608, 0.0), (2609, 0.00985506990575098), (2610, 0.013935992054307813), (2611, 0.0), (2612, 0.0), (2613, 0.021082046833092255), (2614, 0.04648340966390308), (2615, 0.0), (2616, 0.0), (2617, 0.0), (2618, 0.0), (2619, 0.0), (2620, 0.0), (2621, 0.014828660660058885), (2622, 0.0), (2623, 0.008891627540283302), (2624, 0.0), (2625, 0.0), (2626, 0.04145565614062985), (2627, 0.0), (2628, 0.038256065618174254), (2629, 0.0), (2630, 0.0), (2631, 0.0), (2632, 0.0), (2633, 0.0), (2634, 0.0), (2635, 0.023567257976383555), (2636, 0.0), (2637, 0.0), (2638, 0.0), (2639, 0.0), (2640, 0.04494122152466823), (2641, 0.0), (2642, 0.021789487744424095), (2643, 0.0), (2644, 0.0), (2645, 0.010501800742475276), (2646, 0.0), (2647, 0.020251976724215966), (2648, 0.0), (2649, 0.0), (2650, 0.0), (2651, 0.009917972083582683), (2652, 0.0), (2653, 0.0), (2654, 0.01822381946556955), (2655, 0.0), (2656, 0.0), (2657, 0.02088322349906639), (2658, 0.0), (2659, 0.0), (2660, 0.0), (2661, 0.021602956882343257), (2662, 0.0), (2663, 0.0), (2664, 0.0), (2665, 0.0), (2666, 0.011256204803663614), (2667, 0.0), (2668, 0.0), (2669, 0.00949609133227826), (2670, 0.0), (2671, 0.0), (2672, 0.0), (2673, 0.02148677969697254), (2674, 0.011217781423134688), (2675, 0.0), (2676, 0.020798885637244517), (2677, 0.028405060923005397), (2678, 0.0), (2679, 0.0), (2680, 0.0), (2681, 0.02231096432814046), (2682, 0.0), (2683, 0.0), (2684, 0.04896483696232883), (2685, 0.02038777783261433), (2686, 0.023643437091213908), (2687, 0.04300201259575587), (2688, 0.0), (2689, 0.0), (2690, 0.0), (2691, 0.02943210770256249), (2692, 0.021251140170121488), (2693, 0.01490752187715453), (2694, 0.0), (2695, 0.0), (2696, 0.021743405238921088), (2697, 0.0), (2698, 0.0), (2699, 0.0), (2700, 0.0), (2701, 0.03185728101728627), (2702, 0.0), (2703, 0.0), (2704, 0.0), (2705, 0.02464547666398861), (2706, 0.012439513708879779), (2707, 0.0334911748708392), (2708, 0.0), (2709, 0.0), (2710, 0.0), (2711, 0.0), (2712, 0.0), (2713, 0.0), (2714, 0.0), (2715, 0.0214507870711833), (2716, 0.02722141814862399), (2717, 0.026372411162835466), (2718, 0.009790721465102258), (2719, 0.0), (2720, 0.0), (2721, 0.0), (2722, 0.0), (2723, 0.0), (2724, 0.0), (2725, 0.0), (2726, 0.0), (2727, 0.0), (2728, 0.0), (2729, 0.0), (2730, 0.008882385327104616), (2731, 0.0), (2732, 0.01006289728844354), (2733, 0.05810128847314559), (2734, 0.0), (2735, 0.0), (2736, 0.0), (2737, 0.013043787525121446), (2738, 0.013828029770995997), (2739, 0.0), (2740, 0.0), (2741, 0.0), (2742, 0.02635812680689192), (2743, 0.0), (2744, 0.0), (2745, 0.0), (2746, 0.0), (2747, 0.0), (2748, 0.0), (2749, 0.022186202081072214), (2750, 0.0), (2751, 0.02000094181242821), (2752, 0.010086634103818404), (2753, 0.0), (2754, 0.0), (2755, 0.0), (2756, 0.012008057698120174), (2757, 0.0), (2758, 0.0), (2759, 0.012411302887616951), (2760, 0.01387383412733544), (2761, 0.011623383939533582), (2762, 0.05829301154714467), (2763, 0.0), (2764, 0.0), (2765, 0.0), (2766, 0.010169808443086834), (2767, 0.0), (2768, 0.0), (2769, 0.025480902908591695), (2770, 0.0), (2771, 0.0), (2772, 0.041420917173842), (2773, 0.011495919884529427), (2774, 0.0), (2775, 0.0), (2776, 0.0), (2777, 0.0), (2778, 0.0), (2779, 0.0), (2780, 0.019217828758961674), (2781, 0.0), (2782, 0.008108524136131562), (2783, 0.0), (2784, 0.0), (2785, 0.0), (2786, 0.0), (2787, 0.0), (2788, 0.010722337362654539), (2789, 0.0), (2790, 0.0), (2791, 0.0), (2792, 0.0), (2793, 0.03274729296116117), (2794, 0.018018740739767045), (2795, 0.019967882326411925), (2796, 0.0), (2797, 0.01325596510712073), (2798, 0.0), (2799, 0.0), (2800, 0.013293524946924403), (2801, 0.0), (2802, 0.0), (2803, 0.02333835125889693), (2804, 0.010892341064216614), (2805, 0.0357482339953695), (2806, 0.0), (2807, 0.0), (2808, 0.05886884125732157), (2809, 0.023787399132358784), (2810, 0.0), (2811, 0.0), (2812, 0.010528591618263677), (2813, 0.014937002179244523), (2814, 0.0), (2815, 0.0), (2816, 0.01985468881925014), (2817, 0.020781874417371265), (2818, 0.0), (2819, 0.0), (2820, 0.013324302355897702), (2821, 0.0), (2822, 0.0), (2823, 0.0), (2824, 0.0), (2825, 0.0), (2826, 0.0), (2827, 0.03794413787563194), (2828, 0.025332976017063833), (2829, 0.0), (2830, 0.020526601289884018), (2831, 0.02270210851461117), (2832, 0.041615267823769564), (2833, 0.0), (2834, 0.0), (2835, 0.0), (2836, 0.013314150541480097), (2837, 0.0), (2838, 0.013438511929207198), (2839, 0.0), (2840, 0.0), (2841, 0.023706208294736672), (2842, 0.031542027421776586), (2843, 0.024357506496597587), (2844, 0.0), (2845, 0.02092856991588744), (2846, 0.0), (2847, 0.0), (2848, 0.02923847446475457), (2849, 0.0), (2850, 0.021204381101995254), (2851, 0.0), (2852, 0.0), (2853, 0.0), (2854, 0.0), (2855, 0.0), (2856, 0.0), (2857, 0.0), (2858, 0.02986224076813926), (2859, 0.0), (2860, 0.0), (2861, 0.0), (2862, 0.0), (2863, 0.028731487754485863), (2864, 0.0110603214117818), (2865, 0.009532422662183368), (2866, 0.0), (2867, 0.03471500858081171), (2868, 0.0), (2869, 0.0), (2870, 0.0), (2871, 0.0), (2872, 0.0), (2873, 0.0), (2874, 0.011358207960643713), (2875, 0.016367255481636048), (2876, 0.0), (2877, 0.017115359033748664), (2878, 0.0), (2879, 0.02393698533312682), (2880, 0.02478342562409884), (2881, 0.0), (2882, 0.0), (2883, 0.027004310508023346), (2884, 0.022126242353281974), (2885, 0.0), (2886, 0.0), (2887, 0.00886736939724729), (2888, 0.0), (2889, 0.0), (2890, 0.0), (2891, 0.03371928241849238), (2892, 0.0), (2893, 0.0), (2894, 0.0), (2895, 0.0), (2896, 0.0), (2897, 0.0), (2898, 0.0), (2899, 0.0), (2900, 0.0), (2901, 0.04001554564607745), (2902, 0.02504220666788988), (2903, 0.0), (2904, 0.0), (2905, 0.0), (2906, 0.0), (2907, 0.03275394473050747), (2908, 0.0), (2909, 0.0), (2910, 0.0), (2911, 0.016802649614312843), (2912, 0.0), (2913, 0.009142958681814965), (2914, 0.021603501639029247), (2915, 0.0), (2916, 0.0), (2917, 0.0), (2918, 0.0), (2919, 0.0), (2920, 0.01337681231153814), (2921, 0.0), (2922, 0.0), (2923, 0.0), (2924, 0.0), (2925, 0.030594260333159255), (2926, 0.0), (2927, 0.02280951033073665), (2928, 0.025624493499233462), (2929, 0.0), (2930, 0.0), (2931, 0.0), (2932, 0.022750239960281454), (2933, 0.0), (2934, 0.0), (2935, 0.01305815898150913), (2936, 0.0), (2937, 0.0), (2938, 0.012180967393750821), (2939, 0.0), (2940, 0.0), (2941, 0.03948153102566791), (2942, 0.011448429125746255), (2943, 0.014957505791002152), (2944, 0.021655358071555168), (2945, 0.0), (2946, 0.012348812163978918), (2947, 0.09310347633084921), (2948, 0.057421375743368024), (2949, 0.012231326554113431), (2950, 0.012721815642137674), (2951, 0.0), (2952, 0.0), (2953, 0.0), (2954, 0.0), (2955, 0.0), (2956, 0.0), (2957, 0.04781166693028607), (2958, 0.02170419259459372), (2959, 0.0), (2960, 0.02450885481818506), (2961, 0.0), (2962, 0.012334582107300422), (2963, 0.0), (2964, 0.035824267257471884), (2965, 0.019328317146527992), (2966, 0.024593926008774296), (2967, 0.027337562356779976), (2968, 0.015449714015241601), (2969, 0.0), (2970, 0.0), (2971, 0.011483815310788282), (2972, 0.0), (2973, 0.034328814093540244), (2974, 0.0), (2975, 0.0), (2976, 0.0), (2977, 0.019360851612712605), (2978, 0.0), (2979, 0.0), (2980, 0.025093683834778724), (2981, 0.0), (2982, 0.029910426458855173), (2983, 0.05319992510060055), (2984, 0.0), (2985, 0.009222729778818007), (2986, 0.008581849595224348), (2987, 0.0), (2988, 0.02192144333572715), (2989, 0.025226869159226208), (2990, 0.02451115967259851), (2991, 0.009168623017187974), (2992, 0.0), (2993, 0.0), (2994, 0.0), (2995, 0.0), (2996, 0.0), (2997, 0.023417701892955757), (2998, 0.0208894262404876), (2999, 0.0), (3000, 0.033009882684613245), (3001, 0.0), (3002, 0.019519908391882567), (3003, 0.0), (3004, 0.0), (3005, 0.03813631124373823), (3006, 0.014701085183727033), (3007, 0.010780843488248917), (3008, 0.0), (3009, 0.0), (3010, 0.04514772985370844), (3011, 0.013064662863930784), (3012, 0.0), (3013, 0.0), (3014, 0.019533742303575824), (3015, 0.04382173166026897), (3016, 0.0), (3017, 0.06528997356517342), (3018, 0.008674621702421973), (3019, 0.0), (3020, 0.0), (3021, 0.0), (3022, 0.0), (3023, 0.012072117699338632), (3024, 0.026853928339628085), (3025, 0.0), (3026, 0.02271633614468528), (3027, 0.061653860836731626), (3028, 0.0), (3029, 0.03411832817557638), (3030, 0.0212509209540078), (3031, 0.02158765910509021), (3032, 0.0), (3033, 0.0), (3034, 0.0), (3035, 0.0), (3036, 0.0), (3037, 0.0), (3038, 0.0), (3039, 0.0), (3040, 0.0), (3041, 0.0), (3042, 0.00963585939748395), (3043, 0.0), (3044, 0.013279348737647344), (3045, 0.0), (3046, 0.03196198757072196), (3047, 0.0), (3048, 0.0), (3049, 0.00990129796172871), (3050, 0.022813213516651613), (3051, 0.0), (3052, 0.0), (3053, 0.0), (3054, 0.0), (3055, 0.0), (3056, 0.010390010431440158), (3057, 0.0), (3058, 0.02411108334998991), (3059, 0.0), (3060, 0.0), (3061, 0.0), (3062, 0.0), (3063, 0.0), (3064, 0.02459678836351541), (3065, 0.02709976077612262), (3066, 0.0), (3067, 0.0), (3068, 0.0), (3069, 0.0), (3070, 0.03139479970210607), (3071, 0.0), (3072, 0.011344415541365411), (3073, 0.0), (3074, 0.0), (3075, 0.0), (3076, 0.009909196087027972), (3077, 0.0), (3078, 0.0), (3079, 0.0), (3080, 0.0), (3081, 0.022205224069080758), (3082, 0.009706900028457746), (3083, 0.0), (3084, 0.0), (3085, 0.009917017225101916), (3086, 0.0), (3087, 0.0), (3088, 0.0), (3089, 0.0), (3090, 0.037379036955523526), (3091, 0.0), (3092, 0.0), (3093, 0.008962591298868994), (3094, 0.0), (3095, 0.0), (3096, 0.0), (3097, 0.008929188503632668), (3098, 0.0), (3099, 0.0), (3100, 0.0), (3101, 0.05590111721560272), (3102, 0.0), (3103, 0.0), (3104, 0.07056855777334645), (3105, 0.0), (3106, 0.0), (3107, 0.009734900680068527), (3108, 0.02955942256600997), (3109, 0.0), (3110, 0.0), (3111, 0.0), (3112, 0.0), (3113, 0.0), (3114, 0.0), (3115, 0.0), (3116, 0.0), (3117, 0.0), (3118, 0.02845466912716266), (3119, 0.0), (3120, 0.0413987766917474), (3121, 0.017103114258055104), (3122, 0.06283625331868865), (3123, 0.009682824820007077), (3124, 0.017791632767778263), (3125, 0.0), (3126, 0.024020291357238144), (3127, 0.0), (3128, 0.0), (3129, 0.03044873576324403), (3130, 0.0), (3131, 0.0), (3132, 0.0), (3133, 0.01834892892850705), (3134, 0.0), (3135, 0.0), (3136, 0.0), (3137, 0.03131386796691953), (3138, 0.0), (3139, 0.0), (3140, 0.04820190390285816), (3141, 0.0), (3142, 0.0), (3143, 0.008309167412157804), (3144, 0.0), (3145, 0.05413059784131131), (3146, 0.09371994861048825), (3147, 0.02176391409281655), (3148, 0.0), (3149, 0.0), (3150, 0.0), (3151, 0.0), (3152, 0.0), (3153, 0.023564039221221134), (3154, 0.0), (3155, 0.0), (3156, 0.0), (3157, 0.013954928148013029), (3158, 0.020556678679224182), (3159, 0.02117497829949577), (3160, 0.0), (3161, 0.027636131637410646), (3162, 0.0), (3163, 0.04960866216885085), (3164, 0.0), (3165, 0.0), (3166, 0.0), (3167, 0.0353342937089402), (3168, 0.0), (3169, 0.02950113389981175), (3170, 0.03640957859774312), (3171, 0.0), (3172, 0.0), (3173, 0.0), (3174, 0.0), (3175, 0.018011547634463356), (3176, 0.026410333102841622), (3177, 0.0), (3178, 0.0), (3179, 0.0), (3180, 0.0), (3181, 0.025578367333130556), (3182, 0.03970754299652738), (3183, 0.0), (3184, 0.0), (3185, 0.0), (3186, 0.0), (3187, 0.00877387636672911), (3188, 0.0), (3189, 0.018928503265409003), (3190, 0.0), (3191, 0.0), (3192, 0.022621110038045508), (3193, 0.0), (3194, 0.0), (3195, 0.013002648594544348), (3196, 0.0), (3197, 0.0), (3198, 0.0), (3199, 0.0), (3200, 0.0), (3201, 0.010854318589766663), (3202, 0.0), (3203, 0.011347387275144576), (3204, 0.0), (3205, 0.0), (3206, 0.0), (3207, 0.027435149937522517), (3208, 0.0), (3209, 0.0), (3210, 0.018131177501473385), (3211, 0.0), (3212, 0.0), (3213, 0.0), (3214, 0.0), (3215, 0.0), (3216, 0.02994252537895333), (3217, 0.0), (3218, 0.0), (3219, 0.011522841381674065), (3220, 0.024414970987943044), (3221, 0.0), (3222, 0.015178530551705803), (3223, 0.0), (3224, 0.0), (3225, 0.013010716042427314), (3226, 0.0), (3227, 0.0), (3228, 0.0), (3229, 0.008319668549815255), (3230, 0.025415672848808964), (3231, 0.0), (3232, 0.0), (3233, 0.0), (3234, 0.0), (3235, 0.020861947070728953), (3236, 0.0), (3237, 0.0), (3238, 0.0), (3239, 0.0), (3240, 0.01692269216998781), (3241, 0.0), (3242, 0.0), (3243, 0.01442482497877421), (3244, 0.0), (3245, 0.0), (3246, 0.02008866795724825), (3247, 0.0), (3248, 0.0), (3249, 0.0), (3250, 0.012811241334477362), (3251, 0.00851068814635476), (3252, 0.021366244338581513), (3253, 0.009988732042900093), (3254, 0.0), (3255, 0.0), (3256, 0.00828491319871255), (3257, 0.009679364017946357), (3258, 0.01124070945275943), (3259, 0.0), (3260, 0.0), (3261, 0.0), (3262, 0.030338009744861734), (3263, 0.0), (3264, 0.0), (3265, 0.04347003436179944), (3266, 0.0), (3267, 0.011124825213631562), (3268, 0.0), (3269, 0.0), (3270, 0.0), (3271, 0.0), (3272, 0.0), (3273, 0.04368763694992785), (3274, 0.0), (3275, 0.0), (3276, 0.0), (3277, 0.0), (3278, 0.00994258555351712), (3279, 0.0), (3280, 0.0), (3281, 0.0), (3282, 0.0), (3283, 0.0), (3284, 0.031099704216572318), (3285, 0.0), (3286, 0.0), (3287, 0.028125676322191123), (3288, 0.022176997550778937), (3289, 0.0), (3290, 0.026549922270735927), (3291, 0.030106006432177555), (3292, 0.0), (3293, 0.0), (3294, 0.010950957103411818), (3295, 0.0), (3296, 0.008740743779680885), (3297, 0.0), (3298, 0.0), (3299, 0.0), (3300, 0.0), (3301, 0.0), (3302, 0.0), (3303, 0.010019164354541683), (3304, 0.0), (3305, 0.00950453331017517), (3306, 0.012009589163402657), (3307, 0.022540871479342032), (3308, 0.0), (3309, 0.0), (3310, 0.0), (3311, 0.010158532151060983), (3312, 0.021805572234371937), (3313, 0.012756841724791827), (3314, 0.0), (3315, 0.0), (3316, 0.0), (3317, 0.0), (3318, 0.0), (3319, 0.0), (3320, 0.0), (3321, 0.024564074135476455), (3322, 0.0), (3323, 0.009044991359556444), (3324, 0.0), (3325, 0.0), (3326, 0.0), (3327, 0.0), (3328, 0.0), (3329, 0.0), (3330, 0.0101007246076276), (3331, 0.035503420571417255), (3332, 0.02856616182831681), (3333, 0.0226766522020334), (3334, 0.0), (3335, 0.011263987931959856), (3336, 0.0), (3337, 0.013415563318115014), (3338, 0.0), (3339, 0.013238267038865036), (3340, 0.04907794837385418), (3341, 0.0), (3342, 0.04795189685193742), (3343, 0.010708389655268758), (3344, 0.0), (3345, 0.01317469070297667), (3346, 0.00951008972242441), (3347, 0.0), (3348, 0.0), (3349, 0.0), (3350, 0.008888647515214877), (3351, 0.009619383012671689), (3352, 0.0), (3353, 0.02156369354324326), (3354, 0.0), (3355, 0.024559476181191586), (3356, 0.013485471083304694), (3357, 0.020640723329087673), (3358, 0.0), (3359, 0.0), (3360, 0.021855896168043464), (3361, 0.024507863887423976), (3362, 0.0), (3363, 0.0), (3364, 0.023776164465107105), (3365, 0.0), (3366, 0.0), (3367, 0.0), (3368, 0.0), (3369, 0.020593944950141625), (3370, 0.0), (3371, 0.037361865342250236), (3372, 0.021764239630537807), (3373, 0.0), (3374, 0.02502792821064825), (3375, 0.0), (3376, 0.0), (3377, 0.0), (3378, 0.0107259676049824), (3379, 0.030458450799482926), (3380, 0.0), (3381, 0.0), (3382, 0.0263538103557217), (3383, 0.0), (3384, 0.06019382971025077), (3385, 0.0), (3386, 0.0), (3387, 0.0), (3388, 0.0), (3389, 0.0), (3390, 0.02104482195233888), (3391, 0.0), (3392, 0.0), (3393, 0.0), (3394, 0.014947407271221838), (3395, 0.0), (3396, 0.0), (3397, 0.0), (3398, 0.0), (3399, 0.0), (3400, 0.0), (3401, 0.030849397238422213), (3402, 0.012379365923998815), (3403, 0.0), (3404, 0.0), (3405, 0.03145651849075956), (3406, 0.0), (3407, 0.0), (3408, 0.0), (3409, 0.0), (3410, 0.013097168548098828), (3411, 0.013706558039394566), (3412, 0.0), (3413, 0.06580808592431092), (3414, 0.0226898666657972), (3415, 0.0), (3416, 0.018941079815848774), (3417, 0.0), (3418, 0.016960799889983856), (3419, 0.027570592562089394), (3420, 0.0), (3421, 0.0), (3422, 0.0), (3423, 0.023593344716196295), (3424, 0.0), (3425, 0.00882580348490697), (3426, 0.0), (3427, 0.0), (3428, 0.01936444057008688), (3429, 0.0), (3430, 0.0), (3431, 0.029089298047617396), (3432, 0.0), (3433, 0.0), (3434, 0.0), (3435, 0.0), (3436, 0.03849255179444665), (3437, 0.039780300854040045), (3438, 0.015099447220155661), (3439, 0.01140240423075706), (3440, 0.04227926343841702), (3441, 0.011855543838598336), (3442, 0.021034906585134863), (3443, 0.0), (3444, 0.010435852719999115), (3445, 0.010602741992232156), (3446, 0.0), (3447, 0.010281739134082962), (3448, 0.0), (3449, 0.009827449446845967), (3450, 0.011295234060771433), (3451, 0.0), (3452, 0.0), (3453, 0.0), (3454, 0.0), (3455, 0.023379100470195962), (3456, 0.0), (3457, 0.014346666599124593), (3458, 0.0), (3459, 0.0), (3460, 0.025363422177493787), (3461, 0.0), (3462, 0.009728639063537261), (3463, 0.0), (3464, 0.0), (3465, 0.0), (3466, 0.0), (3467, 0.01989698612517713), (3468, 0.0), (3469, 0.021813318853164402), (3470, 0.0), (3471, 0.0), (3472, 0.0), (3473, 0.008452976102927409), (3474, 0.0), (3475, 0.0), (3476, 0.03569858426044187), (3477, 0.0), (3478, 0.0), (3479, 0.0), (3480, 0.0), (3481, 0.0076648758800609024), (3482, 0.009704787534566927), (3483, 0.02481441519501098), (3484, 0.0), (3485, 0.0), (3486, 0.025357706338138886), (3487, 0.0), (3488, 0.0), (3489, 0.0), (3490, 0.0), (3491, 0.0), (3492, 0.0), (3493, 0.0), (3494, 0.0), (3495, 0.0), (3496, 0.0), (3497, 0.0), (3498, 0.0), (3499, 0.026418477648124026), (3500, 0.0), (3501, 0.0), (3502, 0.0), (3503, 0.0), (3504, 0.0), (3505, 0.0), (3506, 0.0), (3507, 0.0), (3508, 0.012824001732271627), (3509, 0.0), (3510, 0.0), (3511, 0.01944843554378291), (3512, 0.0), (3513, 0.0), (3514, 0.0), (3515, 0.01048982806127123), (3516, 0.0), (3517, 0.0), (3518, 0.0), (3519, 0.0), (3520, 0.0), (3521, 0.0), (3522, 0.0), (3523, 0.0), (3524, 0.050707752593628086), (3525, 0.0), (3526, 0.0110495779631005), (3527, 0.00760804580941629), (3528, 0.0), (3529, 0.012904796366980121), (3530, 0.0), (3531, 0.0), (3532, 0.0), (3533, 0.030577004872739347), (3534, 0.011907826647340199), (3535, 0.0), (3536, 0.0), (3537, 0.0), (3538, 0.0), (3539, 0.0), (3540, 0.0), (3541, 0.0), (3542, 0.0), (3543, 0.0), (3544, 0.0), (3545, 0.0), (3546, 0.0), (3547, 0.0), (3548, 0.1664439990817012), (3549, 0.021492397586928263), (3550, 0.0), (3551, 0.13771290691553528), (3552, 0.0), (3553, 0.0), (3554, 0.03898621414991367), (3555, 0.024487546487335296), (3556, 0.0), (3557, 0.0), (3558, 0.02358190032179494), (3559, 0.022029500214908536), (3560, 0.01947626266389998), (3561, 0.02072568070271378), (3562, 0.04682142418920926), (3563, 0.021579595253675515), (3564, 0.0), (3565, 0.0), (3566, 0.021031610047281962), (3567, 0.0), (3568, 0.0), (3569, 0.06544762749800095), (3570, 0.0), (3571, 0.0), (3572, 0.025359352071716964), (3573, 0.0), (3574, 0.05526296173240398), (3575, 0.0), (3576, 0.01726700432467543), (3577, 0.0), (3578, 0.0), (3579, 0.0), (3580, 0.0), (3581, 0.0), (3582, 0.026195378280900863), (3583, 0.0), (3584, 0.0), (3585, 0.0), (3586, 0.03117336494973124), (3587, 0.0), (3588, 0.0), (3589, 0.035681466463131556), (3590, 0.0), (3591, 0.0), (3592, 0.021475916559301214), (3593, 0.03364028620689563), (3594, 0.0), (3595, 0.03935790605604898), (3596, 0.0), (3597, 0.022223177962554054), (3598, 0.037108221669277464), (3599, 0.0), (3600, 0.04524216164001102), (3601, 0.02134386128185576), (3602, 0.0220164323326999), (3603, 0.0), (3604, 0.01861044624996169), (3605, 0.0), (3606, 0.0), (3607, 0.0), (3608, 0.034528284503747904), (3609, 0.0), (3610, 0.0), (3611, 0.012846025101453206), (3612, 0.0), (3613, 0.0), (3614, 0.0), (3615, 0.0), (3616, 0.025658290257159558), (3617, 0.02100187937899082), (3618, 0.0), (3619, 0.0), (3620, 0.0), (3621, 0.010530208691428622), (3622, 0.010040354911923847), (3623, 0.0), (3624, 0.0), (3625, 0.0), (3626, 0.0), (3627, 0.010185995472057898), (3628, 0.0), (3629, 0.012855134418176557), (3630, 0.020424983061858547), (3631, 0.025138901700221646), (3632, 0.0), (3633, 0.010996500327367327), (3634, 0.0), (3635, 0.0), (3636, 0.0), (3637, 0.0), (3638, 0.011153773367372504), (3639, 0.0), (3640, 0.022300705068570303), (3641, 0.011469364029084606), (3642, 0.010529987091971131), (3643, 0.0), (3644, 0.0), (3645, 0.0), (3646, 0.0), (3647, 0.0), (3648, 0.019632484135708644), (3649, 0.01204535239652882), (3650, 0.0), (3651, 0.0), (3652, 0.0213290749263578), (3653, 0.01995963787347051), (3654, 0.0), (3655, 0.0), (3656, 0.02272870607864551), (3657, 0.008803752592964134), (3658, 0.0520763136891079), (3659, 0.0), (3660, 0.0), (3661, 0.0), (3662, 0.0), (3663, 0.0), (3664, 0.0), (3665, 0.0), (3666, 0.0), (3667, 0.0), (3668, 0.0), (3669, 0.0), (3670, 0.0), (3671, 0.023194509811741114), (3672, 0.023190869526739967), (3673, 0.0), (3674, 0.0), (3675, 0.0), (3676, 0.06011366327460983), (3677, 0.02164362060174556), (3678, 0.0), (3679, 0.08948270055959967), (3680, 0.036686885465768516), (3681, 0.0), (3682, 0.0), (3683, 0.05473565055063383), (3684, 0.0), (3685, 0.0), (3686, 0.0), (3687, 0.0), (3688, 0.0), (3689, 0.0), (3690, 0.012484539031403789), (3691, 0.01813677658237028), (3692, 0.040313777251713305), (3693, 0.0), (3694, 0.0), (3695, 0.012537278106498018), (3696, 0.012714181197820931), (3697, 0.0), (3698, 0.0), (3699, 0.0), (3700, 0.0), (3701, 0.0), (3702, 0.0), (3703, 0.011403745503286421), (3704, 0.0), (3705, 0.02774229441262368), (3706, 0.0), (3707, 0.0), (3708, 0.0), (3709, 0.0), (3710, 0.0), (3711, 0.0), (3712, 0.0), (3713, 0.0), (3714, 0.0), (3715, 0.024200271681794658), (3716, 0.0), (3717, 0.04126152986801025), (3718, 0.0), (3719, 0.0), (3720, 0.027163497571710677), (3721, 0.0), (3722, 0.0), (3723, 0.06528474925280267), (3724, 0.0), (3725, 0.014197005165309178), (3726, 0.0), (3727, 0.028565108596458017), (3728, 0.025208308131186092), (3729, 0.0), (3730, 0.0), (3731, 0.0), (3732, 0.029682268119711596), (3733, 0.00891996215540018), (3734, 0.013687920306628226), (3735, 0.0), (3736, 0.024795738259989524), (3737, 0.021156838301088703), (3738, 0.0), (3739, 0.01470491010779116), (3740, 0.0), (3741, 0.0), (3742, 0.025757779434194987), (3743, 0.029112558100219312), (3744, 0.02366685464512325), (3745, 0.0), (3746, 0.0), (3747, 0.0), (3748, 0.0), (3749, 0.02197915040755158), (3750, 0.0), (3751, 0.0), (3752, 0.024944814478108823), (3753, 0.0), (3754, 0.0), (3755, 0.0), (3756, 0.01474394034025596), (3757, 0.009545864978027995), (3758, 0.023963640807777308), (3759, 0.0), (3760, 0.0), (3761, 0.052734243605814864), (3762, 0.024462668516393775), (3763, 0.040721565197173765), (3764, 0.0), (3765, 0.0), (3766, 0.0), (3767, 0.0), (3768, 0.0), (3769, 0.0), (3770, 0.0), (3771, 0.0), (3772, 0.0), (3773, 0.0), (3774, 0.025997999606287635), (3775, 0.0), (3776, 0.0), (3777, 0.0), (3778, 0.025135403210907212), (3779, 0.0), (3780, 0.0), (3781, 0.0), (3782, 0.0), (3783, 0.0), (3784, 0.0), (3785, 0.0468617634358571), (3786, 0.0), (3787, 0.0), (3788, 0.0), (3789, 0.0), (3790, 0.0), (3791, 0.06155368126371773), (3792, 0.0), (3793, 0.0), (3794, 0.017234747453955927), (3795, 0.0356782060086259), (3796, 0.011530282605379668), (3797, 0.0), (3798, 0.0), (3799, 0.0), (3800, 0.0), (3801, 0.0), (3802, 0.0), (3803, 0.0), (3804, 0.0), (3805, 0.015637574165537106), (3806, 0.0575689855481159), (3807, 0.052007541613575535), (3808, 0.027201517706465613), (3809, 0.0), (3810, 0.0), (3811, 0.0), (3812, 0.0), (3813, 0.0), (3814, 0.0), (3815, 0.0), (3816, 0.0), (3817, 0.0), (3818, 0.0), (3819, 0.0), (3820, 0.0), (3821, 0.0), (3822, 0.0), (3823, 0.011211577466641566), (3824, 0.0), (3825, 0.0), (3826, 0.0), (3827, 0.0), (3828, 0.020533423451529923), (3829, 0.022066939479103855), (3830, 0.0), (3831, 0.0), (3832, 0.0), (3833, 0.0102358257468243), (3834, 0.0), (3835, 0.02180473269086158), (3836, 0.0), (3837, 0.012211091380071846), (3838, 0.0), (3839, 0.0), (3840, 0.021809107719743454), (3841, 0.02042040868982888), (3842, 0.0), (3843, 0.02220289602215717), (3844, 0.0), (3845, 0.01951537018646973), (3846, 0.01279095426506882), (3847, 0.0), (3848, 0.010047751633177279), (3849, 0.0), (3850, 0.0), (3851, 0.0), (3852, 0.0), (3853, 0.02512639615026258), (3854, 0.0), (3855, 0.0), (3856, 0.0), (3857, 0.0), (3858, 0.029951409180324476), (3859, 0.010626542835827967), (3860, 0.0), (3861, 0.012484939050480886), (3862, 0.0), (3863, 0.0387042735672888), (3864, 0.0), (3865, 0.0), (3866, 0.0), (3867, 0.0), (3868, 0.0), (3869, 0.0), (3870, 0.00938979877335848), (3871, 0.0), (3872, 0.035129782401012714), (3873, 0.033153494384153236), (3874, 0.0), (3875, 0.016567453440787975), (3876, 0.0), (3877, 0.02053543153065328), (3878, 0.0), (3879, 0.0), (3880, 0.0), (3881, 0.05076800551019643), (3882, 0.025219552465373957), (3883, 0.0), (3884, 0.0), (3885, 0.020651303865963363), (3886, 0.013061542190733041), (3887, 0.0), (3888, 0.0), (3889, 0.0191802660313669), (3890, 0.0), (3891, 0.0), (3892, 0.0), (3893, 0.03416648625225374), (3894, 0.0), (3895, 0.03028080934326009), (3896, 0.021141877861739548), (3897, 0.0), (3898, 0.0), (3899, 0.0074231094109197026), (3900, 0.0), (3901, 0.0), (3902, 0.021994088151748865), (3903, 0.0), (3904, 0.0), (3905, 0.0), (3906, 0.009399548037835707), (3907, 0.021381186968229667), (3908, 0.0), (3909, 0.0), (3910, 0.0), (3911, 0.0), (3912, 0.0), (3913, 0.0), (3914, 0.0), (3915, 0.0), (3916, 0.0), (3917, 0.0), (3918, 0.0), (3919, 0.010770779579757053), (3920, 0.0316277497187505), (3921, 0.0), (3922, 0.0), (3923, 0.0), (3924, 0.0), (3925, 0.0), (3926, 0.0), (3927, 0.0), (3928, 0.0), (3929, 0.026957501677782686), (3930, 0.03287997002646427), (3931, 0.012502170066544284), (3932, 0.0), (3933, 0.0), (3934, 0.01810359963535662), (3935, 0.0), (3936, 0.0), (3937, 0.0), (3938, 0.0), (3939, 0.02286080816819924), (3940, 0.0), (3941, 0.0), (3942, 0.0), (3943, 0.0), (3944, 0.010970615494714193), (3945, 0.0), (3946, 0.03983936289572346), (3947, 0.0), (3948, 0.027090534782875913), (3949, 0.0), (3950, 0.0), (3951, 0.0), (3952, 0.0), (3953, 0.03672662275384334), (3954, 0.022978804401932736), (3955, 0.0), (3956, 0.0), (3957, 0.04932229277873691), (3958, 0.06750739919871043), (3959, 0.0), (3960, 0.0), (3961, 0.0), (3962, 0.030356660850612022), (3963, 0.0), (3964, 0.02262118357022965), (3965, 0.0), (3966, 0.0), (3967, 0.0), (3968, 0.0), (3969, 0.0), (3970, 0.0), (3971, 0.0), (3972, 0.0), (3973, 0.0), (3974, 0.0), (3975, 0.0), (3976, 0.011271970102484343), (3977, 0.0), (3978, 0.03912194516938258), (3979, 0.0), (3980, 0.020720582461748672), (3981, 0.014315718194790513), (3982, 0.02221263295363611), (3983, 0.0), (3984, 0.0), (3985, 0.031135887722007247), (3986, 0.0), (3987, 0.0), (3988, 0.02558108467805362), (3989, 0.0), (3990, 0.031129344210082448), (3991, 0.0), (3992, 0.0), (3993, 0.0), (3994, 0.0), (3995, 0.0), (3996, 0.0), (3997, 0.0), (3998, 0.030563087976897066), (3999, 0.0), (4000, 0.0), (4001, 0.0), (4002, 0.0), (4003, 0.0), (4004, 0.0), (4005, 0.025008384160265257), (4006, 0.0), (4007, 0.007057597814333033), (4008, 0.05008993334563875), (4009, 0.01975719265738081), (4010, 0.0), (4011, 0.02110658058328649), (4012, 0.0), (4013, 0.0), (4014, 0.0), (4015, 0.0), (4016, 0.026245511492083325), (4017, 0.0), (4018, 0.023329912129727827), (4019, 0.0), (4020, 0.026122877910604803), (4021, 0.0), (4022, 0.0), (4023, 0.0), (4024, 0.0), (4025, 0.0), (4026, 0.0), (4027, 0.0), (4028, 0.0), (4029, 0.0), (4030, 0.0), (4031, 0.019939992790381982), (4032, 0.0), (4033, 0.0), (4034, 0.0), (4035, 0.0469979923855833), (4036, 0.02300062085365148), (4037, 0.0), (4038, 0.028873481605116106), (4039, 0.010405832715460668), (4040, 0.0), (4041, 0.0), (4042, 0.0), (4043, 0.0), (4044, 0.0), (4045, 0.0), (4046, 0.0), (4047, 0.0), (4048, 0.0), (4049, 0.0), (4050, 0.0), (4051, 0.0), (4052, 0.02120972361266864), (4053, 0.02291264402066957), (4054, 0.0), (4055, 0.0), (4056, 0.0), (4057, 0.0), (4058, 0.026754443925009804), (4059, 0.0), (4060, 0.0), (4061, 0.13099109029520944), (4062, 0.0), (4063, 0.0), (4064, 0.0), (4065, 0.0), (4066, 0.054232318186912515), (4067, 0.0), (4068, 0.0), (4069, 0.020800935777022148), (4070, 0.0), (4071, 0.0), (4072, 0.024311294553850338), (4073, 0.0), (4074, 0.07317901578859043), (4075, 0.0), (4076, 0.0), (4077, 0.009412068613037608), (4078, 0.0), (4079, 0.013358228272282892), (4080, 0.04859744639057155), (4081, 0.0), (4082, 0.0), (4083, 0.0), (4084, 0.0), (4085, 0.0), (4086, 0.0), (4087, 0.009503985010162867), (4088, 0.0), (4089, 0.022433992292664278), (4090, 0.0), (4091, 0.0), (4092, 0.0), (4093, 0.0), (4094, 0.0), (4095, 0.0), (4096, 0.0), (4097, 0.012291084416546348), (4098, 0.0), (4099, 0.0), (4100, 0.028943690446615395), (4101, 0.0), (4102, 0.020334528104403324), (4103, 0.012570934435416686), (4104, 0.0), (4105, 0.0113581956187946), (4106, 0.0), (4107, 0.0), (4108, 0.0), (4109, 0.01047495176585918), (4110, 0.006492247517918031), (4111, 0.0), (4112, 0.0), (4113, 0.0), (4114, 0.047461857331888194), (4115, 0.0), (4116, 0.023294964863821155), (4117, 0.0), (4118, 0.0), (4119, 0.0), (4120, 0.0), (4121, 0.0), (4122, 0.0), (4123, 0.0), (4124, 0.0), (4125, 0.012783304022355618), (4126, 0.013905762410438493), (4127, 0.009368317449547206), (4128, 0.025465006422608835), (4129, 0.030003081042106264), (4130, 0.028644020654162126), (4131, 0.02245971795842425), (4132, 0.02162879033757045), (4133, 0.015107384474148472), (4134, 0.03919196573850671), (4135, 0.023572869778831197), (4136, 0.0), (4137, 0.019906701806108457), (4138, 0.05778976751560161), (4139, 0.024178054990335065), (4140, 0.0), (4141, 0.0), (4142, 0.0), (4143, 0.0), (4144, 0.0), (4145, 0.0238306982988189), (4146, 0.0), (4147, 0.0), (4148, 0.0), (4149, 0.0), (4150, 0.03449980626724331), (4151, 0.019033292203352512), (4152, 0.0), (4153, 0.0), (4154, 0.0), (4155, 0.0), (4156, 0.0), (4157, 0.021371026534971443), (4158, 0.0), (4159, 0.02799418462215999), (4160, 0.0), (4161, 0.0), (4162, 0.0), (4163, 0.0), (4164, 0.0), (4165, 0.0), (4166, 0.0), (4167, 0.0), (4168, 0.0), (4169, 0.0), (4170, 0.04709009249563771), (4171, 0.013150247906813397), (4172, 0.0), (4173, 0.0), (4174, 0.0), (4175, 0.0), (4176, 0.0), (4177, 0.0), (4178, 0.0), (4179, 0.026520528817897532), (4180, 0.0), (4181, 0.0), (4182, 0.0), (4183, 0.0), (4184, 0.0), (4185, 0.02356651810806478), (4186, 0.025380015065752774), (4187, 0.0), (4188, 0.0), (4189, 0.0), (4190, 0.02084507788360848), (4191, 0.0), (4192, 0.037545638465116535), (4193, 0.0), (4194, 0.0), (4195, 0.050357998092657716), (4196, 0.0), (4197, 0.010059353359912369), (4198, 0.0), (4199, 0.0), (4200, 0.025019062852757516), (4201, 0.0), (4202, 0.0), (4203, 0.0), (4204, 0.009535286933124198), (4205, 0.0), (4206, 0.01051074095310834), (4207, 0.025730095812067068), (4208, 0.0), (4209, 0.0089522956621875), (4210, 0.0), (4211, 0.01134523796458404), (4212, 0.0), (4213, 0.022610827865890526), (4214, 0.02784260500579022), (4215, 0.0), (4216, 0.0), (4217, 0.0), (4218, 0.0), (4219, 0.011727920724466295), (4220, 0.0), (4221, 0.013685194362141589), (4222, 0.010175316578301084), (4223, 0.0), (4224, 0.02304225106135309), (4225, 0.010340594009408243), (4226, 0.0), (4227, 0.0), (4228, 0.04629430526588118), (4229, 0.0), (4230, 0.0), (4231, 0.0), (4232, 0.013980742906679042), (4233, 0.04184955864725387), (4234, 0.03442863526666313), (4235, 0.0), (4236, 0.0), (4237, 0.021565164117672685), (4238, 0.0), (4239, 0.0), (4240, 0.022618311301145222), (4241, 0.0), (4242, 0.0), (4243, 0.0), (4244, 0.0), (4245, 0.02163064995151175), (4246, 0.0), (4247, 0.0), (4248, 0.03858260303901066), (4249, 0.019312102235202203), (4250, 0.0), (4251, 0.015560711189536194), (4252, 0.0), (4253, 0.0), (4254, 0.0), (4255, 0.0), (4256, 0.0), (4257, 0.036504545449934984), (4258, 0.026998080032320175), (4259, 0.0), (4260, 0.008759377518849342), (4261, 0.007925465196612892), (4262, 0.02902821608332136), (4263, 0.0), (4264, 0.02338421142388748), (4265, 0.012117561474961631), (4266, 0.02718848589295535), (4267, 0.0), (4268, 0.0), (4269, 0.0), (4270, 0.0), (4271, 0.0), (4272, 0.0), (4273, 0.0), (4274, 0.018048070836220904), (4275, 0.0), (4276, 0.0), (4277, 0.04237098143378536), (4278, 0.020412750923022804), (4279, 0.0), (4280, 0.027208272872240955), (4281, 0.013566709741851637), (4282, 0.047409251478842014), (4283, 0.0), (4284, 0.046634166205856385), (4285, 0.012142134760532596), (4286, 0.0), (4287, 0.0), (4288, 0.0), (4289, 0.0), (4290, 0.0), (4291, 0.022199260856694752), (4292, 0.0), (4293, 0.0), (4294, 0.0), (4295, 0.0), (4296, 0.0), (4297, 0.0), (4298, 0.0), (4299, 0.012795299821113533), (4300, 0.0), (4301, 0.0), (4302, 0.0), (4303, 0.024546687952141745), (4304, 0.0), (4305, 0.0), (4306, 0.01317922508302213), (4307, 0.0), (4308, 0.012775246553452383), (4309, 0.0), (4310, 0.0), (4311, 0.0), (4312, 0.0), (4313, 0.02319947482115546), (4314, 0.0), (4315, 0.0), (4316, 0.03609235803266597), (4317, 0.021975840959534768), (4318, 0.03126613936393408), (4319, 0.0), (4320, 0.0), (4321, 0.02049967731249379), (4322, 0.0), (4323, 0.026018984018200717), (4324, 0.0), (4325, 0.018347604922833376), (4326, 0.0), (4327, 0.020617682019163034), (4328, 0.02770043290551379), (4329, 0.011936966523419145), (4330, 0.06302944177484043), (4331, 0.0), (4332, 0.0), (4333, 0.0), (4334, 0.0), (4335, 0.0), (4336, 0.0496087016087729), (4337, 0.0), (4338, 0.023588047653889336), (4339, 0.0), (4340, 0.018038239610605196), (4341, 0.061967234150118275), (4342, 0.0), (4343, 0.020422519939885374), (4344, 0.01915396943573896), (4345, 0.0), (4346, 0.010437161334304244), (4347, 0.030671345301926906), (4348, 0.010057391598740972), (4349, 0.0), (4350, 0.0), (4351, 0.0), (4352, 0.0), (4353, 0.020358417762205053), (4354, 0.0), (4355, 0.0), (4356, 0.0), (4357, 0.013713737640243438), (4358, 0.013534354427373128), (4359, 0.011676081017916265), (4360, 0.0), (4361, 0.0), (4362, 0.0), (4363, 0.0), (4364, 0.01979545080566976), (4365, 0.0), (4366, 0.0), (4367, 0.0), (4368, 0.022299257450879597), (4369, 0.0), (4370, 0.0), (4371, 0.012423282388617111), (4372, 0.0), (4373, 0.02382687684609787), (4374, 0.0), (4375, 0.0), (4376, 0.0), (4377, 0.0), (4378, 0.01748688743540564), (4379, 0.0), (4380, 0.010609957033754681), (4381, 0.0), (4382, 0.0), (4383, 0.0), (4384, 0.0), (4385, 0.030234039553409947), (4386, 0.0), (4387, 0.0), (4388, 0.0), (4389, 0.0), (4390, 0.019703245070868593), (4391, 0.0), (4392, 0.0), (4393, 0.0), (4394, 0.008322558580317939), (4395, 0.0), (4396, 0.0), (4397, 0.0), (4398, 0.0), (4399, 0.0), (4400, 0.0), (4401, 0.0), (4402, 0.0), (4403, 0.0), (4404, 0.011700984717014397), (4405, 0.0), (4406, 0.0), (4407, 0.0), (4408, 0.0), (4409, 0.0), (4410, 0.0), (4411, 0.0), (4412, 0.0), (4413, 0.0), (4414, 0.02417632496628916), (4415, 0.04002322600267325), (4416, 0.0), (4417, 0.0), (4418, 0.0), (4419, 0.0), (4420, 0.031297826140032826), (4421, 0.029163740196241617), (4422, 0.0), (4423, 0.0), (4424, 0.02684142447648364), (4425, 0.0), (4426, 0.0), (4427, 0.012754218371069749), (4428, 0.020196677056660988), (4429, 0.03324417406824739), (4430, 0.0), (4431, 0.0), (4432, 0.0), (4433, 0.028234344462131366), (4434, 0.0), (4435, 0.026514188928522933), (4436, 0.0), (4437, 0.0), (4438, 0.0), (4439, 0.0), (4440, 0.0), (4441, 0.014540554704231793), (4442, 0.0), (4443, 0.0), (4444, 0.0), (4445, 0.0), (4446, 0.0), (4447, 0.04512069879659458), (4448, 0.0), (4449, 0.0), (4450, 0.01643669093313089), (4451, 0.0), (4452, 0.0), (4453, 0.0), (4454, 0.0), (4455, 0.0), (4456, 0.0), (4457, 0.013730713412116981), (4458, 0.0), (4459, 0.0), (4460, 0.0), (4461, 0.0), (4462, 0.0), (4463, 0.014332526030555777), (4464, 0.01866522279050801), (4465, 0.0), (4466, 0.028132662369057423), (4467, 0.013879399081290246), (4468, 0.0), (4469, 0.03011421535540419), (4470, 0.0), (4471, 0.0), (4472, 0.024064539761157095), (4473, 0.05726678403491226), (4474, 0.0), (4475, 0.0), (4476, 0.035883855176057), (4477, 0.03976277524343641), (4478, 0.0223458610247136), (4479, 0.0), (4480, 0.0), (4481, 0.0), (4482, 0.0), (4483, 0.0), (4484, 0.0), (4485, 0.0), (4486, 0.0), (4487, 0.0), (4488, 0.015924176937709058), (4489, 0.024004672767604606), (4490, 0.0), (4491, 0.0), (4492, 0.0), (4493, 0.0), (4494, 0.0), (4495, 0.0), (4496, 0.0618639715089529), (4497, 0.02423634264237012), (4498, 0.009285822596058688), (4499, 0.0), (4500, 0.0), (4501, 0.0), (4502, 0.0), (4503, 0.0), (4504, 0.0), (4505, 0.05467903279083991), (4506, 0.0), (4507, 0.0), (4508, 0.0), (4509, 0.014366882452609567), (4510, 0.01090967983869642), (4511, 0.0), (4512, 0.0), (4513, 0.0), (4514, 0.026562880277245297), (4515, 0.010802916545653235), (4516, 0.021126029331026055), (4517, 0.0), (4518, 0.009723696413339736), (4519, 0.0), (4520, 0.0), (4521, 0.0), (4522, 0.0), (4523, 0.0), (4524, 0.0), (4525, 0.0), (4526, 0.0), (4527, 0.013294091443864174), (4528, 0.0), (4529, 0.0), (4530, 0.014961261343289142), (4531, 0.0), (4532, 0.0), (4533, 0.0), (4534, 0.0), (4535, 0.0), (4536, 0.0), (4537, 0.0), (4538, 0.0), (4539, 0.02267641959707804), (4540, 0.0), (4541, 0.0), (4542, 0.0), (4543, 0.027704619161844447), (4544, 0.0), (4545, 0.020252827908759055), (4546, 0.0), (4547, 0.0), (4548, 0.057111011367829846), (4549, 0.0), (4550, 0.0), (4551, 0.012409010191296742), (4552, 0.028878904273922125), (4553, 0.0), (4554, 0.0), (4555, 0.0), (4556, 0.0), (4557, 0.0), (4558, 0.0195944144837312), (4559, 0.0), (4560, 0.0), (4561, 0.0), (4562, 0.0), (4563, 0.018374937029480988), (4564, 0.0), (4565, 0.0), (4566, 0.0), (4567, 0.012106490042237949), (4568, 0.027800607442562044), (4569, 0.0), (4570, 0.0), (4571, 0.0), (4572, 0.0), (4573, 0.025098810307826333), (4574, 0.04768923063928137), (4575, 0.0), (4576, 0.0), (4577, 0.020816761000889337), (4578, 0.0), (4579, 0.00748372971643116), (4580, 0.0), (4581, 0.0), (4582, 0.0), (4583, 0.0), (4584, 0.0309183713913711), (4585, 0.014630066538845939), (4586, 0.0), (4587, 0.024184156088020714), (4588, 0.027776664649476215), (4589, 0.0), (4590, 0.0586583392063306), (4591, 0.0), (4592, 0.0), (4593, 0.0), (4594, 0.01029047183210726), (4595, 0.02031050387673227), (4596, 0.021459761326863416), (4597, 0.0), (4598, 0.0325243302277817), (4599, 0.0), (4600, 0.0), (4601, 0.0), (4602, 0.020168860710021663), (4603, 0.024746202892595815), (4604, 0.0), (4605, 0.0180756849894506), (4606, 0.0), (4607, 0.0), (4608, 0.02897870217839603), (4609, 0.0), (4610, 0.015483134584825534), (4611, 0.0), (4612, 0.03432931040765785), (4613, 0.012531752698278645), (4614, 0.0), (4615, 0.0), (4616, 0.0), (4617, 0.0), (4618, 0.0), (4619, 0.0), (4620, 0.015538217605573269), (4621, 0.0), (4622, 0.0), (4623, 0.0), (4624, 0.02620819827386874), (4625, 0.02252222205231314), (4626, 0.007976192863108866), (4627, 0.0), (4628, 0.02561196795291049), (4629, 0.04111698068519362), (4630, 0.0), (4631, 0.027025829369027043), (4632, 0.0), (4633, 0.0), (4634, 0.0), (4635, 0.0), (4636, 0.0), (4637, 0.0), (4638, 0.0), (4639, 0.0), (4640, 0.0), (4641, 0.0), (4642, 0.0), (4643, 0.012181152288206454), (4644, 0.03395770918138039), (4645, 0.0), (4646, 0.0), (4647, 0.0), (4648, 0.022291060137548602), (4649, 0.0), (4650, 0.0), (4651, 0.0), (4652, 0.0), (4653, 0.0), (4654, 0.07191472804330179), (4655, 0.014682369066500773), (4656, 0.0), (4657, 0.0), (4658, 0.030707826482637465), (4659, 0.0), (4660, 0.0), (4661, 0.0), (4662, 0.0), (4663, 0.0), (4664, 0.0), (4665, 0.010430088688942676), (4666, 0.0), (4667, 0.0), (4668, 0.009885982921165166), (4669, 0.021368613323884154), (4670, 0.0), (4671, 0.0), (4672, 0.008200501650711027), (4673, 0.0), (4674, 0.0), (4675, 0.013964034731408517), (4676, 0.0), (4677, 0.0), (4678, 0.01102475314203784), (4679, 0.0), (4680, 0.026503637214948264), (4681, 0.0), (4682, 0.029410721286881884), (4683, 0.025729081109269615), (4684, 0.0434832123507825), (4685, 0.0), (4686, 0.0), (4687, 0.009453712218926809), (4688, 0.0), (4689, 0.0), (4690, 0.0), (4691, 0.0), (4692, 0.0), (4693, 0.0), (4694, 0.0), (4695, 0.0), (4696, 0.012508701273684605), (4697, 0.0), (4698, 0.0), (4699, 0.0), (4700, 0.0), (4701, 0.0), (4702, 0.0), (4703, 0.0), (4704, 0.01172463079975282), (4705, 0.0), (4706, 0.0), (4707, 0.02152578962209853), (4708, 0.0), (4709, 0.009554725649096223), (4710, 0.0), (4711, 0.0), (4712, 0.0), (4713, 0.0), (4714, 0.0), (4715, 0.0), (4716, 0.0), (4717, 0.0), (4718, 0.0), (4719, 0.008532292684483892), (4720, 0.0), (4721, 0.0), (4722, 0.0), (4723, 0.02093673690349485), (4724, 0.024086911141052058), (4725, 0.0), (4726, 0.009051295251859015), (4727, 0.0), (4728, 0.021292240950220285), (4729, 0.0), (4730, 0.0), (4731, 0.0), (4732, 0.0), (4733, 0.0), (4734, 0.0), (4735, 0.019082903422552783), (4736, 0.0), (4737, 0.0), (4738, 0.0), (4739, 0.011992697977918099), (4740, 0.0), (4741, 0.0), (4742, 0.0), (4743, 0.0), (4744, 0.010155478884625263), (4745, 0.039789172067415), (4746, 0.0), (4747, 0.027274541930241415), (4748, 0.023395599076360372), (4749, 0.022116467225571933), (4750, 0.0), (4751, 0.0), (4752, 0.02561452894762377), (4753, 0.04588198806706935), (4754, 0.03312608470412409), (4755, 0.0), (4756, 0.024855825141410045), (4757, 0.01870617800263003), (4758, 0.0366967850825434), (4759, 0.0), (4760, 0.0), (4761, 0.0), (4762, 0.0), (4763, 0.0), (4764, 0.012880115734597568), (4765, 0.021864189480355692), (4766, 0.0), (4767, 0.020975313234066685), (4768, 0.0), (4769, 0.0), (4770, 0.0), (4771, 0.02589117620647207), (4772, 0.0), (4773, 0.0), (4774, 0.0), (4775, 0.0), (4776, 0.013430627792494383), (4777, 0.03419714810595554), (4778, 0.010525528898305787), (4779, 0.0), (4780, 0.0), (4781, 0.0), (4782, 0.0), (4783, 0.02577554569989132), (4784, 0.0), (4785, 0.0), (4786, 0.0), (4787, 0.0), (4788, 0.021010298815573075), (4789, 0.0), (4790, 0.0), (4791, 0.03732857346616212), (4792, 0.020769217018703965), (4793, 0.0), (4794, 0.02913180905106723), (4795, 0.0), (4796, 0.0), (4797, 0.0), (4798, 0.0), (4799, 0.009050826223919345), (4800, 0.014342995283626064), (4801, 0.05620974825111233), (4802, 0.0)]\n"
     ]
    }
   ],
   "source": [
    "# getting a list of similar movies\n",
    "\n",
    "similarity_score = list(enumerate(similarity[index_of_the_movie])) ## enumerate is used to run a loop in a list \n",
    "print(similarity_score)\n",
    "\n",
    "## here the first is representingg the row of the movie and its corresponding similarity score of the movie as compared to the movie given by the user "
   ]
  },
  {
   "cell_type": "code",
   "execution_count": 24,
   "id": "1ab96cbd",
   "metadata": {},
   "outputs": [
    {
     "data": {
      "text/plain": [
       "4803"
      ]
     },
     "execution_count": 24,
     "metadata": {},
     "output_type": "execute_result"
    }
   ],
   "source": [
    "len(similarity_score)"
   ]
  },
  {
   "cell_type": "code",
   "execution_count": 25,
   "id": "fd1ae7e4",
   "metadata": {},
   "outputs": [
    {
     "name": "stdout",
     "output_type": "stream",
     "text": [
      "[(2526, 1.0), (228, 0.1952297420851724), (1185, 0.1820351715904593), (161, 0.1809670081649259), (3548, 0.1664439990817012), (3551, 0.13771290691553528), (4061, 0.13099109029520944), (3146, 0.09371994861048825), (2947, 0.09310347633084921), (3679, 0.08948270055959967), (884, 0.08888909346331479), (270, 0.08773678638993081), (2163, 0.08621705798386836), (2477, 0.0849982839147489), (2240, 0.08430802709357268), (1446, 0.0800904557002945), (735, 0.07970258109937256), (1599, 0.0790378575991427), (2147, 0.07896960474583513), (1050, 0.07896352745214255), (1819, 0.0783998196171061), (1215, 0.07783765130356565), (2297, 0.07773818649018611), (237, 0.0759758258628827), (95, 0.07484616502579915), (576, 0.07455737121298703), (1784, 0.07319837281332903), (4074, 0.07317901578859043), (4654, 0.07191472804330179), (3104, 0.07056855777334645), (887, 0.06987500500481457), (2551, 0.06984060317905397), (217, 0.06971737230798851), (2120, 0.06948009504884678), (1289, 0.06849995305412358), (3958, 0.06750739919871043), (2416, 0.06749284523428947), (776, 0.06664378806434607), (3413, 0.06580808592431092), (3569, 0.06544762749800095), (3017, 0.06528997356517342), (3723, 0.06528474925280267), (2383, 0.06527939085224232), (2561, 0.06495027947403903), (2268, 0.06460909002444787), (632, 0.06371182729739153), (912, 0.063414389424052), (4330, 0.06302944177484043), (3122, 0.06283625331868865), (1483, 0.0625685374207197), (4341, 0.061967234150118275), (4496, 0.0618639715089529), (1292, 0.06181890862037866), (3027, 0.061653860836731626), (3791, 0.06155368126371773), (336, 0.060658013387864806), (35, 0.06047025959142014), (2389, 0.060426866804954696), (3384, 0.06019382971025077), (3676, 0.06011366327460983), (2445, 0.05985701247506767), (363, 0.05983095715334954), (2264, 0.059647346091097814), (1475, 0.05915083572501657), (891, 0.05905338662299774), (2808, 0.05886884125732157), (4590, 0.0586583392063306), (2425, 0.05849688235813774), (2762, 0.05829301154714467), (2733, 0.05810128847314559), (4138, 0.05778976751560161), (3806, 0.0575689855481159), (2948, 0.057421375743368024), (4473, 0.05726678403491226), (4548, 0.057111011367829846), (1256, 0.056665217964248275), (1804, 0.0566486919487647), (4801, 0.05620974825111233), (1430, 0.055952696284872774), (3101, 0.05590111721560272), (1806, 0.05531436214548029), (3574, 0.05526296173240398), (3683, 0.05473565055063383), (4505, 0.05467903279083991), (4066, 0.054232318186912515), (3145, 0.05413059784131131), (1766, 0.054111752707522234), (2438, 0.05372947790358327), (190, 0.05352809801401609), (2248, 0.05331488715157943), (2983, 0.05319992510060055), (2347, 0.05309218715175789), (3761, 0.052734243605814864), (654, 0.05250832693485276), (1198, 0.05236359176023629), (3658, 0.0520763136891079), (440, 0.052040766514299994), (3807, 0.052007541613575535), (2329, 0.05198480669947151), (1337, 0.05151391714509011), (2321, 0.05119755612161196), (649, 0.05108941698198601), (3881, 0.05076800551019643), (3524, 0.050707752593628086), (771, 0.05041211364324133), (4195, 0.050357998092657716), (1011, 0.050180900068621935), (1218, 0.050141881031965145), (4008, 0.05008993334563875), (1947, 0.049895439041271306), (1219, 0.0497605464424467), (2533, 0.04969099349206699), (4336, 0.0496087016087729), (3163, 0.04960866216885085), (3957, 0.04932229277873691), (1260, 0.04923600604325238), (1029, 0.04922726450834804), (111, 0.04918460392742345), (3340, 0.04907794837385418), (2430, 0.04903664302308318), (2684, 0.04896483696232883), (1238, 0.04878396202669019), (4080, 0.04859744639057155), (2169, 0.04831249770650131), (1664, 0.04830858482231101), (2017, 0.04820880067356281), (3140, 0.04820190390285816), (3342, 0.04795189685193742), (1378, 0.04784788021507014), (2957, 0.04781166693028607), (4574, 0.04768923063928137), (2509, 0.047665359975492455), (4114, 0.047461857331888194), (4282, 0.047409251478842014), (1035, 0.0473885748779583), (2567, 0.047135383667102466), (1160, 0.047107036574943736), (4170, 0.04709009249563771), (4035, 0.0469979923855833), (1968, 0.04694627832169043), (2230, 0.046883431665684205), (3785, 0.0468617634358571), (3562, 0.04682142418920926), (617, 0.04670698375883639), (4284, 0.046634166205856385), (470, 0.04649837415151396), (2614, 0.04648340966390308), (2284, 0.046388966997676195), (4228, 0.04629430526588118), (407, 0.046198155129030014), (1981, 0.046083634926988026), (4753, 0.04588198806706935), (947, 0.045291830252252904), (2559, 0.04528803050250375), (3600, 0.04524216164001102), (1739, 0.04518088774052912), (3010, 0.04514772985370844), (4447, 0.04512069879659458), (241, 0.04509027062580516), (2640, 0.04494122152466823), (1388, 0.04484408162332528), (2014, 0.044594311306256115), (1111, 0.044591229937144594), (517, 0.04411050515861288), (3015, 0.04382173166026897), (3273, 0.04368763694992785), (1109, 0.04366924336299522), (2577, 0.04363155367844851), (4684, 0.0434832123507825), (3265, 0.04347003436179944), (1825, 0.04335427773997535), (2687, 0.04300201259575587), (2500, 0.042851527248536594), (238, 0.04277016897236979), (931, 0.04247211942760674), (4277, 0.04237098143378536), (551, 0.04235683543631272), (3440, 0.04227926343841702), (2132, 0.04201645734371653), (1167, 0.041866563336439094), (669, 0.041849816474954324), (4233, 0.04184955864725387), (2832, 0.041615267823769564), (1535, 0.04155509119517476), (630, 0.041521767390461733), (2626, 0.04145565614062985), (102, 0.04143936168133694), (2772, 0.041420917173842), (3120, 0.0413987766917474), (1884, 0.04127165403610569), (3717, 0.04126152986801025), (1719, 0.041120823473683205), (4629, 0.04111698068519362), (1655, 0.040851775489571036), (3763, 0.040721565197173765), (3692, 0.040313777251713305), (1931, 0.04021695241899623), (4415, 0.04002322600267325), (2901, 0.04001554564607745), (2387, 0.040000335177173205), (1999, 0.03996357781278966), (1469, 0.03986181423451851), (3946, 0.03983936289572346), (2153, 0.0398008684289106), (4745, 0.039789172067415), (3437, 0.039780300854040045), (4477, 0.03976277524343641), (3182, 0.03970754299652738), (1849, 0.039543447562646654), (1715, 0.039501149498874566), (2941, 0.03948153102566791), (3595, 0.03935790605604898), (1314, 0.0392128552584506), (4134, 0.03919196573850671), (3978, 0.03912194516938258), (1799, 0.03903417619722859), (892, 0.038997051171016525), (3554, 0.03898621414991367), (3863, 0.0387042735672888), (64, 0.03867134075401008), (247, 0.03864924725186619), (1649, 0.0386412114942555), (4248, 0.03858260303901066), (3436, 0.03849255179444665), (1751, 0.03844208420015327), (1559, 0.03840364907536369), (682, 0.03839049706054687), (1316, 0.03837170883076138), (1628, 0.038352721357832714), (820, 0.03831577163175879), (990, 0.0382646672484077), (2628, 0.038256065618174254), (17, 0.03818528278727955), (3005, 0.03813631124373823), (2400, 0.03811278892708115), (781, 0.03796351915977865), (2827, 0.03794413787563194), (188, 0.037858555892012216), (1375, 0.037670411216496995), (4192, 0.037545638465116535), (172, 0.037542959443157074), (276, 0.03751006376366561), (3090, 0.037379036955523526), (3371, 0.037361865342250236), (4791, 0.03732857346616212), (2024, 0.03728384546401949), (486, 0.03721181527384124), (1595, 0.03714062385290836), (3598, 0.037108221669277464), (1175, 0.03706184988131092), (1031, 0.03704229609808674), (323, 0.03700864015668957), (3953, 0.03672662275384334), (4758, 0.0366967850825434), (3680, 0.036686885465768516), (1369, 0.03655001386950344), (1780, 0.03652545848279875), (4257, 0.036504545449934984), (1205, 0.03647845531007371), (1299, 0.036475620013880126), (2560, 0.036419315434179214), (3170, 0.03640957859774312), (1832, 0.03639158151270691), (945, 0.03621575907861956), (4316, 0.03609235803266597), (1557, 0.03606032588425462), (11, 0.03597414071329538), (4476, 0.035883855176057), (2964, 0.035824267257471884), (2805, 0.0357482339953695), (817, 0.035733696922747), (838, 0.035718635608864846), (2040, 0.035718290097462004), (1377, 0.03569864468321211), (3476, 0.03569858426044187), (3589, 0.035681466463131556), (3795, 0.0356782060086259), (1961, 0.03557889993440729), (3331, 0.035503420571417255), (3167, 0.0353342937089402), (392, 0.03530526656790813), (3872, 0.035129782401012714), (1070, 0.034899391310173965), (2867, 0.03471500858081171), (1973, 0.03463303168464648), (518, 0.03458999603350741), (3608, 0.034528284503747904), (616, 0.03450175475331715), (4150, 0.03449980626724331), (4234, 0.03442863526666313), (1789, 0.03442672926487735), (4612, 0.03432931040765785), (2973, 0.034328814093540244), (4777, 0.03419714810595554), (3893, 0.03416648625225374), (743, 0.03415271399608039), (1237, 0.034138050151365756), (3029, 0.03411832817557638), (1196, 0.03402734460392548), (4644, 0.03395770918138039), (496, 0.033947550055040944), (1834, 0.03392210513094717), (1164, 0.033901319905485214), (1893, 0.033843927112221735), (2224, 0.033819504270810444), (162, 0.033780292570949624), (1471, 0.03374676342311671), (2891, 0.03371928241849238), (3593, 0.03364028620689563), (2282, 0.033556369611937406), (830, 0.03353258672725946), (2405, 0.03352021075824235), (2707, 0.0334911748708392), (1988, 0.03331091374574081), (4429, 0.03324417406824739), (1179, 0.03320555021194423), (3873, 0.033153494384153236), (2346, 0.0331414048279975), (4754, 0.03312608470412409), (3000, 0.033009882684613245), (3930, 0.03287997002646427), (2907, 0.03275394473050747), (2793, 0.03274729296116117), (1410, 0.03274504535352329), (1318, 0.0326344993043877), (815, 0.032618443047395335), (2468, 0.032559512748805176), (4598, 0.0325243302277817), (1769, 0.03230062447547565), (82, 0.03226793221765023), (754, 0.03222571086392683), (388, 0.0321752782659074), (3046, 0.03196198757072196), (226, 0.03187915411998144), (2701, 0.03185728101728627), (3920, 0.0316277497187505), (2553, 0.03159368332848736), (1654, 0.03156768956427246), (2842, 0.031542027421776586), (464, 0.03148261554803198), (3405, 0.03145651849075956), (3070, 0.03139479970210607), (1543, 0.03139019043294492), (435, 0.03135152448714993), (2226, 0.0313476153453275), (3137, 0.03131386796691953), (1261, 0.03130984371627307), (4420, 0.031297826140032826), (4318, 0.03126613936393408), (1284, 0.03123860335075446), (3586, 0.03117336494973124), (3985, 0.031135887722007247), (3990, 0.031129344210082448), (3284, 0.031099704216572318), (2188, 0.031014410588207947), (2423, 0.031004235757252335), (4584, 0.0309183713913711), (3401, 0.030849397238422213), (135, 0.030804815420315865), (4658, 0.030707826482637465), (2164, 0.030692939275541547), (116, 0.030682830046963948), (4347, 0.030671345301926906), (2157, 0.030636571180366612), (2925, 0.030594260333159255), (2295, 0.030590234132303693), (3533, 0.030577004872739347), (3998, 0.030563087976897066), (1224, 0.03049152955283902), (3379, 0.030458450799482926), (3129, 0.03044873576324403), (3962, 0.030356660850612022), (1374, 0.0303517284948242), (3262, 0.030338009744861734), (1549, 0.03031054677973146), (3895, 0.03028080934326009), (4385, 0.030234039553409947), (1910, 0.03012986778606292), (2112, 0.030129051048825954), (4469, 0.03011421535540419), (3291, 0.030106006432177555), (1354, 0.03003871999378002), (1838, 0.030029506499895976), (984, 0.030019250111860133), (4129, 0.030003081042106264), (3858, 0.029951409180324476), (3216, 0.02994252537895333), (2982, 0.029910426458855173), (678, 0.029885846636148888), (2858, 0.02986224076813926), (2513, 0.029836825322630746), (991, 0.029819392769313887), (797, 0.029802337814893304), (3732, 0.029682268119711596), (1210, 0.02962966179294734), (3108, 0.02955942256600997), (2181, 0.029524538533059932), (3169, 0.02950113389981175), (2691, 0.02943210770256249), (4682, 0.029410721286881884), (202, 0.02940007535995186), (2588, 0.02931816355793151), (1213, 0.029280739236644357), (2848, 0.02923847446475457), (4421, 0.029163740196241617), (215, 0.029140573559464204), (4794, 0.02913180905106723), (3743, 0.029112558100219312), (3431, 0.029089298047617396), (4262, 0.02902821608332136), (4608, 0.02897870217839603), (4100, 0.028943690446615395), (4552, 0.028878904273922125), (4038, 0.028873481605116106), (1642, 0.02882527743041384), (98, 0.028780663130758246), (2151, 0.028764264262811406), (2863, 0.028731487754485863), (1474, 0.02868301402663015), (4130, 0.028644020654162126), (2433, 0.02860555080511576), (3332, 0.02856616182831681), (1826, 0.028565490820964677), (3727, 0.028565108596458017), (1592, 0.02855464246954883), (536, 0.028454784617711334), (3118, 0.02845466912716266), (2677, 0.028405060923005397), (2373, 0.028397002593518152), (2302, 0.02833917791427941), (867, 0.028332671762648188), (2549, 0.0282678986904636), (1076, 0.028234350591310062), (4433, 0.028234344462131366), (2265, 0.028215451333996045), (1515, 0.02814647001316044), (1714, 0.028139301451956214), (4466, 0.028132662369057423), (1828, 0.02813018074537809), (3287, 0.028125676322191123), (245, 0.028087419498621848), (4159, 0.02799418462215999), (4214, 0.02784260500579022), (4568, 0.027800607442562044), (4588, 0.027776664649476215), (3705, 0.02774229441262368), (29, 0.02772450613480195), (4543, 0.027704619161844447), (4328, 0.02770043290551379), (528, 0.027672169015913108), (3161, 0.027636131637410646), (1735, 0.027605671502511177), (3419, 0.027570592562089394), (2000, 0.027542195371885507), (2018, 0.027470183081029213), (802, 0.027448136408311907), (1869, 0.027447263196136884), (1104, 0.02744432991760586), (3207, 0.027435149937522517), (849, 0.027412660893919864), (8, 0.027369216285139837), (532, 0.02735849715059875), (2967, 0.027337562356779976), (4747, 0.027274541930241415), (1824, 0.02724621563231288), (2049, 0.02722405984940314), (2716, 0.02722141814862399), (2475, 0.027210888240719374), (4280, 0.027208272872240955), (3808, 0.027201517706465613), (4266, 0.02718848589295535), (3720, 0.027163497571710677), (1504, 0.02714496214725128), (316, 0.0271260638976213), (2, 0.027111275471418384), (3065, 0.02709976077612262), (3948, 0.027090534782875913), (1803, 0.027049819769033492), (4631, 0.027025829369027043), (2883, 0.027004310508023346), (4258, 0.026998080032320175), (3929, 0.026957501677782686), (197, 0.026946000109423676), (115, 0.026944252733365502), (113, 0.026943888459923047), (2600, 0.02688650505116225), (3024, 0.026853928339628085), (4424, 0.02684142447648364), (1582, 0.02679807518642597), (2511, 0.026789289503937375), (978, 0.026782750469363688), (4058, 0.026754443925009804), (1310, 0.026749687562205946), (2281, 0.026669618945672987), (888, 0.02662942480563342), (497, 0.026604128043398158), (4514, 0.026562880277245297), (3290, 0.026549922270735927), (4179, 0.026520528817897532), (1574, 0.026515998005741975), (4435, 0.026514188928522933), (2021, 0.02650722390862458), (4680, 0.026503637214948264), (1998, 0.026471632001825066), (277, 0.02645138000371825), (1366, 0.026442146476899922), (1578, 0.02642227837099035), (3499, 0.026418477648124026), (3176, 0.026410333102841622), (2460, 0.026408671842086066), (583, 0.026385438457100143), (2717, 0.026372411162835466), (2742, 0.02635812680689192), (3382, 0.0263538103557217), (1891, 0.026343505197578613), (2586, 0.026290872590926016), (251, 0.02626928747459892), (4016, 0.026245511492083325), (2368, 0.026229449268709265), (4624, 0.02620819827386874), (3582, 0.026195378280900863), (2286, 0.026150633603309045), (4020, 0.026122877910604803), (1870, 0.02606744816139062), (2337, 0.026039092664012463), (4323, 0.026018984018200717), (3774, 0.025997999606287635), (1997, 0.025987726873383476), (862, 0.02594227102682982), (88, 0.02593077499395173), (2379, 0.025921957409955638), (2529, 0.02592005095959179), (4771, 0.02589117620647207), (1391, 0.025820434403028624), (791, 0.02581429332391615), (1040, 0.025783676052861998), (4783, 0.02577554569989132), (3742, 0.025757779434194987), (4207, 0.025730095812067068), (4683, 0.025729081109269615), (354, 0.025693814423223646), (1970, 0.025687177756072096), (2596, 0.02566044728636183), (3616, 0.025658290257159558), (2928, 0.025624493499233462), (4752, 0.02561452894762377), (4628, 0.02561196795291049), (1573, 0.025611288318064158), (1646, 0.025599316505621514), (83, 0.025591613264145503), (3988, 0.02558108467805362), (3181, 0.025578367333130556), (1045, 0.025550442699253256), (1604, 0.025549772554455154), (1129, 0.02553208984145463), (2296, 0.02549591297735696), (2769, 0.025480902908591695), (191, 0.025472044553460835), (4128, 0.025465006422608835), (463, 0.025456002519738695), (3230, 0.025415672848808964), (4186, 0.025380015065752774), (3460, 0.025363422177493787), (3572, 0.025359352071716964), (3486, 0.025357706338138886), (2828, 0.025332976017063833), (208, 0.02533009944112731), (1042, 0.02529511931174399), (493, 0.02527377547826589), (2989, 0.025226869159226208), (2455, 0.025223417598507835), (3882, 0.025219552465373957), (459, 0.02521920961323125), (3728, 0.025208308131186092), (1098, 0.02519672797798312), (3631, 0.025138901700221646), (3778, 0.025135403210907212), (3853, 0.02512639615026258), (1132, 0.025115530663304606), (4573, 0.025098810307826333), (2980, 0.025093683834778724), (2146, 0.025062837196057796), (2597, 0.025042288740707585), (2902, 0.02504220666788988), (3374, 0.02502792821064825), (4200, 0.025019062852757516), (4005, 0.025008384160265257), (2576, 0.025002257492441456), (2143, 0.024983718496996044), (3752, 0.024944814478108823), (1788, 0.024926909099791512), (1684, 0.024898124172083758), (4756, 0.024855825141410045), (1494, 0.02483604641354936), (2394, 0.02482337822837859), (3483, 0.02481441519501098), (3736, 0.024795738259989524), (2880, 0.02478342562409884), (2450, 0.024750039963175346), (4603, 0.024746202892595815), (2173, 0.02471608449029508), (1137, 0.024706417767630048), (1627, 0.024699832233175918), (2086, 0.024695703874676036), (923, 0.02468484291098932), (1771, 0.02467508474742963), (2705, 0.02464547666398861), (1013, 0.02461502908667173), (970, 0.024608860107552154), (1468, 0.024600521587591184), (3064, 0.02459678836351541), (2966, 0.024593926008774296), (1867, 0.024587453336144503), (1080, 0.024578311744944605), (3321, 0.024564074135476455), (3355, 0.024559476181191586), (1100, 0.024557069863577363), (4303, 0.024546687952141745), (1038, 0.02451381851899421), (2990, 0.02451115967259851), (2960, 0.02450885481818506), (3361, 0.024507863887423976), (3555, 0.024487546487335296), (3762, 0.024462668516393775), (3220, 0.024414970987943044), (2843, 0.024357506496597587), (2518, 0.024352902316672753), (296, 0.024328992551651562), (4072, 0.024311294553850338), (2403, 0.024278774328497003), (114, 0.024268066808983375), (4497, 0.02423634264237012), (3715, 0.024200271681794658), (4587, 0.024184156088020714), (4139, 0.024178054990335065), (4414, 0.02417632496628916), (3058, 0.02411108334998991), (1063, 0.024103137462667804), (1729, 0.024098783428510587), (2104, 0.024088460986966143), (4724, 0.024086911141052058), (1693, 0.024084627176094227), (4472, 0.024064539761157095), (2409, 0.024061372380701846), (740, 0.024057931522433407), (1737, 0.02403038471500183), (3126, 0.024020291357238144), (409, 0.02400867703820899), (4489, 0.024004672767604606), (1980, 0.023985965094787013), (3758, 0.023963640807777308), (2879, 0.02393698533312682), (1467, 0.023916381695798843), (2318, 0.023893320945268373), (491, 0.02387125577066571), (4145, 0.0238306982988189), (4373, 0.02382687684609787), (1408, 0.02382591685437966), (2809, 0.023787399132358784), (2088, 0.023785208692817757), (2068, 0.023778734849508158), (657, 0.02377870880491043), (3364, 0.023776164465107105), (1823, 0.023747992074001238), (2841, 0.023706208294736672), (1338, 0.023698633487664603), (3744, 0.02366685464512325), (1872, 0.023664545913548826), (2095, 0.023653171117402977), (2575, 0.023652105990683882), (953, 0.023647463031362427), (2686, 0.023643437091213908), (2027, 0.023621082358960467), (3423, 0.023593344716196295), (4338, 0.023588047653889336), (3558, 0.02358190032179494), (4135, 0.023572869778831197), (2635, 0.023567257976383555), (4185, 0.02356651810806478), (3153, 0.023564039221221134), (924, 0.023505567540546203), (779, 0.0234643688452719), (1233, 0.0234509478814018), (2541, 0.02344530286606813), (1820, 0.02342808733566261), (2997, 0.023417701892955757), (801, 0.02340485823027218), (1733, 0.023401263149067476), (4748, 0.023395599076360372), (4264, 0.02338421142388748), (3455, 0.023379100470195962), (1718, 0.023376338248310518), (1685, 0.023339314593406622), (2803, 0.02333835125889693), (4018, 0.023329912129727827), (1395, 0.02332476965694985), (4116, 0.023294964863821155), (2380, 0.0232776150123703), (956, 0.02325696864943594), (4313, 0.02319947482115546), (3671, 0.023194509811741114), (3672, 0.023190869526739967), (1332, 0.023184101077224933), (1757, 0.023177400139614685), (987, 0.023062880594641084), (1501, 0.02306041514597319), (4224, 0.02304225106135309), (768, 0.023040715204481598), (482, 0.023021822075717426), (4036, 0.02300062085365148), (1523, 0.022991784525264528), (3954, 0.022978804401932736), (2267, 0.02296181148410056), (1689, 0.02296041161348737), (1786, 0.02296031380011139), (589, 0.02292195760337141), (23, 0.0229133786444951), (4053, 0.02291264402066957), (597, 0.02290254366136205), (193, 0.022874431567861335), (2076, 0.022873634862886034), (3939, 0.02286080816819924), (2308, 0.022847417629583353), (1855, 0.022832003281580863), (795, 0.022823939333262343), (3050, 0.022813213516651613), (2927, 0.02280951033073665), (1411, 0.02280764167194081), (1926, 0.022799276001798083), (2932, 0.022750239960281454), (2133, 0.02274597435205401), (3656, 0.02272870607864551), (2280, 0.022717064264399362), (3026, 0.02271633614468528), (2831, 0.02270210851461117), (980, 0.022691572315148442), (3414, 0.0226898666657972), (3333, 0.0226766522020334), (4539, 0.02267641959707804), (2303, 0.02267305161196287), (451, 0.02265042739332076), (3964, 0.02262118357022965), (3192, 0.022621110038045508), (4240, 0.022618311301145222), (2293, 0.02261222803395817), (4213, 0.022610827865890526), (3307, 0.022540871479342032), (4625, 0.02252222205231314), (1242, 0.022488959856851752), (2568, 0.022478579530562), (4131, 0.02245971795842425), (1791, 0.02245619598987646), (1396, 0.02245575581476284), (2532, 0.022452233245972588), (4089, 0.022433992292664278), (1845, 0.022400063994595428), (1403, 0.02239921428887621), (1449, 0.02238902833929183), (4478, 0.0223458610247136), (1708, 0.022342479427251816), (909, 0.02231798455933904), (2681, 0.02231096432814046), (3640, 0.022300705068570303), (1905, 0.022300379284317166), (4368, 0.022299257450879597), (4648, 0.022291060137548602), (2084, 0.022274923204231526), (903, 0.022268929502392405), (1939, 0.022239884191857233), (3597, 0.022223177962554054), (1748, 0.022213319457743547), (3982, 0.02221263295363611), (3081, 0.022205224069080758), (3843, 0.02220289602215717), (4291, 0.022199260856694752), (1839, 0.02219083652214318), (2749, 0.022186202081072214), (3288, 0.022176997550778937), (2581, 0.022169992126867637), (1590, 0.0221397522236024), (2540, 0.022132150607684996), (2884, 0.022126242353281974), (4749, 0.022116467225571933), (3829, 0.022066939479103855), (759, 0.022066419778091234), (474, 0.022058950116151842), (1059, 0.02204976693233363), (1866, 0.02204539516675397), (2420, 0.022043109924640807), (2570, 0.022029890411021272), (3559, 0.022029500214908536), (2534, 0.022017902304313556), (3602, 0.0220164323326999), (1177, 0.022006188102744396), (2137, 0.022000282848914032), (3902, 0.021994088151748865), (2125, 0.021986993572877225), (3749, 0.02197915040755158), (4317, 0.021975840959534768), (1903, 0.021947893690792968), (770, 0.02194247219468915), (1648, 0.021925517407921643), (2988, 0.02192144333572715), (4765, 0.021864189480355692), (3360, 0.021855896168043464), (3469, 0.021813318853164402), (2469, 0.021809455187390234), (3840, 0.021809107719743454), (3312, 0.021805572234371937), (3835, 0.02180473269086158), (2642, 0.021789487744424095), (1093, 0.02176822322001591), (3372, 0.021764239630537807), (3147, 0.02176391409281655), (880, 0.021761047799609863), (2555, 0.021748713042883887), (2696, 0.021743405238921088), (1313, 0.021731197587518396), (981, 0.021705067199825713), (2958, 0.02170419259459372), (1726, 0.021695136577222118), (1914, 0.02166537164233797), (2944, 0.021655358071555168), (3677, 0.02164362060174556), (1379, 0.021640293516980602), (4245, 0.02163064995151175), (4132, 0.02162879033757045), (1265, 0.021613364270645846), (2914, 0.021603501639029247), (2661, 0.021602956882343257), (1482, 0.021594353831847973), (2428, 0.021594117007314343), (3031, 0.02158765910509021), (3563, 0.021579595253675515), (2007, 0.02157850546846577), (4237, 0.021565164117672685), (3353, 0.02156369354324326), (4707, 0.02152578962209853), (332, 0.02152047467173148), (1911, 0.02151060185930714), (3549, 0.021492397586928263), (2673, 0.02148677969697254), (3592, 0.021475916559301214), (4596, 0.021459761326863416), (1271, 0.021454572497328545), (1346, 0.021451997952596166), (2715, 0.0214507870711833), (864, 0.021428444609762204), (1645, 0.021409664171179257), (666, 0.021403112463665556), (3907, 0.021381186968229667), (4157, 0.021371026534971443), (4669, 0.021368613323884154), (3252, 0.021366244338581513), (3601, 0.02134386128185576), (3652, 0.0213290749263578), (4728, 0.021292240950220285), (1613, 0.021284460959117884), (2692, 0.021251140170121488), (3030, 0.0212509209540078), (1486, 0.02121032110936719), (4052, 0.02120972361266864), (2850, 0.021204381101995254), (2237, 0.021193232521067435), (1567, 0.021179965781364826), (3159, 0.02117497829949577), (3737, 0.021156838301088703), (3896, 0.021141877861739548), (1351, 0.021135752484311265), (4516, 0.021126029331026055), (45, 0.02111547954291054), (4011, 0.02110658058328649), (2613, 0.021082046833092255), (2117, 0.021078249739153846), (724, 0.021077434030542276), (542, 0.02106252263350795), (937, 0.021048020040965346), (3390, 0.02104482195233888), (3442, 0.021034906585134863), (3566, 0.021031610047281962), (2417, 0.021022443886122504), (1722, 0.021021315906041192), (4788, 0.021010298815573075), (3617, 0.02100187937899082), (1407, 0.02098129072028187), (4767, 0.020975313234066685), (633, 0.020950162770247093), (4723, 0.02093673690349485), (2845, 0.02092856991588744), (2998, 0.0208894262404876), (2657, 0.02088322349906639), (3235, 0.020861947070728953), (1192, 0.02085922166013341), (775, 0.02085569333499653), (910, 0.020846698668123578), (4190, 0.02084507788360848), (2413, 0.02083272496581528), (2306, 0.02083028587183145), (4577, 0.020816761000889337), (4069, 0.020800935777022148), (2676, 0.020798885637244517), (2817, 0.020781874417371265), (595, 0.020771372214153525), (4792, 0.020769217018703965), (2094, 0.020728589655434948), (3561, 0.02072568070271378), (3980, 0.020720582461748672), (346, 0.020701359887312986), (799, 0.020691124666168556), (417, 0.0206644442404421), (3885, 0.020651303865963363), (3357, 0.020640723329087673), (1236, 0.02063702410945322), (4327, 0.020617682019163034), (3369, 0.020593944950141625), (1707, 0.02058872518852859), (3158, 0.020556678679224182), (3877, 0.02053543153065328), (3828, 0.020533423451529923), (2830, 0.020526601289884018), (4321, 0.02049967731249379), (624, 0.020485065621698377), (1609, 0.020481672269554323), (2044, 0.020451624679377386), (2091, 0.020429346695848574), (3630, 0.020424983061858547), (4343, 0.020422519939885374), (3841, 0.02042040868982888), (4278, 0.020412750923022804), (1056, 0.020411304808078744), (502, 0.020389420123149194), (2685, 0.02038777783261433), (4353, 0.020358417762205053), (2208, 0.020344206325596997), (2339, 0.020339064001176112), (4102, 0.020334528104403324), (4595, 0.02031050387673227), (1484, 0.020308614693125615), (1437, 0.02030570647136254), (2546, 0.0202899939824703), (4545, 0.020252827908759055), (2647, 0.020251976724215966), (2462, 0.020230980741377958), (1030, 0.020199461965959054), (4428, 0.020196677056660988), (4602, 0.020168860710021663), (3246, 0.02008866795724825), (2096, 0.020033536207410153), (2751, 0.02000094181242821), (2795, 0.019967882326411925), (3653, 0.01995963787347051), (4031, 0.019939992790381982), (4137, 0.019906701806108457), (3467, 0.01989698612517713), (2816, 0.01985468881925014), (4364, 0.01979545080566976), (2149, 0.019788732259289208), (4009, 0.01975719265738081), (2243, 0.019720992074096746), (4390, 0.019703245070868593), (2170, 0.01969869204548265), (2180, 0.019638429540611433), (3648, 0.019632484135708644), (4558, 0.0195944144837312), (3014, 0.019533742303575824), (3002, 0.019519908391882567), (3845, 0.01951537018646973), (1876, 0.019514427019400902), (3560, 0.01947626266389998), (3511, 0.01944843554378291), (2160, 0.019372617896891247), (3428, 0.01936444057008688), (2977, 0.019360851612712605), (1186, 0.019333729248348787), (2965, 0.019328317146527992), (4249, 0.019312102235202203), (2780, 0.019217828758961674), (1605, 0.019196051551558603), (3889, 0.0191802660313669), (4344, 0.01915396943573896), (1518, 0.019136173345138657), (4735, 0.019082903422552783), (4151, 0.019033292203352512), (1598, 0.0189885116134588), (3416, 0.018941079815848774), (3189, 0.018928503265409003), (2402, 0.018893136743451753), (2283, 0.01885431938490008), (4757, 0.01870617800263003), (1993, 0.018688092946425032), (4464, 0.01866522279050801), (1534, 0.018656654331074465), (3604, 0.01861044624996169), (4563, 0.018374937029480988), (3133, 0.01834892892850705), (4325, 0.018347604922833376), (2654, 0.01822381946556955), (3691, 0.01813677658237028), (3210, 0.018131177501473385), (3934, 0.01810359963535662), (97, 0.018092989680953915), (4605, 0.0180756849894506), (337, 0.01806582131353313), (4274, 0.018048070836220904), (4340, 0.018038239610605196), (2794, 0.018018740739767045), (3175, 0.018011547634463356), (3124, 0.017791632767778263), (1277, 0.017740023350564252), (660, 0.017630879936347085), (1211, 0.017560186185117843), (4378, 0.01748688743540564), (2135, 0.017416845054326276), (3576, 0.01726700432467543), (3794, 0.017234747453955927), (2877, 0.017115359033748664), (3121, 0.017103114258055104), (3418, 0.016960799889983856), (1183, 0.016938555511834923), (2367, 0.016937876489308206), (3240, 0.01692269216998781), (2911, 0.016802649614312843), (1026, 0.01661954925591749), (3875, 0.016567453440787975), (4450, 0.01643669093313089), (2875, 0.016367255481636048), (404, 0.01610995381299745), (689, 0.01605921335503962), (4488, 0.015924176937709058), (869, 0.015850882898861225), (1624, 0.01583564813249442), (1637, 0.01569840775896524), (3805, 0.015637574165537106), (4251, 0.015560711189536194), (4620, 0.015538217605573269), (4610, 0.015483134584825534), (1816, 0.01547951335524439), (2968, 0.015449714015241601), (1805, 0.01544219739876024), (2029, 0.01541133569889461), (271, 0.015314729385028187), (637, 0.015288642218257273), (2447, 0.015278878320435906), (1969, 0.015194007569678288), (3222, 0.015178530551705803), (4133, 0.015107384474148472), (3438, 0.015099447220155661), (4530, 0.014961261343289142), (2943, 0.014957505791002152), (3394, 0.014947407271221838), (1695, 0.014942462371929586), (2813, 0.014937002179244523), (2693, 0.01490752187715453), (1505, 0.014866067357611031), (784, 0.014846022813973632), (2621, 0.014828660660058885), (591, 0.014765607389165722), (3756, 0.01474394034025596), (3739, 0.01470491010779116), (3006, 0.014701085183727033), (1309, 0.01468939764754999), (4655, 0.014682369066500773), (4585, 0.014630066538845939), (1444, 0.01461099774988442), (2171, 0.014592984550582949), (1647, 0.014592397703433003), (1401, 0.014545276291527773), (2162, 0.014543500895567293), (4441, 0.014540554704231793), (1039, 0.014532715392883358), (971, 0.014520658539201262), (5, 0.014499962581802073), (506, 0.014469805792269695), (942, 0.014438656695628112), (3243, 0.01442482497877421), (713, 0.01438648812070428), (4509, 0.014366882452609567), (3457, 0.014346666599124593), (4800, 0.014342995283626064), (4463, 0.014332526030555777), (3981, 0.014315718194790513), (1909, 0.01430820700572002), (1227, 0.014280284710803491), (1956, 0.014265251565880746), (1603, 0.014260482027279385), (164, 0.014246673459075552), (3725, 0.014197005165309178), (2594, 0.014182605561986231), (2569, 0.0141612994385126), (1373, 0.014158521066955072), (766, 0.014148752830835833), (1949, 0.01412939176272386), (2214, 0.014125175111552252), (30, 0.014107031774430682), (1061, 0.014065374212564366), (785, 0.014064207179162146), (1612, 0.014046342522672907), (598, 0.014034493992676447), (1127, 0.01401906397361669), (2342, 0.0140092479022426), (4232, 0.013980742906679042), (778, 0.013975234351814986), (4675, 0.013964034731408517), (211, 0.013956859266188348), (3157, 0.013954928148013029), (2610, 0.013935992054307813), (4126, 0.013905762410438493), (868, 0.01390567284457229), (4467, 0.013879399081290246), (2760, 0.01387383412733544), (1460, 0.013856044368287366), (1560, 0.013853773140390073), (1975, 0.01384610382085918), (2738, 0.013828029770995997), (2108, 0.01378370830067288), (2261, 0.013771690927763421), (926, 0.01373106843480437), (4457, 0.013730713412116981), (653, 0.01371761730029094), (4357, 0.013713737640243438), (3411, 0.013706558039394566), (3734, 0.013687920306628226), (4221, 0.013685194362141589), (811, 0.013603984563154252), (1240, 0.013598190972319972), (1809, 0.013589824325335894), (812, 0.013582809165347303), (4281, 0.013566709741851637), (4358, 0.013534354427373128), (3356, 0.013485471083304694), (2838, 0.013438511929207198), (4776, 0.013430627792494383), (3337, 0.013415563318115014), (2920, 0.01337681231153814), (4079, 0.013358228272282892), (2820, 0.013324302355897702), (2836, 0.013314150541480097), (1473, 0.013296681956222276), (4527, 0.013294091443864174), (2800, 0.013293524946924403), (3044, 0.013279348737647344), (638, 0.01327923001099857), (2797, 0.01325596510712073), (3339, 0.013238267038865036), (1216, 0.013216588741769337), (2554, 0.013216553702358576), (2501, 0.013207670288743492), (4306, 0.01317922508302213), (3345, 0.01317469070297667), (4171, 0.013150247906813397), (2593, 0.013111789126471193), (676, 0.013105924457686565), (1347, 0.013101563486334952), (3410, 0.013097168548098828), (3011, 0.013064662863930784), (3886, 0.013061542190733041), (2935, 0.01305815898150913), (2737, 0.013043787525121446), (3225, 0.013010716042427314), (3195, 0.013002648594544348), (948, 0.012956569146627196), (3529, 0.012904796366980121), (4764, 0.012880115734597568), (1638, 0.012858648078044667), (3629, 0.012855134418176557), (3611, 0.012846025101453206), (584, 0.012844596275379252), (3508, 0.012824001732271627), (2070, 0.01282217804762225), (1348, 0.012814988313463874), (3250, 0.012811241334477362), (4299, 0.012795299821113533), (3846, 0.01279095426506882), (4125, 0.012783304022355618), (703, 0.012781023692999207), (4308, 0.012775246553452383), (875, 0.012758125732129257), (3313, 0.012756841724791827), (4427, 0.012754218371069749), (907, 0.012754205272657875), (1207, 0.012743500741261597), (2950, 0.012721815642137674), (3696, 0.012714181197820931), (535, 0.012708235788577375), (1007, 0.012702595765669263), (1065, 0.012635089105169599), (2506, 0.012634933445833763), (1016, 0.01259772533940551), (1120, 0.012595363071010229), (1749, 0.012579869925055024), (4103, 0.012570934435416686), (2410, 0.01256243993489947), (1591, 0.012553548785093007), (3695, 0.012537278106498018), (4613, 0.012531752698278645), (269, 0.012516982802913705), (4696, 0.012508701273684605), (3931, 0.012502170066544284), (3861, 0.012484939050480886), (3690, 0.012484539031403789), (2520, 0.012470272819257312), (1243, 0.012466333978252003), (2706, 0.012439513708879779), (124, 0.012434414755471293), (4371, 0.012423282388617111), (2073, 0.012422107835866876), (2564, 0.012420555489227943), (2759, 0.012411302887616951), (827, 0.012409577829830551), (4551, 0.012409010191296742), (1874, 0.012407248841787542), (1262, 0.01240545557721639), (261, 0.012400104205471312), (2547, 0.012396588839775482), (3402, 0.012379365923998815), (2946, 0.012348812163978918), (2962, 0.012334582107300422), (525, 0.0123017317450002), (1589, 0.012298098779228711), (4097, 0.012291084416546348), (58, 0.012290337600289395), (1900, 0.012270049687479434), (1704, 0.012264300683588443), (1435, 0.012251006094697977), (110, 0.012240445846546655), (1675, 0.012239141345423022), (2949, 0.012231326554113431), (1400, 0.012227571501358345), (1745, 0.012217015079715319), (1, 0.012216750687283897), (3837, 0.012211091380071846), (681, 0.012201521506924693), (1986, 0.01219633996115862), (4643, 0.012181152288206454), (2938, 0.012180967393750821), (467, 0.012167764203842859), (1960, 0.012167560475724285), (4285, 0.012142134760532596), (1472, 0.012127971902326574), (1488, 0.012121888440816785), (2227, 0.01212152414427633), (4265, 0.012117561474961631), (650, 0.012109931078527696), (4567, 0.012106490042237949), (1479, 0.01208074346821881), (3023, 0.012072117699338632), (2081, 0.012049580851752874), (3649, 0.01204535239652882), (3306, 0.012009589163402657), (2756, 0.012008057698120174), (2508, 0.012007047527103179), (4739, 0.011992697977918099), (189, 0.011963468067563952), (1575, 0.011948548021574027), (1147, 0.01194676687460103), (4329, 0.011936966523419145), (2510, 0.011926766349127597), (439, 0.011925777336802728), (3534, 0.011907826647340199), (826, 0.011905081517925107), (2507, 0.011878104578418801), (3441, 0.011855543838598336), (556, 0.011846481362408118), (940, 0.011840206485241566), (1793, 0.011838161231241942), (901, 0.011807039430326663), (829, 0.011800537834998627), (2260, 0.011789924081341208), (2543, 0.0117821374608273), (1107, 0.01177693806890347), (80, 0.011752103816999659), (4219, 0.011727920724466295), (4704, 0.01172463079975282), (2063, 0.011712086254376822), (4404, 0.011700984717014397), (419, 0.011696821324797742), (1389, 0.011677605442109973), (4359, 0.011676081017916265), (698, 0.011640629425935214), (2761, 0.011623383939533582), (2212, 0.011620933457270333), (1958, 0.011617195746604362), (975, 0.011577202862590579), (145, 0.011551438237368865), (3796, 0.011530282605379668), (1273, 0.011524215939987944), (3219, 0.011522841381674065), (2052, 0.011519133717795641), (242, 0.011505748696785742), (1850, 0.011499019696574674), (2773, 0.011495919884529427), (415, 0.011494306436939787), (976, 0.011488378770383079), (2971, 0.011483815310788282), (2451, 0.011481044025492796), (3641, 0.011469364029084606), (1894, 0.011462173502401236), (2139, 0.011461482770128794), (2942, 0.011448429125746255), (1770, 0.011426364474341994), (629, 0.011424111833945207), (2235, 0.011418608929342518), (37, 0.011413505783679572), (521, 0.011411848045199824), (499, 0.011405717275623697), (3703, 0.011403745503286421), (3439, 0.01140240423075706), (1641, 0.011392014204266762), (661, 0.011381101440565028), (958, 0.0113786174932318), (196, 0.011370404151787052), (2874, 0.011358207960643713), (4105, 0.0113581956187946), (3203, 0.011347387275144576), (4211, 0.01134523796458404), (3072, 0.011344415541365411), (1245, 0.0113135787811412), (2033, 0.011308043182708179), (3450, 0.011295234060771433), (533, 0.011272268969508767), (3976, 0.011271970102484343), (3335, 0.011263987931959856), (2666, 0.011256204803663614), (2583, 0.011253171952586951), (1399, 0.011244335120062328), (3258, 0.01124070945275943), (205, 0.011232619639320826), (322, 0.01122483949132577), (2674, 0.011217781423134688), (2538, 0.011212631626954107), (3823, 0.011211577466641566), (905, 0.01119274112853614), (301, 0.011170527544197117), (818, 0.011158235789299994), (3638, 0.011153773367372504), (1525, 0.011147175897967387), (2107, 0.011139377873207255), (3267, 0.011124825213631562), (863, 0.01112147841840105), (229, 0.01110136244673778), (214, 0.011101314507649906), (1017, 0.011100008432782192), (12, 0.011083408623208798), (2148, 0.011066854255103354), (476, 0.011060994760730181), (2864, 0.0110603214117818), (1194, 0.011057118023004273), (3526, 0.0110495779631005), (501, 0.011046344302879076), (504, 0.01104147881722512), (4678, 0.01102475314203784), (1633, 0.011022763710558395), (240, 0.011008019443791532), (1272, 0.011003581936835882), (2366, 0.011003370264894317), (1699, 0.010997393010391588), (3633, 0.010996500327367327), (1073, 0.010994522120963099), (230, 0.0109904160181464), (1203, 0.010970908431527121), (3944, 0.010970615494714193), (1902, 0.010970036788734733), (3294, 0.010950957103411818), (2461, 0.01093794350644637), (925, 0.010920202437202643), (160, 0.010915355249383734), (1141, 0.010913369615672004), (4510, 0.01090967983869642), (330, 0.010903435540143374), (427, 0.010895120214358586), (2804, 0.010892341064216614), (326, 0.01087978057973359), (1537, 0.010873317543023757), (625, 0.0108686696299383), (1322, 0.010865641571774318), (1330, 0.010861138479045098), (28, 0.010856159254118465), (3201, 0.010854318589766663), (1502, 0.010825976544800294), (1659, 0.010825756601785206), (659, 0.010819029589231699), (4515, 0.010802916545653235), (96, 0.010801314399891643), (562, 0.01078479588220485), (3007, 0.010780843488248917), (664, 0.010773864953620725), (2038, 0.010771540329798402), (3919, 0.010770779579757053), (411, 0.010752227195272792), (3378, 0.0107259676049824), (2788, 0.010722337362654539), (570, 0.01071293250456931), (3343, 0.010708389655268758), (1792, 0.010705177952589066), (2022, 0.010703731076862132), (260, 0.010700385263588649), (448, 0.010685474412823713), (1890, 0.010683582314018085), (87, 0.010677575331535849), (943, 0.010672825721656056), (2274, 0.010665678966536718), (1300, 0.010657799246053125), (2464, 0.010650851534902346), (3859, 0.010626542835827967), (329, 0.010623737496424894), (1587, 0.010617785867366445), (1078, 0.010616945287885936), (4380, 0.010609957033754681), (3445, 0.010602741992232156), (1797, 0.010602635947137756), (1319, 0.01059638409396315), (2454, 0.010595374320042032), (922, 0.010579478488363324), (462, 0.010575101322876687), (1440, 0.010571872946836073), (1305, 0.010531054029362023), (3621, 0.010530208691428622), (3642, 0.010529987091971131), (2812, 0.010528591618263677), (4778, 0.010525528898305787), (1596, 0.010522860024342114), (1234, 0.010514409477960314), (2473, 0.010513766484072032), (4206, 0.01051074095310834), (2645, 0.010501800742475276), (1836, 0.010498941184193197), (420, 0.010491262755113267), (3515, 0.01048982806127123), (4109, 0.01047495176585918), (1352, 0.010470186412793705), (555, 0.010464953582417334), (1122, 0.010458618918104028), (2343, 0.010446344538070184), (2578, 0.010438739649928485), (4346, 0.010437161334304244), (3444, 0.010435852719999115), (4665, 0.010430088688942676), (2535, 0.010425776272362157), (1247, 0.01041977746268327), (4039, 0.010405832715460668), (3056, 0.010390010431440158), (1851, 0.010379109179904266), (2008, 0.01036468450058498), (590, 0.010362845806682421), (1952, 0.010353092990998595), (1367, 0.010353082576851016), (175, 0.010352111817127467), (4225, 0.010340594009408243), (1182, 0.010333796955927916), (1817, 0.010321513460751717), (1441, 0.010315424388148153), (36, 0.010299559307242589), (4594, 0.01029047183210726), (1117, 0.01028203534124057), (3447, 0.010281739134082962), (1131, 0.010275596153923093), (1798, 0.010251823327084082), (3833, 0.0102358257468243), (275, 0.010231578196169447), (1967, 0.01021366676759493), (121, 0.010203823045676087), (2584, 0.010189272434789851), (2386, 0.010186831356239111), (3627, 0.010185995472057898), (1443, 0.010179822526636248), (376, 0.010178224239418509), (4222, 0.010175316578301084), (2766, 0.010169808443086834), (2355, 0.01016745298628033), (2328, 0.010163643946416083), (3311, 0.010158532151060983), (4744, 0.010155478884625263), (741, 0.010143308026509888), (1145, 0.010121198854717984), (1585, 0.010120541678439184), (1188, 0.010108510197464077), (3330, 0.0101007246076276), (733, 0.010091129266165295), (2752, 0.010086634103818404), (2377, 0.01008286854095917), (2732, 0.01006289728844354), (4197, 0.010059353359912369), (4348, 0.010057391598740972), (2078, 0.010054591227917655), (1447, 0.010051672930376418), (3848, 0.010047751633177279), (3622, 0.010040354911923847), (445, 0.010031501620641039), (3303, 0.010019164354541683), (1927, 0.010005736063329274), (1034, 0.00999399997883968), (3253, 0.009988732042900093), (358, 0.009976548801214154), (3278, 0.00994258555351712), (285, 0.009937913959478016), (2204, 0.009926456600430416), (117, 0.009920233446927792), (2651, 0.009917972083582683), (3085, 0.009917017225101916), (3076, 0.009909196087027972), (3049, 0.00990129796172871), (4668, 0.009885982921165166), (1545, 0.009867493725232563), (391, 0.009863928502154345), (2609, 0.00985506990575098), (628, 0.009852613240363116), (814, 0.00985139130582806), (1822, 0.009832297855645055), (3449, 0.009827449446845967), (1946, 0.009825799829394037), (2718, 0.009790721465102258), (469, 0.009787579902227183), (163, 0.009778502837204587), (1201, 0.009746802251296597), (1343, 0.009736448942662294), (3107, 0.009734900680068527), (3462, 0.009728639063537261), (4518, 0.009723696413339736), (836, 0.009713597801485173), (3082, 0.009706900028457746), (3482, 0.009704787534566927), (2039, 0.009694557270125928), (1361, 0.009693522307575007), (2348, 0.009688897994860652), (611, 0.009688791814883867), (519, 0.009684746821271236), (3123, 0.009682824820007077), (3257, 0.009679364017946357), (683, 0.009656951170878808), (2118, 0.00965454636943779), (1974, 0.009649422774795724), (3042, 0.00963585939748395), (2152, 0.009625573780276779), (1231, 0.009621251150129465), (3351, 0.009619383012671689), (1800, 0.00961582838181678), (494, 0.009611149615050413), (2080, 0.009596056991126025), (374, 0.009585427133796759), (315, 0.0095600642717029), (4709, 0.009554725649096223), (1668, 0.009554144025806729), (3757, 0.009545864978027995), (1513, 0.009539311102689149), (4204, 0.009535286933124198), (1327, 0.009532715492880667), (2865, 0.009532422662183368), (1006, 0.009529211231252855), (973, 0.009528947191992345), (3346, 0.00951008972242441), (2573, 0.009506537079359735), (3305, 0.00950453331017517), (4087, 0.009503985010162867), (312, 0.009497395342516977), (1458, 0.009496234720007763), (2669, 0.00949609133227826), (1281, 0.00947730169377344), (484, 0.009469976383333968), (4687, 0.009453712218926809), (2331, 0.009442119420454713), (2276, 0.009430614802284862), (4077, 0.009412068613037608), (3906, 0.009399548037835707), (929, 0.009398308758004945), (3870, 0.00938979877335848), (2253, 0.009384295377345576), (4127, 0.009368317449547206), (1255, 0.009360170007803804), (1293, 0.009357983476814718), (846, 0.009347912451580917), (2358, 0.009314294736516432), (4498, 0.009285822596058688), (308, 0.009249120426728142), (2985, 0.009222729778818007), (454, 0.009217474830747899), (1476, 0.009182857215559939), (2991, 0.009168623017187974), (1923, 0.009168465656455847), (1955, 0.009158023744498704), (2106, 0.009157450846861336), (2913, 0.009142958681814965), (244, 0.00913979535616716), (475, 0.009118195002883592), (527, 0.009092611509310207), (49, 0.009083526077187196), (1052, 0.009079823847941905), (4726, 0.009051295251859015), (4799, 0.009050826223919345), (3323, 0.009044991359556444), (2278, 0.009035283080663523), (787, 0.009019611192440881), (300, 0.008982997911096318), (170, 0.00896940777748873), (3093, 0.008962591298868994), (4209, 0.0089522956621875), (3097, 0.008929188503632668), (3733, 0.00891996215540018), (2623, 0.008891627540283302), (3350, 0.008888647515214877), (2730, 0.008882385327104616), (939, 0.00886888296431153), (2887, 0.00886736939724729), (3425, 0.00882580348490697), (1622, 0.008818733193628598), (3657, 0.008803752592964134), (3187, 0.00877387636672911), (2299, 0.008761054210121053), (4260, 0.008759377518849342), (3296, 0.008740743779680885), (2186, 0.008715528908027724), (1948, 0.00868635222751479), (3018, 0.008674621702421973), (2042, 0.008597797023836642), (2986, 0.008581849595224348), (1296, 0.008566650218576497), (4719, 0.008532292684483892), (3251, 0.00851068814635476), (3473, 0.008452976102927409), (1558, 0.00843913129194033), (1773, 0.00840847942022869), (340, 0.008339194731399024), (4394, 0.008322558580317939), (3229, 0.008319668549815255), (1404, 0.008314851053605585), (3143, 0.008309167412157804), (3256, 0.00828491319871255), (4672, 0.008200501650711027), (2782, 0.008108524136131562), (514, 0.008069471562517314), (325, 0.008017101729763752), (4626, 0.007976192863108866), (2138, 0.007931676527278077), (4261, 0.007925465196612892), (2336, 0.007740494913912234), (3481, 0.0076648758800609024), (3527, 0.00760804580941629), (4579, 0.00748372971643116), (1304, 0.0074253720010610215), (3899, 0.0074231094109197026), (2446, 0.007268629888845294), (4007, 0.007057597814333033), (2213, 0.00700475170873329), (1462, 0.006933768727336198), (1480, 0.006708296060627925), (4110, 0.006492247517918031), (2456, 0.005828445418274305), (0, 0.0), (3, 0.0), (4, 0.0), (6, 0.0), (7, 0.0), (9, 0.0), (10, 0.0), (13, 0.0), (14, 0.0), (15, 0.0), (16, 0.0), (18, 0.0), (19, 0.0), (20, 0.0), (21, 0.0), (22, 0.0), (24, 0.0), (25, 0.0), (26, 0.0), (27, 0.0), (31, 0.0), (32, 0.0), (33, 0.0), (34, 0.0), (38, 0.0), (39, 0.0), (40, 0.0), (41, 0.0), (42, 0.0), (43, 0.0), (44, 0.0), (46, 0.0), (47, 0.0), (48, 0.0), (50, 0.0), (51, 0.0), (52, 0.0), (53, 0.0), (54, 0.0), (55, 0.0), (56, 0.0), (57, 0.0), (59, 0.0), (60, 0.0), (61, 0.0), (62, 0.0), (63, 0.0), (65, 0.0), (66, 0.0), (67, 0.0), (68, 0.0), (69, 0.0), (70, 0.0), (71, 0.0), (72, 0.0), (73, 0.0), (74, 0.0), (75, 0.0), (76, 0.0), (77, 0.0), (78, 0.0), (79, 0.0), (81, 0.0), (84, 0.0), (85, 0.0), (86, 0.0), (89, 0.0), (90, 0.0), (91, 0.0), (92, 0.0), (93, 0.0), (94, 0.0), (99, 0.0), (100, 0.0), (101, 0.0), (103, 0.0), (104, 0.0), (105, 0.0), (106, 0.0), (107, 0.0), (108, 0.0), (109, 0.0), (112, 0.0), (118, 0.0), (119, 0.0), (120, 0.0), (122, 0.0), (123, 0.0), (125, 0.0), (126, 0.0), (127, 0.0), (128, 0.0), (129, 0.0), (130, 0.0), (131, 0.0), (132, 0.0), (133, 0.0), (134, 0.0), (136, 0.0), (137, 0.0), (138, 0.0), (139, 0.0), (140, 0.0), (141, 0.0), (142, 0.0), (143, 0.0), (144, 0.0), (146, 0.0), (147, 0.0), (148, 0.0), (149, 0.0), (150, 0.0), (151, 0.0), (152, 0.0), (153, 0.0), (154, 0.0), (155, 0.0), (156, 0.0), (157, 0.0), (158, 0.0), (159, 0.0), (165, 0.0), (166, 0.0), (167, 0.0), (168, 0.0), (169, 0.0), (171, 0.0), (173, 0.0), (174, 0.0), (176, 0.0), (177, 0.0), (178, 0.0), (179, 0.0), (180, 0.0), (181, 0.0), (182, 0.0), (183, 0.0), (184, 0.0), (185, 0.0), (186, 0.0), (187, 0.0), (192, 0.0), (194, 0.0), (195, 0.0), (198, 0.0), (199, 0.0), (200, 0.0), (201, 0.0), (203, 0.0), (204, 0.0), (206, 0.0), (207, 0.0), (209, 0.0), (210, 0.0), (212, 0.0), (213, 0.0), (216, 0.0), (218, 0.0), (219, 0.0), (220, 0.0), (221, 0.0), (222, 0.0), (223, 0.0), (224, 0.0), (225, 0.0), (227, 0.0), (231, 0.0), (232, 0.0), (233, 0.0), (234, 0.0), (235, 0.0), (236, 0.0), (239, 0.0), (243, 0.0), (246, 0.0), (248, 0.0), (249, 0.0), (250, 0.0), (252, 0.0), (253, 0.0), (254, 0.0), (255, 0.0), (256, 0.0), (257, 0.0), (258, 0.0), (259, 0.0), (262, 0.0), (263, 0.0), (264, 0.0), (265, 0.0), (266, 0.0), (267, 0.0), (268, 0.0), (272, 0.0), (273, 0.0), (274, 0.0), (278, 0.0), (279, 0.0), (280, 0.0), (281, 0.0), (282, 0.0), (283, 0.0), (284, 0.0), (286, 0.0), (287, 0.0), (288, 0.0), (289, 0.0), (290, 0.0), (291, 0.0), (292, 0.0), (293, 0.0), (294, 0.0), (295, 0.0), (297, 0.0), (298, 0.0), (299, 0.0), (302, 0.0), (303, 0.0), (304, 0.0), (305, 0.0), (306, 0.0), (307, 0.0), (309, 0.0), (310, 0.0), (311, 0.0), (313, 0.0), (314, 0.0), (317, 0.0), (318, 0.0), (319, 0.0), (320, 0.0), (321, 0.0), (324, 0.0), (327, 0.0), (328, 0.0), (331, 0.0), (333, 0.0), (334, 0.0), (335, 0.0), (338, 0.0), (339, 0.0), (341, 0.0), (342, 0.0), (343, 0.0), (344, 0.0), (345, 0.0), (347, 0.0), (348, 0.0), (349, 0.0), (350, 0.0), (351, 0.0), (352, 0.0), (353, 0.0), (355, 0.0), (356, 0.0), (357, 0.0), (359, 0.0), (360, 0.0), (361, 0.0), (362, 0.0), (364, 0.0), (365, 0.0), (366, 0.0), (367, 0.0), (368, 0.0), (369, 0.0), (370, 0.0), (371, 0.0), (372, 0.0), (373, 0.0), (375, 0.0), (377, 0.0), (378, 0.0), (379, 0.0), (380, 0.0), (381, 0.0), (382, 0.0), (383, 0.0), (384, 0.0), (385, 0.0), (386, 0.0), (387, 0.0), (389, 0.0), (390, 0.0), (393, 0.0), (394, 0.0), (395, 0.0), (396, 0.0), (397, 0.0), (398, 0.0), (399, 0.0), (400, 0.0), (401, 0.0), (402, 0.0), (403, 0.0), (405, 0.0), (406, 0.0), (408, 0.0), (410, 0.0), (412, 0.0), (413, 0.0), (414, 0.0), (416, 0.0), (418, 0.0), (421, 0.0), (422, 0.0), (423, 0.0), (424, 0.0), (425, 0.0), (426, 0.0), (428, 0.0), (429, 0.0), (430, 0.0), (431, 0.0), (432, 0.0), (433, 0.0), (434, 0.0), (436, 0.0), (437, 0.0), (438, 0.0), (441, 0.0), (442, 0.0), (443, 0.0), (444, 0.0), (446, 0.0), (447, 0.0), (449, 0.0), (450, 0.0), (452, 0.0), (453, 0.0), (455, 0.0), (456, 0.0), (457, 0.0), (458, 0.0), (460, 0.0), (461, 0.0), (465, 0.0), (466, 0.0), (468, 0.0), (471, 0.0), (472, 0.0), (473, 0.0), (477, 0.0), (478, 0.0), (479, 0.0), (480, 0.0), (481, 0.0), (483, 0.0), (485, 0.0), (487, 0.0), (488, 0.0), (489, 0.0), (490, 0.0), (492, 0.0), (495, 0.0), (498, 0.0), (500, 0.0), (503, 0.0), (505, 0.0), (507, 0.0), (508, 0.0), (509, 0.0), (510, 0.0), (511, 0.0), (512, 0.0), (513, 0.0), (515, 0.0), (516, 0.0), (520, 0.0), (522, 0.0), (523, 0.0), (524, 0.0), (526, 0.0), (529, 0.0), (530, 0.0), (531, 0.0), (534, 0.0), (537, 0.0), (538, 0.0), (539, 0.0), (540, 0.0), (541, 0.0), (543, 0.0), (544, 0.0), (545, 0.0), (546, 0.0), (547, 0.0), (548, 0.0), (549, 0.0), (550, 0.0), (552, 0.0), (553, 0.0), (554, 0.0), (557, 0.0), (558, 0.0), (559, 0.0), (560, 0.0), (561, 0.0), (563, 0.0), (564, 0.0), (565, 0.0), (566, 0.0), (567, 0.0), (568, 0.0), (569, 0.0), (571, 0.0), (572, 0.0), (573, 0.0), (574, 0.0), (575, 0.0), (577, 0.0), (578, 0.0), (579, 0.0), (580, 0.0), (581, 0.0), (582, 0.0), (585, 0.0), (586, 0.0), (587, 0.0), (588, 0.0), (592, 0.0), (593, 0.0), (594, 0.0), (596, 0.0), (599, 0.0), (600, 0.0), (601, 0.0), (602, 0.0), (603, 0.0), (604, 0.0), (605, 0.0), (606, 0.0), (607, 0.0), (608, 0.0), (609, 0.0), (610, 0.0), (612, 0.0), (613, 0.0), (614, 0.0), (615, 0.0), (618, 0.0), (619, 0.0), (620, 0.0), (621, 0.0), (622, 0.0), (623, 0.0), (626, 0.0), (627, 0.0), (631, 0.0), (634, 0.0), (635, 0.0), (636, 0.0), (639, 0.0), (640, 0.0), (641, 0.0), (642, 0.0), (643, 0.0), (644, 0.0), (645, 0.0), (646, 0.0), (647, 0.0), (648, 0.0), (651, 0.0), (652, 0.0), (655, 0.0), (656, 0.0), (658, 0.0), (662, 0.0), (663, 0.0), (665, 0.0), (667, 0.0), (668, 0.0), (670, 0.0), (671, 0.0), (672, 0.0), (673, 0.0), (674, 0.0), (675, 0.0), (677, 0.0), (679, 0.0), (680, 0.0), (684, 0.0), (685, 0.0), (686, 0.0), (687, 0.0), (688, 0.0), (690, 0.0), (691, 0.0), (692, 0.0), (693, 0.0), (694, 0.0), (695, 0.0), (696, 0.0), (697, 0.0), (699, 0.0), (700, 0.0), (701, 0.0), (702, 0.0), (704, 0.0), (705, 0.0), (706, 0.0), (707, 0.0), (708, 0.0), (709, 0.0), (710, 0.0), (711, 0.0), (712, 0.0), (714, 0.0), (715, 0.0), (716, 0.0), (717, 0.0), (718, 0.0), (719, 0.0), (720, 0.0), (721, 0.0), (722, 0.0), (723, 0.0), (725, 0.0), (726, 0.0), (727, 0.0), (728, 0.0), (729, 0.0), (730, 0.0), (731, 0.0), (732, 0.0), (734, 0.0), (736, 0.0), (737, 0.0), (738, 0.0), (739, 0.0), (742, 0.0), (744, 0.0), (745, 0.0), (746, 0.0), (747, 0.0), (748, 0.0), (749, 0.0), (750, 0.0), (751, 0.0), (752, 0.0), (753, 0.0), (755, 0.0), (756, 0.0), (757, 0.0), (758, 0.0), (760, 0.0), (761, 0.0), (762, 0.0), (763, 0.0), (764, 0.0), (765, 0.0), (767, 0.0), (769, 0.0), (772, 0.0), (773, 0.0), (774, 0.0), (777, 0.0), (780, 0.0), (782, 0.0), (783, 0.0), (786, 0.0), (788, 0.0), (789, 0.0), (790, 0.0), (792, 0.0), (793, 0.0), (794, 0.0), (796, 0.0), (798, 0.0), (800, 0.0), (803, 0.0), (804, 0.0), (805, 0.0), (806, 0.0), (807, 0.0), (808, 0.0), (809, 0.0), (810, 0.0), (813, 0.0), (816, 0.0), (819, 0.0), (821, 0.0), (822, 0.0), (823, 0.0), (824, 0.0), (825, 0.0), (828, 0.0), (831, 0.0), (832, 0.0), (833, 0.0), (834, 0.0), (835, 0.0), (837, 0.0), (839, 0.0), (840, 0.0), (841, 0.0), (842, 0.0), (843, 0.0), (844, 0.0), (845, 0.0), (847, 0.0), (848, 0.0), (850, 0.0), (851, 0.0), (852, 0.0), (853, 0.0), (854, 0.0), (855, 0.0), (856, 0.0), (857, 0.0), (858, 0.0), (859, 0.0), (860, 0.0), (861, 0.0), (865, 0.0), (866, 0.0), (870, 0.0), (871, 0.0), (872, 0.0), (873, 0.0), (874, 0.0), (876, 0.0), (877, 0.0), (878, 0.0), (879, 0.0), (881, 0.0), (882, 0.0), (883, 0.0), (885, 0.0), (886, 0.0), (889, 0.0), (890, 0.0), (893, 0.0), (894, 0.0), (895, 0.0), (896, 0.0), (897, 0.0), (898, 0.0), (899, 0.0), (900, 0.0), (902, 0.0), (904, 0.0), (906, 0.0), (908, 0.0), (911, 0.0), (913, 0.0), (914, 0.0), (915, 0.0), (916, 0.0), (917, 0.0), (918, 0.0), (919, 0.0), (920, 0.0), (921, 0.0), (927, 0.0), (928, 0.0), (930, 0.0), (932, 0.0), (933, 0.0), (934, 0.0), (935, 0.0), (936, 0.0), (938, 0.0), (941, 0.0), (944, 0.0), (946, 0.0), (949, 0.0), (950, 0.0), (951, 0.0), (952, 0.0), (954, 0.0), (955, 0.0), (957, 0.0), (959, 0.0), (960, 0.0), (961, 0.0), (962, 0.0), (963, 0.0), (964, 0.0), (965, 0.0), (966, 0.0), (967, 0.0), (968, 0.0), (969, 0.0), (972, 0.0), (974, 0.0), (977, 0.0), (979, 0.0), (982, 0.0), (983, 0.0), (985, 0.0), (986, 0.0), (988, 0.0), (989, 0.0), (992, 0.0), (993, 0.0), (994, 0.0), (995, 0.0), (996, 0.0), (997, 0.0), (998, 0.0), (999, 0.0), (1000, 0.0), (1001, 0.0), (1002, 0.0), (1003, 0.0), (1004, 0.0), (1005, 0.0), (1008, 0.0), (1009, 0.0), (1010, 0.0), (1012, 0.0), (1014, 0.0), (1015, 0.0), (1018, 0.0), (1019, 0.0), (1020, 0.0), (1021, 0.0), (1022, 0.0), (1023, 0.0), (1024, 0.0), (1025, 0.0), (1027, 0.0), (1028, 0.0), (1032, 0.0), (1033, 0.0), (1036, 0.0), (1037, 0.0), (1041, 0.0), (1043, 0.0), (1044, 0.0), (1046, 0.0), (1047, 0.0), (1048, 0.0), (1049, 0.0), (1051, 0.0), (1053, 0.0), (1054, 0.0), (1055, 0.0), (1057, 0.0), (1058, 0.0), (1060, 0.0), (1062, 0.0), (1064, 0.0), (1066, 0.0), (1067, 0.0), (1068, 0.0), (1069, 0.0), (1071, 0.0), (1072, 0.0), (1074, 0.0), (1075, 0.0), (1077, 0.0), (1079, 0.0), (1081, 0.0), (1082, 0.0), (1083, 0.0), (1084, 0.0), (1085, 0.0), (1086, 0.0), (1087, 0.0), (1088, 0.0), (1089, 0.0), (1090, 0.0), (1091, 0.0), (1092, 0.0), (1094, 0.0), (1095, 0.0), (1096, 0.0), (1097, 0.0), (1099, 0.0), (1101, 0.0), (1102, 0.0), (1103, 0.0), (1105, 0.0), (1106, 0.0), (1108, 0.0), (1110, 0.0), (1112, 0.0), (1113, 0.0), (1114, 0.0), (1115, 0.0), (1116, 0.0), (1118, 0.0), (1119, 0.0), (1121, 0.0), (1123, 0.0), (1124, 0.0), (1125, 0.0), (1126, 0.0), (1128, 0.0), (1130, 0.0), (1133, 0.0), (1134, 0.0), (1135, 0.0), (1136, 0.0), (1138, 0.0), (1139, 0.0), (1140, 0.0), (1142, 0.0), (1143, 0.0), (1144, 0.0), (1146, 0.0), (1148, 0.0), (1149, 0.0), (1150, 0.0), (1151, 0.0), (1152, 0.0), (1153, 0.0), (1154, 0.0), (1155, 0.0), (1156, 0.0), (1157, 0.0), (1158, 0.0), (1159, 0.0), (1161, 0.0), (1162, 0.0), (1163, 0.0), (1165, 0.0), (1166, 0.0), (1168, 0.0), (1169, 0.0), (1170, 0.0), (1171, 0.0), (1172, 0.0), (1173, 0.0), (1174, 0.0), (1176, 0.0), (1178, 0.0), (1180, 0.0), (1181, 0.0), (1184, 0.0), (1187, 0.0), (1189, 0.0), (1190, 0.0), (1191, 0.0), (1193, 0.0), (1195, 0.0), (1197, 0.0), (1199, 0.0), (1200, 0.0), (1202, 0.0), (1204, 0.0), (1206, 0.0), (1208, 0.0), (1209, 0.0), (1212, 0.0), (1214, 0.0), (1217, 0.0), (1220, 0.0), (1221, 0.0), (1222, 0.0), (1223, 0.0), (1225, 0.0), (1226, 0.0), (1228, 0.0), (1229, 0.0), (1230, 0.0), (1232, 0.0), (1235, 0.0), (1239, 0.0), (1241, 0.0), (1244, 0.0), (1246, 0.0), (1248, 0.0), (1249, 0.0), (1250, 0.0), (1251, 0.0), (1252, 0.0), (1253, 0.0), (1254, 0.0), (1257, 0.0), (1258, 0.0), (1259, 0.0), (1263, 0.0), (1264, 0.0), (1266, 0.0), (1267, 0.0), (1268, 0.0), (1269, 0.0), (1270, 0.0), (1274, 0.0), (1275, 0.0), (1276, 0.0), (1278, 0.0), (1279, 0.0), (1280, 0.0), (1282, 0.0), (1283, 0.0), (1285, 0.0), (1286, 0.0), (1287, 0.0), (1288, 0.0), (1290, 0.0), (1291, 0.0), (1294, 0.0), (1295, 0.0), (1297, 0.0), (1298, 0.0), (1301, 0.0), (1302, 0.0), (1303, 0.0), (1306, 0.0), (1307, 0.0), (1308, 0.0), (1311, 0.0), (1312, 0.0), (1315, 0.0), (1317, 0.0), (1320, 0.0), (1321, 0.0), (1323, 0.0), (1324, 0.0), (1325, 0.0), (1326, 0.0), (1328, 0.0), (1329, 0.0), (1331, 0.0), (1333, 0.0), (1334, 0.0), (1335, 0.0), (1336, 0.0), (1339, 0.0), (1340, 0.0), (1341, 0.0), (1342, 0.0), (1344, 0.0), (1345, 0.0), (1349, 0.0), (1350, 0.0), (1353, 0.0), (1355, 0.0), (1356, 0.0), (1357, 0.0), (1358, 0.0), (1359, 0.0), (1360, 0.0), (1362, 0.0), (1363, 0.0), (1364, 0.0), (1365, 0.0), (1368, 0.0), (1370, 0.0), (1371, 0.0), (1372, 0.0), (1376, 0.0), (1380, 0.0), (1381, 0.0), (1382, 0.0), (1383, 0.0), (1384, 0.0), (1385, 0.0), (1386, 0.0), (1387, 0.0), (1390, 0.0), (1392, 0.0), (1393, 0.0), (1394, 0.0), (1397, 0.0), (1398, 0.0), (1402, 0.0), (1405, 0.0), (1406, 0.0), (1409, 0.0), (1412, 0.0), (1413, 0.0), (1414, 0.0), (1415, 0.0), (1416, 0.0), (1417, 0.0), (1418, 0.0), (1419, 0.0), (1420, 0.0), (1421, 0.0), (1422, 0.0), (1423, 0.0), (1424, 0.0), (1425, 0.0), (1426, 0.0), (1427, 0.0), (1428, 0.0), (1429, 0.0), (1431, 0.0), (1432, 0.0), (1433, 0.0), (1434, 0.0), (1436, 0.0), (1438, 0.0), (1439, 0.0), (1442, 0.0), (1445, 0.0), (1448, 0.0), (1450, 0.0), (1451, 0.0), (1452, 0.0), (1453, 0.0), (1454, 0.0), (1455, 0.0), (1456, 0.0), (1457, 0.0), (1459, 0.0), (1461, 0.0), (1463, 0.0), (1464, 0.0), (1465, 0.0), (1466, 0.0), (1470, 0.0), (1477, 0.0), (1478, 0.0), (1481, 0.0), (1485, 0.0), (1487, 0.0), (1489, 0.0), (1490, 0.0), (1491, 0.0), (1492, 0.0), (1493, 0.0), (1495, 0.0), (1496, 0.0), (1497, 0.0), (1498, 0.0), (1499, 0.0), (1500, 0.0), (1503, 0.0), (1506, 0.0), (1507, 0.0), (1508, 0.0), (1509, 0.0), (1510, 0.0), (1511, 0.0), (1512, 0.0), (1514, 0.0), (1516, 0.0), (1517, 0.0), (1519, 0.0), (1520, 0.0), (1521, 0.0), (1522, 0.0), (1524, 0.0), (1526, 0.0), (1527, 0.0), (1528, 0.0), (1529, 0.0), (1530, 0.0), (1531, 0.0), (1532, 0.0), (1533, 0.0), (1536, 0.0), (1538, 0.0), (1539, 0.0), (1540, 0.0), (1541, 0.0), (1542, 0.0), (1544, 0.0), (1546, 0.0), (1547, 0.0), (1548, 0.0), (1550, 0.0), (1551, 0.0), (1552, 0.0), (1553, 0.0), (1554, 0.0), (1555, 0.0), (1556, 0.0), (1561, 0.0), (1562, 0.0), (1563, 0.0), (1564, 0.0), (1565, 0.0), (1566, 0.0), (1568, 0.0), (1569, 0.0), (1570, 0.0), (1571, 0.0), (1572, 0.0), (1576, 0.0), (1577, 0.0), (1579, 0.0), (1580, 0.0), (1581, 0.0), (1583, 0.0), (1584, 0.0), (1586, 0.0), (1588, 0.0), (1593, 0.0), (1594, 0.0), (1597, 0.0), (1600, 0.0), (1601, 0.0), (1602, 0.0), (1606, 0.0), (1607, 0.0), (1608, 0.0), (1610, 0.0), (1611, 0.0), (1614, 0.0), (1615, 0.0), (1616, 0.0), (1617, 0.0), (1618, 0.0), (1619, 0.0), (1620, 0.0), (1621, 0.0), (1623, 0.0), (1625, 0.0), (1626, 0.0), (1629, 0.0), (1630, 0.0), (1631, 0.0), (1632, 0.0), (1634, 0.0), (1635, 0.0), (1636, 0.0), (1639, 0.0), (1640, 0.0), (1643, 0.0), (1644, 0.0), (1650, 0.0), (1651, 0.0), (1652, 0.0), (1653, 0.0), (1656, 0.0), (1657, 0.0), (1658, 0.0), (1660, 0.0), (1661, 0.0), (1662, 0.0), (1663, 0.0), (1665, 0.0), (1666, 0.0), (1667, 0.0), (1669, 0.0), (1670, 0.0), (1671, 0.0), (1672, 0.0), (1673, 0.0), (1674, 0.0), (1676, 0.0), (1677, 0.0), (1678, 0.0), (1679, 0.0), (1680, 0.0), (1681, 0.0), (1682, 0.0), (1683, 0.0), (1686, 0.0), (1687, 0.0), (1688, 0.0), (1690, 0.0), (1691, 0.0), (1692, 0.0), (1694, 0.0), (1696, 0.0), (1697, 0.0), (1698, 0.0), (1700, 0.0), (1701, 0.0), (1702, 0.0), (1703, 0.0), (1705, 0.0), (1706, 0.0), (1709, 0.0), (1710, 0.0), (1711, 0.0), (1712, 0.0), (1713, 0.0), (1716, 0.0), (1717, 0.0), (1720, 0.0), (1721, 0.0), (1723, 0.0), (1724, 0.0), (1725, 0.0), (1727, 0.0), (1728, 0.0), (1730, 0.0), (1731, 0.0), (1732, 0.0), (1734, 0.0), (1736, 0.0), (1738, 0.0), (1740, 0.0), (1741, 0.0), (1742, 0.0), (1743, 0.0), (1744, 0.0), (1746, 0.0), (1747, 0.0), (1750, 0.0), (1752, 0.0), (1753, 0.0), (1754, 0.0), (1755, 0.0), (1756, 0.0), (1758, 0.0), (1759, 0.0), (1760, 0.0), (1761, 0.0), (1762, 0.0), (1763, 0.0), (1764, 0.0), (1765, 0.0), (1767, 0.0), (1768, 0.0), (1772, 0.0), (1774, 0.0), (1775, 0.0), (1776, 0.0), (1777, 0.0), (1778, 0.0), (1779, 0.0), (1781, 0.0), (1782, 0.0), (1783, 0.0), (1785, 0.0), (1787, 0.0), (1790, 0.0), (1794, 0.0), (1795, 0.0), (1796, 0.0), (1801, 0.0), (1802, 0.0), (1807, 0.0), (1808, 0.0), (1810, 0.0), (1811, 0.0), (1812, 0.0), (1813, 0.0), (1814, 0.0), (1815, 0.0), (1818, 0.0), (1821, 0.0), (1827, 0.0), (1829, 0.0), (1830, 0.0), (1831, 0.0), (1833, 0.0), (1835, 0.0), (1837, 0.0), (1840, 0.0), (1841, 0.0), (1842, 0.0), (1843, 0.0), (1844, 0.0), (1846, 0.0), (1847, 0.0), (1848, 0.0), (1852, 0.0), (1853, 0.0), (1854, 0.0), (1856, 0.0), (1857, 0.0), (1858, 0.0), (1859, 0.0), (1860, 0.0), (1861, 0.0), (1862, 0.0), (1863, 0.0), (1864, 0.0), (1865, 0.0), (1868, 0.0), (1871, 0.0), (1873, 0.0), (1875, 0.0), (1877, 0.0), (1878, 0.0), (1879, 0.0), (1880, 0.0), (1881, 0.0), (1882, 0.0), (1883, 0.0), (1885, 0.0), (1886, 0.0), (1887, 0.0), (1888, 0.0), (1889, 0.0), (1892, 0.0), (1895, 0.0), (1896, 0.0), (1897, 0.0), (1898, 0.0), (1899, 0.0), (1901, 0.0), (1904, 0.0), (1906, 0.0), (1907, 0.0), (1908, 0.0), (1912, 0.0), (1913, 0.0), (1915, 0.0), (1916, 0.0), (1917, 0.0), (1918, 0.0), (1919, 0.0), (1920, 0.0), (1921, 0.0), (1922, 0.0), (1924, 0.0), (1925, 0.0), (1928, 0.0), (1929, 0.0), (1930, 0.0), (1932, 0.0), (1933, 0.0), (1934, 0.0), (1935, 0.0), (1936, 0.0), (1937, 0.0), (1938, 0.0), (1940, 0.0), (1941, 0.0), (1942, 0.0), (1943, 0.0), (1944, 0.0), (1945, 0.0), (1950, 0.0), (1951, 0.0), (1953, 0.0), (1954, 0.0), (1957, 0.0), (1959, 0.0), (1962, 0.0), (1963, 0.0), (1964, 0.0), (1965, 0.0), (1966, 0.0), (1971, 0.0), (1972, 0.0), (1976, 0.0), (1977, 0.0), (1978, 0.0), (1979, 0.0), (1982, 0.0), (1983, 0.0), (1984, 0.0), (1985, 0.0), (1987, 0.0), (1989, 0.0), (1990, 0.0), (1991, 0.0), (1992, 0.0), (1994, 0.0), (1995, 0.0), (1996, 0.0), (2001, 0.0), (2002, 0.0), (2003, 0.0), (2004, 0.0), (2005, 0.0), (2006, 0.0), (2009, 0.0), (2010, 0.0), (2011, 0.0), (2012, 0.0), (2013, 0.0), (2015, 0.0), (2016, 0.0), (2019, 0.0), (2020, 0.0), (2023, 0.0), (2025, 0.0), (2026, 0.0), (2028, 0.0), (2030, 0.0), (2031, 0.0), (2032, 0.0), (2034, 0.0), (2035, 0.0), (2036, 0.0), (2037, 0.0), (2041, 0.0), (2043, 0.0), (2045, 0.0), (2046, 0.0), (2047, 0.0), (2048, 0.0), (2050, 0.0), (2051, 0.0), (2053, 0.0), (2054, 0.0), (2055, 0.0), (2056, 0.0), (2057, 0.0), (2058, 0.0), (2059, 0.0), (2060, 0.0), (2061, 0.0), (2062, 0.0), (2064, 0.0), (2065, 0.0), (2066, 0.0), (2067, 0.0), (2069, 0.0), (2071, 0.0), (2072, 0.0), (2074, 0.0), (2075, 0.0), (2077, 0.0), (2079, 0.0), (2082, 0.0), (2083, 0.0), (2085, 0.0), (2087, 0.0), (2089, 0.0), (2090, 0.0), (2092, 0.0), (2093, 0.0), (2097, 0.0), (2098, 0.0), (2099, 0.0), (2100, 0.0), (2101, 0.0), (2102, 0.0), (2103, 0.0), (2105, 0.0), (2109, 0.0), (2110, 0.0), (2111, 0.0), (2113, 0.0), (2114, 0.0), (2115, 0.0), (2116, 0.0), (2119, 0.0), (2121, 0.0), (2122, 0.0), (2123, 0.0), (2124, 0.0), (2126, 0.0), (2127, 0.0), (2128, 0.0), (2129, 0.0), (2130, 0.0), (2131, 0.0), (2134, 0.0), (2136, 0.0), (2140, 0.0), (2141, 0.0), (2142, 0.0), (2144, 0.0), (2145, 0.0), (2150, 0.0), (2154, 0.0), (2155, 0.0), (2156, 0.0), (2158, 0.0), (2159, 0.0), (2161, 0.0), (2165, 0.0), (2166, 0.0), (2167, 0.0), (2168, 0.0), (2172, 0.0), (2174, 0.0), (2175, 0.0), (2176, 0.0), (2177, 0.0), (2178, 0.0), (2179, 0.0), (2182, 0.0), (2183, 0.0), (2184, 0.0), (2185, 0.0), (2187, 0.0), (2189, 0.0), (2190, 0.0), (2191, 0.0), (2192, 0.0), (2193, 0.0), (2194, 0.0), (2195, 0.0), (2196, 0.0), (2197, 0.0), (2198, 0.0), (2199, 0.0), (2200, 0.0), (2201, 0.0), (2202, 0.0), (2203, 0.0), (2205, 0.0), (2206, 0.0), (2207, 0.0), (2209, 0.0), (2210, 0.0), (2211, 0.0), (2215, 0.0), (2216, 0.0), (2217, 0.0), (2218, 0.0), (2219, 0.0), (2220, 0.0), (2221, 0.0), (2222, 0.0), (2223, 0.0), (2225, 0.0), (2228, 0.0), (2229, 0.0), (2231, 0.0), (2232, 0.0), (2233, 0.0), (2234, 0.0), (2236, 0.0), (2238, 0.0), (2239, 0.0), (2241, 0.0), (2242, 0.0), (2244, 0.0), (2245, 0.0), (2246, 0.0), (2247, 0.0), (2249, 0.0), (2250, 0.0), (2251, 0.0), (2252, 0.0), (2254, 0.0), (2255, 0.0), (2256, 0.0), (2257, 0.0), (2258, 0.0), (2259, 0.0), (2262, 0.0), (2263, 0.0), (2266, 0.0), (2269, 0.0), (2270, 0.0), (2271, 0.0), (2272, 0.0), (2273, 0.0), (2275, 0.0), (2277, 0.0), (2279, 0.0), (2285, 0.0), (2287, 0.0), (2288, 0.0), (2289, 0.0), (2290, 0.0), (2291, 0.0), (2292, 0.0), (2294, 0.0), (2298, 0.0), (2300, 0.0), (2301, 0.0), (2304, 0.0), (2305, 0.0), (2307, 0.0), (2309, 0.0), (2310, 0.0), (2311, 0.0), (2312, 0.0), (2313, 0.0), (2314, 0.0), (2315, 0.0), (2316, 0.0), (2317, 0.0), (2319, 0.0), (2320, 0.0), (2322, 0.0), (2323, 0.0), (2324, 0.0), (2325, 0.0), (2326, 0.0), (2327, 0.0), (2330, 0.0), (2332, 0.0), (2333, 0.0), (2334, 0.0), (2335, 0.0), (2338, 0.0), (2340, 0.0), (2341, 0.0), (2344, 0.0), (2345, 0.0), (2349, 0.0), (2350, 0.0), (2351, 0.0), (2352, 0.0), (2353, 0.0), (2354, 0.0), (2356, 0.0), (2357, 0.0), (2359, 0.0), (2360, 0.0), (2361, 0.0), (2362, 0.0), (2363, 0.0), (2364, 0.0), (2365, 0.0), (2369, 0.0), (2370, 0.0), (2371, 0.0), (2372, 0.0), (2374, 0.0), (2375, 0.0), (2376, 0.0), (2378, 0.0), (2381, 0.0), (2382, 0.0), (2384, 0.0), (2385, 0.0), (2388, 0.0), (2390, 0.0), (2391, 0.0), (2392, 0.0), (2393, 0.0), (2395, 0.0), (2396, 0.0), (2397, 0.0), (2398, 0.0), (2399, 0.0), (2401, 0.0), (2404, 0.0), (2406, 0.0), (2407, 0.0), (2408, 0.0), (2411, 0.0), (2412, 0.0), (2414, 0.0), (2415, 0.0), (2418, 0.0), (2419, 0.0), (2421, 0.0), (2422, 0.0), (2424, 0.0), (2426, 0.0), (2427, 0.0), (2429, 0.0), (2431, 0.0), (2432, 0.0), (2434, 0.0), (2435, 0.0), (2436, 0.0), (2437, 0.0), (2439, 0.0), (2440, 0.0), (2441, 0.0), (2442, 0.0), (2443, 0.0), (2444, 0.0), (2448, 0.0), (2449, 0.0), (2452, 0.0), (2453, 0.0), (2457, 0.0), (2458, 0.0), (2459, 0.0), (2463, 0.0), (2465, 0.0), (2466, 0.0), (2467, 0.0), (2470, 0.0), (2471, 0.0), (2472, 0.0), (2474, 0.0), (2476, 0.0), (2478, 0.0), (2479, 0.0), (2480, 0.0), (2481, 0.0), (2482, 0.0), (2483, 0.0), (2484, 0.0), (2485, 0.0), (2486, 0.0), (2487, 0.0), (2488, 0.0), (2489, 0.0), (2490, 0.0), (2491, 0.0), (2492, 0.0), (2493, 0.0), (2494, 0.0), (2495, 0.0), (2496, 0.0), (2497, 0.0), (2498, 0.0), (2499, 0.0), (2502, 0.0), (2503, 0.0), (2504, 0.0), (2505, 0.0), (2512, 0.0), (2514, 0.0), (2515, 0.0), (2516, 0.0), (2517, 0.0), (2519, 0.0), (2521, 0.0), (2522, 0.0), (2523, 0.0), (2524, 0.0), (2525, 0.0), (2527, 0.0), (2528, 0.0), (2530, 0.0), (2531, 0.0), (2536, 0.0), (2537, 0.0), (2539, 0.0), (2542, 0.0), (2544, 0.0), (2545, 0.0), (2548, 0.0), (2550, 0.0), (2552, 0.0), (2556, 0.0), (2557, 0.0), (2558, 0.0), (2562, 0.0), (2563, 0.0), (2565, 0.0), (2566, 0.0), (2571, 0.0), (2572, 0.0), (2574, 0.0), (2579, 0.0), (2580, 0.0), (2582, 0.0), (2585, 0.0), (2587, 0.0), (2589, 0.0), (2590, 0.0), (2591, 0.0), (2592, 0.0), (2595, 0.0), (2598, 0.0), (2599, 0.0), (2601, 0.0), (2602, 0.0), (2603, 0.0), (2604, 0.0), (2605, 0.0), (2606, 0.0), (2607, 0.0), (2608, 0.0), (2611, 0.0), (2612, 0.0), (2615, 0.0), (2616, 0.0), (2617, 0.0), (2618, 0.0), (2619, 0.0), (2620, 0.0), (2622, 0.0), (2624, 0.0), (2625, 0.0), (2627, 0.0), (2629, 0.0), (2630, 0.0), (2631, 0.0), (2632, 0.0), (2633, 0.0), (2634, 0.0), (2636, 0.0), (2637, 0.0), (2638, 0.0), (2639, 0.0), (2641, 0.0), (2643, 0.0), (2644, 0.0), (2646, 0.0), (2648, 0.0), (2649, 0.0), (2650, 0.0), (2652, 0.0), (2653, 0.0), (2655, 0.0), (2656, 0.0), (2658, 0.0), (2659, 0.0), (2660, 0.0), (2662, 0.0), (2663, 0.0), (2664, 0.0), (2665, 0.0), (2667, 0.0), (2668, 0.0), (2670, 0.0), (2671, 0.0), (2672, 0.0), (2675, 0.0), (2678, 0.0), (2679, 0.0), (2680, 0.0), (2682, 0.0), (2683, 0.0), (2688, 0.0), (2689, 0.0), (2690, 0.0), (2694, 0.0), (2695, 0.0), (2697, 0.0), (2698, 0.0), (2699, 0.0), (2700, 0.0), (2702, 0.0), (2703, 0.0), (2704, 0.0), (2708, 0.0), (2709, 0.0), (2710, 0.0), (2711, 0.0), (2712, 0.0), (2713, 0.0), (2714, 0.0), (2719, 0.0), (2720, 0.0), (2721, 0.0), (2722, 0.0), (2723, 0.0), (2724, 0.0), (2725, 0.0), (2726, 0.0), (2727, 0.0), (2728, 0.0), (2729, 0.0), (2731, 0.0), (2734, 0.0), (2735, 0.0), (2736, 0.0), (2739, 0.0), (2740, 0.0), (2741, 0.0), (2743, 0.0), (2744, 0.0), (2745, 0.0), (2746, 0.0), (2747, 0.0), (2748, 0.0), (2750, 0.0), (2753, 0.0), (2754, 0.0), (2755, 0.0), (2757, 0.0), (2758, 0.0), (2763, 0.0), (2764, 0.0), (2765, 0.0), (2767, 0.0), (2768, 0.0), (2770, 0.0), (2771, 0.0), (2774, 0.0), (2775, 0.0), (2776, 0.0), (2777, 0.0), (2778, 0.0), (2779, 0.0), (2781, 0.0), (2783, 0.0), (2784, 0.0), (2785, 0.0), (2786, 0.0), (2787, 0.0), (2789, 0.0), (2790, 0.0), (2791, 0.0), (2792, 0.0), (2796, 0.0), (2798, 0.0), (2799, 0.0), (2801, 0.0), (2802, 0.0), (2806, 0.0), (2807, 0.0), (2810, 0.0), (2811, 0.0), (2814, 0.0), (2815, 0.0), (2818, 0.0), (2819, 0.0), (2821, 0.0), (2822, 0.0), (2823, 0.0), (2824, 0.0), (2825, 0.0), (2826, 0.0), (2829, 0.0), (2833, 0.0), (2834, 0.0), (2835, 0.0), (2837, 0.0), (2839, 0.0), (2840, 0.0), (2844, 0.0), (2846, 0.0), (2847, 0.0), (2849, 0.0), (2851, 0.0), (2852, 0.0), (2853, 0.0), (2854, 0.0), (2855, 0.0), (2856, 0.0), (2857, 0.0), (2859, 0.0), (2860, 0.0), (2861, 0.0), (2862, 0.0), (2866, 0.0), (2868, 0.0), (2869, 0.0), (2870, 0.0), (2871, 0.0), (2872, 0.0), (2873, 0.0), (2876, 0.0), (2878, 0.0), (2881, 0.0), (2882, 0.0), (2885, 0.0), (2886, 0.0), (2888, 0.0), (2889, 0.0), (2890, 0.0), (2892, 0.0), (2893, 0.0), (2894, 0.0), (2895, 0.0), (2896, 0.0), (2897, 0.0), (2898, 0.0), (2899, 0.0), (2900, 0.0), (2903, 0.0), (2904, 0.0), (2905, 0.0), (2906, 0.0), (2908, 0.0), (2909, 0.0), (2910, 0.0), (2912, 0.0), (2915, 0.0), (2916, 0.0), (2917, 0.0), (2918, 0.0), (2919, 0.0), (2921, 0.0), (2922, 0.0), (2923, 0.0), (2924, 0.0), (2926, 0.0), (2929, 0.0), (2930, 0.0), (2931, 0.0), (2933, 0.0), (2934, 0.0), (2936, 0.0), (2937, 0.0), (2939, 0.0), (2940, 0.0), (2945, 0.0), (2951, 0.0), (2952, 0.0), (2953, 0.0), (2954, 0.0), (2955, 0.0), (2956, 0.0), (2959, 0.0), (2961, 0.0), (2963, 0.0), (2969, 0.0), (2970, 0.0), (2972, 0.0), (2974, 0.0), (2975, 0.0), (2976, 0.0), (2978, 0.0), (2979, 0.0), (2981, 0.0), (2984, 0.0), (2987, 0.0), (2992, 0.0), (2993, 0.0), (2994, 0.0), (2995, 0.0), (2996, 0.0), (2999, 0.0), (3001, 0.0), (3003, 0.0), (3004, 0.0), (3008, 0.0), (3009, 0.0), (3012, 0.0), (3013, 0.0), (3016, 0.0), (3019, 0.0), (3020, 0.0), (3021, 0.0), (3022, 0.0), (3025, 0.0), (3028, 0.0), (3032, 0.0), (3033, 0.0), (3034, 0.0), (3035, 0.0), (3036, 0.0), (3037, 0.0), (3038, 0.0), (3039, 0.0), (3040, 0.0), (3041, 0.0), (3043, 0.0), (3045, 0.0), (3047, 0.0), (3048, 0.0), (3051, 0.0), (3052, 0.0), (3053, 0.0), (3054, 0.0), (3055, 0.0), (3057, 0.0), (3059, 0.0), (3060, 0.0), (3061, 0.0), (3062, 0.0), (3063, 0.0), (3066, 0.0), (3067, 0.0), (3068, 0.0), (3069, 0.0), (3071, 0.0), (3073, 0.0), (3074, 0.0), (3075, 0.0), (3077, 0.0), (3078, 0.0), (3079, 0.0), (3080, 0.0), (3083, 0.0), (3084, 0.0), (3086, 0.0), (3087, 0.0), (3088, 0.0), (3089, 0.0), (3091, 0.0), (3092, 0.0), (3094, 0.0), (3095, 0.0), (3096, 0.0), (3098, 0.0), (3099, 0.0), (3100, 0.0), (3102, 0.0), (3103, 0.0), (3105, 0.0), (3106, 0.0), (3109, 0.0), (3110, 0.0), (3111, 0.0), (3112, 0.0), (3113, 0.0), (3114, 0.0), (3115, 0.0), (3116, 0.0), (3117, 0.0), (3119, 0.0), (3125, 0.0), (3127, 0.0), (3128, 0.0), (3130, 0.0), (3131, 0.0), (3132, 0.0), (3134, 0.0), (3135, 0.0), (3136, 0.0), (3138, 0.0), (3139, 0.0), (3141, 0.0), (3142, 0.0), (3144, 0.0), (3148, 0.0), (3149, 0.0), (3150, 0.0), (3151, 0.0), (3152, 0.0), (3154, 0.0), (3155, 0.0), (3156, 0.0), (3160, 0.0), (3162, 0.0), (3164, 0.0), (3165, 0.0), (3166, 0.0), (3168, 0.0), (3171, 0.0), (3172, 0.0), (3173, 0.0), (3174, 0.0), (3177, 0.0), (3178, 0.0), (3179, 0.0), (3180, 0.0), (3183, 0.0), (3184, 0.0), (3185, 0.0), (3186, 0.0), (3188, 0.0), (3190, 0.0), (3191, 0.0), (3193, 0.0), (3194, 0.0), (3196, 0.0), (3197, 0.0), (3198, 0.0), (3199, 0.0), (3200, 0.0), (3202, 0.0), (3204, 0.0), (3205, 0.0), (3206, 0.0), (3208, 0.0), (3209, 0.0), (3211, 0.0), (3212, 0.0), (3213, 0.0), (3214, 0.0), (3215, 0.0), (3217, 0.0), (3218, 0.0), (3221, 0.0), (3223, 0.0), (3224, 0.0), (3226, 0.0), (3227, 0.0), (3228, 0.0), (3231, 0.0), (3232, 0.0), (3233, 0.0), (3234, 0.0), (3236, 0.0), (3237, 0.0), (3238, 0.0), (3239, 0.0), (3241, 0.0), (3242, 0.0), (3244, 0.0), (3245, 0.0), (3247, 0.0), (3248, 0.0), (3249, 0.0), (3254, 0.0), (3255, 0.0), (3259, 0.0), (3260, 0.0), (3261, 0.0), (3263, 0.0), (3264, 0.0), (3266, 0.0), (3268, 0.0), (3269, 0.0), (3270, 0.0), (3271, 0.0), (3272, 0.0), (3274, 0.0), (3275, 0.0), (3276, 0.0), (3277, 0.0), (3279, 0.0), (3280, 0.0), (3281, 0.0), (3282, 0.0), (3283, 0.0), (3285, 0.0), (3286, 0.0), (3289, 0.0), (3292, 0.0), (3293, 0.0), (3295, 0.0), (3297, 0.0), (3298, 0.0), (3299, 0.0), (3300, 0.0), (3301, 0.0), (3302, 0.0), (3304, 0.0), (3308, 0.0), (3309, 0.0), (3310, 0.0), (3314, 0.0), (3315, 0.0), (3316, 0.0), (3317, 0.0), (3318, 0.0), (3319, 0.0), (3320, 0.0), (3322, 0.0), (3324, 0.0), (3325, 0.0), (3326, 0.0), (3327, 0.0), (3328, 0.0), (3329, 0.0), (3334, 0.0), (3336, 0.0), (3338, 0.0), (3341, 0.0), (3344, 0.0), (3347, 0.0), (3348, 0.0), (3349, 0.0), (3352, 0.0), (3354, 0.0), (3358, 0.0), (3359, 0.0), (3362, 0.0), (3363, 0.0), (3365, 0.0), (3366, 0.0), (3367, 0.0), (3368, 0.0), (3370, 0.0), (3373, 0.0), (3375, 0.0), (3376, 0.0), (3377, 0.0), (3380, 0.0), (3381, 0.0), (3383, 0.0), (3385, 0.0), (3386, 0.0), (3387, 0.0), (3388, 0.0), (3389, 0.0), (3391, 0.0), (3392, 0.0), (3393, 0.0), (3395, 0.0), (3396, 0.0), (3397, 0.0), (3398, 0.0), (3399, 0.0), (3400, 0.0), (3403, 0.0), (3404, 0.0), (3406, 0.0), (3407, 0.0), (3408, 0.0), (3409, 0.0), (3412, 0.0), (3415, 0.0), (3417, 0.0), (3420, 0.0), (3421, 0.0), (3422, 0.0), (3424, 0.0), (3426, 0.0), (3427, 0.0), (3429, 0.0), (3430, 0.0), (3432, 0.0), (3433, 0.0), (3434, 0.0), (3435, 0.0), (3443, 0.0), (3446, 0.0), (3448, 0.0), (3451, 0.0), (3452, 0.0), (3453, 0.0), (3454, 0.0), (3456, 0.0), (3458, 0.0), (3459, 0.0), (3461, 0.0), (3463, 0.0), (3464, 0.0), (3465, 0.0), (3466, 0.0), (3468, 0.0), (3470, 0.0), (3471, 0.0), (3472, 0.0), (3474, 0.0), (3475, 0.0), (3477, 0.0), (3478, 0.0), (3479, 0.0), (3480, 0.0), (3484, 0.0), (3485, 0.0), (3487, 0.0), (3488, 0.0), (3489, 0.0), (3490, 0.0), (3491, 0.0), (3492, 0.0), (3493, 0.0), (3494, 0.0), (3495, 0.0), (3496, 0.0), (3497, 0.0), (3498, 0.0), (3500, 0.0), (3501, 0.0), (3502, 0.0), (3503, 0.0), (3504, 0.0), (3505, 0.0), (3506, 0.0), (3507, 0.0), (3509, 0.0), (3510, 0.0), (3512, 0.0), (3513, 0.0), (3514, 0.0), (3516, 0.0), (3517, 0.0), (3518, 0.0), (3519, 0.0), (3520, 0.0), (3521, 0.0), (3522, 0.0), (3523, 0.0), (3525, 0.0), (3528, 0.0), (3530, 0.0), (3531, 0.0), (3532, 0.0), (3535, 0.0), (3536, 0.0), (3537, 0.0), (3538, 0.0), (3539, 0.0), (3540, 0.0), (3541, 0.0), (3542, 0.0), (3543, 0.0), (3544, 0.0), (3545, 0.0), (3546, 0.0), (3547, 0.0), (3550, 0.0), (3552, 0.0), (3553, 0.0), (3556, 0.0), (3557, 0.0), (3564, 0.0), (3565, 0.0), (3567, 0.0), (3568, 0.0), (3570, 0.0), (3571, 0.0), (3573, 0.0), (3575, 0.0), (3577, 0.0), (3578, 0.0), (3579, 0.0), (3580, 0.0), (3581, 0.0), (3583, 0.0), (3584, 0.0), (3585, 0.0), (3587, 0.0), (3588, 0.0), (3590, 0.0), (3591, 0.0), (3594, 0.0), (3596, 0.0), (3599, 0.0), (3603, 0.0), (3605, 0.0), (3606, 0.0), (3607, 0.0), (3609, 0.0), (3610, 0.0), (3612, 0.0), (3613, 0.0), (3614, 0.0), (3615, 0.0), (3618, 0.0), (3619, 0.0), (3620, 0.0), (3623, 0.0), (3624, 0.0), (3625, 0.0), (3626, 0.0), (3628, 0.0), (3632, 0.0), (3634, 0.0), (3635, 0.0), (3636, 0.0), (3637, 0.0), (3639, 0.0), (3643, 0.0), (3644, 0.0), (3645, 0.0), (3646, 0.0), (3647, 0.0), (3650, 0.0), (3651, 0.0), (3654, 0.0), (3655, 0.0), (3659, 0.0), (3660, 0.0), (3661, 0.0), (3662, 0.0), (3663, 0.0), (3664, 0.0), (3665, 0.0), (3666, 0.0), (3667, 0.0), (3668, 0.0), (3669, 0.0), (3670, 0.0), (3673, 0.0), (3674, 0.0), (3675, 0.0), (3678, 0.0), (3681, 0.0), (3682, 0.0), (3684, 0.0), (3685, 0.0), (3686, 0.0), (3687, 0.0), (3688, 0.0), (3689, 0.0), (3693, 0.0), (3694, 0.0), (3697, 0.0), (3698, 0.0), (3699, 0.0), (3700, 0.0), (3701, 0.0), (3702, 0.0), (3704, 0.0), (3706, 0.0), (3707, 0.0), (3708, 0.0), (3709, 0.0), (3710, 0.0), (3711, 0.0), (3712, 0.0), (3713, 0.0), (3714, 0.0), (3716, 0.0), (3718, 0.0), (3719, 0.0), (3721, 0.0), (3722, 0.0), (3724, 0.0), (3726, 0.0), (3729, 0.0), (3730, 0.0), (3731, 0.0), (3735, 0.0), (3738, 0.0), (3740, 0.0), (3741, 0.0), (3745, 0.0), (3746, 0.0), (3747, 0.0), (3748, 0.0), (3750, 0.0), (3751, 0.0), (3753, 0.0), (3754, 0.0), (3755, 0.0), (3759, 0.0), (3760, 0.0), (3764, 0.0), (3765, 0.0), (3766, 0.0), (3767, 0.0), (3768, 0.0), (3769, 0.0), (3770, 0.0), (3771, 0.0), (3772, 0.0), (3773, 0.0), (3775, 0.0), (3776, 0.0), (3777, 0.0), (3779, 0.0), (3780, 0.0), (3781, 0.0), (3782, 0.0), (3783, 0.0), (3784, 0.0), (3786, 0.0), (3787, 0.0), (3788, 0.0), (3789, 0.0), (3790, 0.0), (3792, 0.0), (3793, 0.0), (3797, 0.0), (3798, 0.0), (3799, 0.0), (3800, 0.0), (3801, 0.0), (3802, 0.0), (3803, 0.0), (3804, 0.0), (3809, 0.0), (3810, 0.0), (3811, 0.0), (3812, 0.0), (3813, 0.0), (3814, 0.0), (3815, 0.0), (3816, 0.0), (3817, 0.0), (3818, 0.0), (3819, 0.0), (3820, 0.0), (3821, 0.0), (3822, 0.0), (3824, 0.0), (3825, 0.0), (3826, 0.0), (3827, 0.0), (3830, 0.0), (3831, 0.0), (3832, 0.0), (3834, 0.0), (3836, 0.0), (3838, 0.0), (3839, 0.0), (3842, 0.0), (3844, 0.0), (3847, 0.0), (3849, 0.0), (3850, 0.0), (3851, 0.0), (3852, 0.0), (3854, 0.0), (3855, 0.0), (3856, 0.0), (3857, 0.0), (3860, 0.0), (3862, 0.0), (3864, 0.0), (3865, 0.0), (3866, 0.0), (3867, 0.0), (3868, 0.0), (3869, 0.0), (3871, 0.0), (3874, 0.0), (3876, 0.0), (3878, 0.0), (3879, 0.0), (3880, 0.0), (3883, 0.0), (3884, 0.0), (3887, 0.0), (3888, 0.0), (3890, 0.0), (3891, 0.0), (3892, 0.0), (3894, 0.0), (3897, 0.0), (3898, 0.0), (3900, 0.0), (3901, 0.0), (3903, 0.0), (3904, 0.0), (3905, 0.0), (3908, 0.0), (3909, 0.0), (3910, 0.0), (3911, 0.0), (3912, 0.0), (3913, 0.0), (3914, 0.0), (3915, 0.0), (3916, 0.0), (3917, 0.0), (3918, 0.0), (3921, 0.0), (3922, 0.0), (3923, 0.0), (3924, 0.0), (3925, 0.0), (3926, 0.0), (3927, 0.0), (3928, 0.0), (3932, 0.0), (3933, 0.0), (3935, 0.0), (3936, 0.0), (3937, 0.0), (3938, 0.0), (3940, 0.0), (3941, 0.0), (3942, 0.0), (3943, 0.0), (3945, 0.0), (3947, 0.0), (3949, 0.0), (3950, 0.0), (3951, 0.0), (3952, 0.0), (3955, 0.0), (3956, 0.0), (3959, 0.0), (3960, 0.0), (3961, 0.0), (3963, 0.0), (3965, 0.0), (3966, 0.0), (3967, 0.0), (3968, 0.0), (3969, 0.0), (3970, 0.0), (3971, 0.0), (3972, 0.0), (3973, 0.0), (3974, 0.0), (3975, 0.0), (3977, 0.0), (3979, 0.0), (3983, 0.0), (3984, 0.0), (3986, 0.0), (3987, 0.0), (3989, 0.0), (3991, 0.0), (3992, 0.0), (3993, 0.0), (3994, 0.0), (3995, 0.0), (3996, 0.0), (3997, 0.0), (3999, 0.0), (4000, 0.0), (4001, 0.0), (4002, 0.0), (4003, 0.0), (4004, 0.0), (4006, 0.0), (4010, 0.0), (4012, 0.0), (4013, 0.0), (4014, 0.0), (4015, 0.0), (4017, 0.0), (4019, 0.0), (4021, 0.0), (4022, 0.0), (4023, 0.0), (4024, 0.0), (4025, 0.0), (4026, 0.0), (4027, 0.0), (4028, 0.0), (4029, 0.0), (4030, 0.0), (4032, 0.0), (4033, 0.0), (4034, 0.0), (4037, 0.0), (4040, 0.0), (4041, 0.0), (4042, 0.0), (4043, 0.0), (4044, 0.0), (4045, 0.0), (4046, 0.0), (4047, 0.0), (4048, 0.0), (4049, 0.0), (4050, 0.0), (4051, 0.0), (4054, 0.0), (4055, 0.0), (4056, 0.0), (4057, 0.0), (4059, 0.0), (4060, 0.0), (4062, 0.0), (4063, 0.0), (4064, 0.0), (4065, 0.0), (4067, 0.0), (4068, 0.0), (4070, 0.0), (4071, 0.0), (4073, 0.0), (4075, 0.0), (4076, 0.0), (4078, 0.0), (4081, 0.0), (4082, 0.0), (4083, 0.0), (4084, 0.0), (4085, 0.0), (4086, 0.0), (4088, 0.0), (4090, 0.0), (4091, 0.0), (4092, 0.0), (4093, 0.0), (4094, 0.0), (4095, 0.0), (4096, 0.0), (4098, 0.0), (4099, 0.0), (4101, 0.0), (4104, 0.0), (4106, 0.0), (4107, 0.0), (4108, 0.0), (4111, 0.0), (4112, 0.0), (4113, 0.0), (4115, 0.0), (4117, 0.0), (4118, 0.0), (4119, 0.0), (4120, 0.0), (4121, 0.0), (4122, 0.0), (4123, 0.0), (4124, 0.0), (4136, 0.0), (4140, 0.0), (4141, 0.0), (4142, 0.0), (4143, 0.0), (4144, 0.0), (4146, 0.0), (4147, 0.0), (4148, 0.0), (4149, 0.0), (4152, 0.0), (4153, 0.0), (4154, 0.0), (4155, 0.0), (4156, 0.0), (4158, 0.0), (4160, 0.0), (4161, 0.0), (4162, 0.0), (4163, 0.0), (4164, 0.0), (4165, 0.0), (4166, 0.0), (4167, 0.0), (4168, 0.0), (4169, 0.0), (4172, 0.0), (4173, 0.0), (4174, 0.0), (4175, 0.0), (4176, 0.0), (4177, 0.0), (4178, 0.0), (4180, 0.0), (4181, 0.0), (4182, 0.0), (4183, 0.0), (4184, 0.0), (4187, 0.0), (4188, 0.0), (4189, 0.0), (4191, 0.0), (4193, 0.0), (4194, 0.0), (4196, 0.0), (4198, 0.0), (4199, 0.0), (4201, 0.0), (4202, 0.0), (4203, 0.0), (4205, 0.0), (4208, 0.0), (4210, 0.0), (4212, 0.0), (4215, 0.0), (4216, 0.0), (4217, 0.0), (4218, 0.0), (4220, 0.0), (4223, 0.0), (4226, 0.0), (4227, 0.0), (4229, 0.0), (4230, 0.0), (4231, 0.0), (4235, 0.0), (4236, 0.0), (4238, 0.0), (4239, 0.0), (4241, 0.0), (4242, 0.0), (4243, 0.0), (4244, 0.0), (4246, 0.0), (4247, 0.0), (4250, 0.0), (4252, 0.0), (4253, 0.0), (4254, 0.0), (4255, 0.0), (4256, 0.0), (4259, 0.0), (4263, 0.0), (4267, 0.0), (4268, 0.0), (4269, 0.0), (4270, 0.0), (4271, 0.0), (4272, 0.0), (4273, 0.0), (4275, 0.0), (4276, 0.0), (4279, 0.0), (4283, 0.0), (4286, 0.0), (4287, 0.0), (4288, 0.0), (4289, 0.0), (4290, 0.0), (4292, 0.0), (4293, 0.0), (4294, 0.0), (4295, 0.0), (4296, 0.0), (4297, 0.0), (4298, 0.0), (4300, 0.0), (4301, 0.0), (4302, 0.0), (4304, 0.0), (4305, 0.0), (4307, 0.0), (4309, 0.0), (4310, 0.0), (4311, 0.0), (4312, 0.0), (4314, 0.0), (4315, 0.0), (4319, 0.0), (4320, 0.0), (4322, 0.0), (4324, 0.0), (4326, 0.0), (4331, 0.0), (4332, 0.0), (4333, 0.0), (4334, 0.0), (4335, 0.0), (4337, 0.0), (4339, 0.0), (4342, 0.0), (4345, 0.0), (4349, 0.0), (4350, 0.0), (4351, 0.0), (4352, 0.0), (4354, 0.0), (4355, 0.0), (4356, 0.0), (4360, 0.0), (4361, 0.0), (4362, 0.0), (4363, 0.0), (4365, 0.0), (4366, 0.0), (4367, 0.0), (4369, 0.0), (4370, 0.0), (4372, 0.0), (4374, 0.0), (4375, 0.0), (4376, 0.0), (4377, 0.0), (4379, 0.0), (4381, 0.0), (4382, 0.0), (4383, 0.0), (4384, 0.0), (4386, 0.0), (4387, 0.0), (4388, 0.0), (4389, 0.0), (4391, 0.0), (4392, 0.0), (4393, 0.0), (4395, 0.0), (4396, 0.0), (4397, 0.0), (4398, 0.0), (4399, 0.0), (4400, 0.0), (4401, 0.0), (4402, 0.0), (4403, 0.0), (4405, 0.0), (4406, 0.0), (4407, 0.0), (4408, 0.0), (4409, 0.0), (4410, 0.0), (4411, 0.0), (4412, 0.0), (4413, 0.0), (4416, 0.0), (4417, 0.0), (4418, 0.0), (4419, 0.0), (4422, 0.0), (4423, 0.0), (4425, 0.0), (4426, 0.0), (4430, 0.0), (4431, 0.0), (4432, 0.0), (4434, 0.0), (4436, 0.0), (4437, 0.0), (4438, 0.0), (4439, 0.0), (4440, 0.0), (4442, 0.0), (4443, 0.0), (4444, 0.0), (4445, 0.0), (4446, 0.0), (4448, 0.0), (4449, 0.0), (4451, 0.0), (4452, 0.0), (4453, 0.0), (4454, 0.0), (4455, 0.0), (4456, 0.0), (4458, 0.0), (4459, 0.0), (4460, 0.0), (4461, 0.0), (4462, 0.0), (4465, 0.0), (4468, 0.0), (4470, 0.0), (4471, 0.0), (4474, 0.0), (4475, 0.0), (4479, 0.0), (4480, 0.0), (4481, 0.0), (4482, 0.0), (4483, 0.0), (4484, 0.0), (4485, 0.0), (4486, 0.0), (4487, 0.0), (4490, 0.0), (4491, 0.0), (4492, 0.0), (4493, 0.0), (4494, 0.0), (4495, 0.0), (4499, 0.0), (4500, 0.0), (4501, 0.0), (4502, 0.0), (4503, 0.0), (4504, 0.0), (4506, 0.0), (4507, 0.0), (4508, 0.0), (4511, 0.0), (4512, 0.0), (4513, 0.0), (4517, 0.0), (4519, 0.0), (4520, 0.0), (4521, 0.0), (4522, 0.0), (4523, 0.0), (4524, 0.0), (4525, 0.0), (4526, 0.0), (4528, 0.0), (4529, 0.0), (4531, 0.0), (4532, 0.0), (4533, 0.0), (4534, 0.0), (4535, 0.0), (4536, 0.0), (4537, 0.0), (4538, 0.0), (4540, 0.0), (4541, 0.0), (4542, 0.0), (4544, 0.0), (4546, 0.0), (4547, 0.0), (4549, 0.0), (4550, 0.0), (4553, 0.0), (4554, 0.0), (4555, 0.0), (4556, 0.0), (4557, 0.0), (4559, 0.0), (4560, 0.0), (4561, 0.0), (4562, 0.0), (4564, 0.0), (4565, 0.0), (4566, 0.0), (4569, 0.0), (4570, 0.0), (4571, 0.0), (4572, 0.0), (4575, 0.0), (4576, 0.0), (4578, 0.0), (4580, 0.0), (4581, 0.0), (4582, 0.0), (4583, 0.0), (4586, 0.0), (4589, 0.0), (4591, 0.0), (4592, 0.0), (4593, 0.0), (4597, 0.0), (4599, 0.0), (4600, 0.0), (4601, 0.0), (4604, 0.0), (4606, 0.0), (4607, 0.0), (4609, 0.0), (4611, 0.0), (4614, 0.0), (4615, 0.0), (4616, 0.0), (4617, 0.0), (4618, 0.0), (4619, 0.0), (4621, 0.0), (4622, 0.0), (4623, 0.0), (4627, 0.0), (4630, 0.0), (4632, 0.0), (4633, 0.0), (4634, 0.0), (4635, 0.0), (4636, 0.0), (4637, 0.0), (4638, 0.0), (4639, 0.0), (4640, 0.0), (4641, 0.0), (4642, 0.0), (4645, 0.0), (4646, 0.0), (4647, 0.0), (4649, 0.0), (4650, 0.0), (4651, 0.0), (4652, 0.0), (4653, 0.0), (4656, 0.0), (4657, 0.0), (4659, 0.0), (4660, 0.0), (4661, 0.0), (4662, 0.0), (4663, 0.0), (4664, 0.0), (4666, 0.0), (4667, 0.0), (4670, 0.0), (4671, 0.0), (4673, 0.0), (4674, 0.0), (4676, 0.0), (4677, 0.0), (4679, 0.0), (4681, 0.0), (4685, 0.0), (4686, 0.0), (4688, 0.0), (4689, 0.0), (4690, 0.0), (4691, 0.0), (4692, 0.0), (4693, 0.0), (4694, 0.0), (4695, 0.0), (4697, 0.0), (4698, 0.0), (4699, 0.0), (4700, 0.0), (4701, 0.0), (4702, 0.0), (4703, 0.0), (4705, 0.0), (4706, 0.0), (4708, 0.0), (4710, 0.0), (4711, 0.0), (4712, 0.0), (4713, 0.0), (4714, 0.0), (4715, 0.0), (4716, 0.0), (4717, 0.0), (4718, 0.0), (4720, 0.0), (4721, 0.0), (4722, 0.0), (4725, 0.0), (4727, 0.0), (4729, 0.0), (4730, 0.0), (4731, 0.0), (4732, 0.0), (4733, 0.0), (4734, 0.0), (4736, 0.0), (4737, 0.0), (4738, 0.0), (4740, 0.0), (4741, 0.0), (4742, 0.0), (4743, 0.0), (4746, 0.0), (4750, 0.0), (4751, 0.0), (4755, 0.0), (4759, 0.0), (4760, 0.0), (4761, 0.0), (4762, 0.0), (4763, 0.0), (4766, 0.0), (4768, 0.0), (4769, 0.0), (4770, 0.0), (4772, 0.0), (4773, 0.0), (4774, 0.0), (4775, 0.0), (4779, 0.0), (4780, 0.0), (4781, 0.0), (4782, 0.0), (4784, 0.0), (4785, 0.0), (4786, 0.0), (4787, 0.0), (4789, 0.0), (4790, 0.0), (4793, 0.0), (4795, 0.0), (4796, 0.0), (4797, 0.0), (4798, 0.0), (4802, 0.0)]\n"
     ]
    }
   ],
   "source": [
    "# sorting the movies based on their similarity score (sorting this in reverse order )\n",
    "\n",
    "sorted_similar_movies = sorted(similarity_score, key = lambda x:x[1], reverse = True) \n",
    "print(sorted_similar_movies)"
   ]
  },
  {
   "cell_type": "code",
   "execution_count": 26,
   "id": "11b64534",
   "metadata": {},
   "outputs": [
    {
     "name": "stdout",
     "output_type": "stream",
     "text": [
      "Movies suggested for you : \n",
      "\n",
      "1 . Mama\n",
      "2 . Oblivion\n",
      "3 . The Other Woman\n",
      "4 . Gods of Egypt\n",
      "5 . Headhunters\n",
      "6 . Miss Julie\n",
      "7 . Jack Brooks: Monster Slayer\n",
      "8 . Poltergeist III\n",
      "9 . The Visual Bible: The Gospel of John\n",
      "10 . Take Shelter\n",
      "11 . Zero Dark Thirty\n",
      "12 . The Martian\n",
      "13 . The Covenant\n",
      "14 . Jennifer's Body\n",
      "15 . A Most Violent Year\n",
      "16 . The Tree of Life\n",
      "17 . The Tuxedo\n",
      "18 . The Age of Adaline\n",
      "19 . The Debt\n",
      "20 . Monster-in-Law\n",
      "21 . The Help\n",
      "22 . Autumn in New York\n",
      "23 . The Book Thief\n",
      "24 . The Huntsman: Winter's War\n",
      "25 . Interstellar\n",
      "26 . Lady in the Water\n",
      "27 . Ever After: A Cinderella Story\n",
      "28 . It Follows\n",
      "29 . Ink\n",
      "30 . Coriolanus\n"
     ]
    }
   ],
   "source": [
    "# print the name of similar movies based on the index\n",
    "\n",
    "print('Movies suggested for you : \\n')\n",
    "\n",
    "i = 1\n",
    "\n",
    "for movie in sorted_similar_movies:\n",
    "  index = movie[0]\n",
    "  title_from_index = movies_data[movies_data.index==index]['title'].values[0]\n",
    "  if (i<31):\n",
    "    print(i, '.',title_from_index)\n",
    "    i+=1"
   ]
  },
  {
   "cell_type": "markdown",
   "id": "e60b8ce4",
   "metadata": {},
   "source": [
    "## Movie recommendation system"
   ]
  },
  {
   "cell_type": "code",
   "execution_count": 28,
   "id": "a9fa1241",
   "metadata": {},
   "outputs": [
    {
     "name": "stdout",
     "output_type": "stream",
     "text": [
      " Enter your favourite movie name : iron man\n",
      "Movies suggested for you : \n",
      "\n",
      "1 . Iron Man\n",
      "2 . Iron Man 2\n",
      "3 . Iron Man 3\n",
      "4 . Avengers: Age of Ultron\n",
      "5 . The Avengers\n",
      "6 . Captain America: Civil War\n",
      "7 . Captain America: The Winter Soldier\n",
      "8 . Ant-Man\n",
      "9 . X-Men\n",
      "10 . Made\n",
      "11 . X-Men: Apocalypse\n",
      "12 . X2\n",
      "13 . The Incredible Hulk\n",
      "14 . The Helix... Loaded\n",
      "15 . X-Men: First Class\n",
      "16 . X-Men: Days of Future Past\n",
      "17 . Captain America: The First Avenger\n",
      "18 . Kick-Ass 2\n",
      "19 . Guardians of the Galaxy\n",
      "20 . Deadpool\n",
      "21 . Thor: The Dark World\n",
      "22 . G-Force\n",
      "23 . X-Men: The Last Stand\n",
      "24 . Duets\n",
      "25 . Mortdecai\n",
      "26 . The Last Airbender\n",
      "27 . Southland Tales\n",
      "28 . Zathura: A Space Adventure\n",
      "29 . Sky Captain and the World of Tomorrow\n"
     ]
    }
   ],
   "source": [
    "movie_name = input(' Enter your favourite movie name : ')\n",
    "\n",
    "list_of_all_titles = movies_data['title'].tolist()\n",
    "list_of_all_titles = [x for x in list_of_all_titles if str(x) != 'nan']\n",
    "\n",
    "find_close_match = difflib.get_close_matches(movie_name, list_of_all_titles)\n",
    "\n",
    "close_match = find_close_match[0]\n",
    "\n",
    "index_of_the_movie = movies_data[movies_data.title == close_match]['index'].values[0]\n",
    "\n",
    "similarity_score = list(enumerate(similarity[index_of_the_movie]))\n",
    "\n",
    "sorted_similar_movies = sorted(similarity_score, key = lambda x:x[1], reverse = True) \n",
    "\n",
    "print('Movies suggested for you : \\n')\n",
    "\n",
    "i = 1\n",
    "\n",
    "for movie in sorted_similar_movies:\n",
    "  index = movie[0]\n",
    "  title_from_index = movies_data[movies_data.index==index]['title'].values[0]\n",
    "  if (i<30):\n",
    "    print(i, '.',title_from_index)\n",
    "    i+=1"
   ]
  },
  {
   "cell_type": "code",
   "execution_count": null,
   "id": "0e228eb8",
   "metadata": {},
   "outputs": [],
   "source": []
  }
 ],
 "metadata": {
  "kernelspec": {
   "display_name": "Python 3 (ipykernel)",
   "language": "python",
   "name": "python3"
  },
  "language_info": {
   "codemirror_mode": {
    "name": "ipython",
    "version": 3
   },
   "file_extension": ".py",
   "mimetype": "text/x-python",
   "name": "python",
   "nbconvert_exporter": "python",
   "pygments_lexer": "ipython3",
   "version": "3.9.12"
  }
 },
 "nbformat": 4,
 "nbformat_minor": 5
}
